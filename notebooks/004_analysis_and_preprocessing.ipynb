{
 "cells": [
  {
   "cell_type": "markdown",
   "id": "iKkpLR81WR6D",
   "metadata": {
    "id": "iKkpLR81WR6D"
   },
   "source": [
    "<div align=\"center\">\n",
    "    <img src='https://media-exp1.licdn.com/dms/image/C561BAQFV4oU27rzxaQ/company-background_10000/0/1562869489836?e=2147483647&v=beta&t=OMHL6Izxqw7r8S5fn9gDQM1hNMKgo3yqMlH1F3Iwm9o' style='height:300px;'>\n",
    "</div>\n",
    "\n",
    "\n",
    "<center><h1 style='font-size:35px'>Exploración y Curación de Datos - Melburn Australia</h1></center>\n",
    "\n",
    "---\n",
    "\n",
    "**Fecha de creación: 14/05/2022**\n",
    "\n",
    "**Autores**:\n",
    "* Marilina Trevisan (marilinatrevisan@gmail.com).\n",
    "* Gustavo Ariel Venchiarutti (gustavo.venchiarutti@gmail.com).\n",
    "* Ani Salama (anisalama@gmail.com).\n",
    "* Anahí Sulca (nanisulca@gmail.com).\n",
    "* Agustín Trulli (agustintrulli@gmail.com).\n",
    "\n",
    "**Grupo: 6**\n",
    "\n",
    "En la primera parte el objetivo es utilizar sencias SQL envevidas en en los codigos del notebook. Vamos a realizar una analisis de las ventas inmoviliarias en la ciudad de Melburn Australia, para eso utilizamos el conjunto de datos de [la compentencia Kaggle](https://www.kaggle.com/dansbecker/melbourne-housing-snapshot). Ademas vamos a realizar la union con la tabla de Alquires, tambien de la misma ciudad.\n",
    "\n",
    "En la segunda parte del ejercicio vamos a realizar la mismas actividades que en el punto anterior pero directamente sobre la codificacion de pandas."
   ]
  },
  {
   "cell_type": "markdown",
   "id": "e0ff301b-5595-4a0b-a2b8-3d5609a0485d",
   "metadata": {
    "id": "e0ff301b-5595-4a0b-a2b8-3d5609a0485d"
   },
   "source": [
    "# Trabajo práctico entregable - parte 1\n",
    "\n",
    "En esta notebook, vamos a cargar el conjunto de datos de [la compentencia Kaggle](https://www.kaggle.com/dansbecker/melbourne-housing-snapshot) sobre estimación de precios de ventas de propiedades en Melbourne, Australia.\n",
    "\n",
    "Utilizaremos el conjunto de datos reducido producido por [DanB](https://www.kaggle.com/dansbecker). Hemos subido una copia a un servidor de la Universidad Nacional de Córdoba para facilitar su acceso remoto."
   ]
  },
  {
   "cell_type": "code",
   "execution_count": 2,
   "id": "f5ac98f7-51f3-4f91-ac49-60ef5fe249be",
   "metadata": {
    "id": "f5ac98f7-51f3-4f91-ac49-60ef5fe249be"
   },
   "outputs": [],
   "source": [
    "import os\n",
    "\n",
    "import matplotlib.pyplot as plt\n",
    "import numpy\n",
    "import pandas as pd\n",
    "import io\n",
    "\n",
    "import seaborn\n",
    "seaborn.set_context('talk')\n",
    "\n",
    "#from decouple import config\n",
    "from sqlalchemy import create_engine, text\n",
    "import io\n",
    "import sqlite3"
   ]
  },
  {
   "cell_type": "code",
   "execution_count": null,
   "id": "78b6246c",
   "metadata": {},
   "outputs": [],
   "source": [
    "ROOT_PATH = os.path.dirname(os.getcwd())\n",
    "DATA_PATH = os.path.join(ROOT_PATH, 'data', 'preprocessed')"
   ]
  },
  {
   "cell_type": "code",
   "execution_count": null,
   "id": "ce478cbd-0f49-4f15-8dc5-1fe1a5b39f17",
   "metadata": {
    "colab": {
     "base_uri": "https://localhost:8080/",
     "height": 35
    },
    "id": "ce478cbd-0f49-4f15-8dc5-1fe1a5b39f17",
    "outputId": "71b7446a-a88f-43c8-8c42-cb232e4993ba"
   },
   "outputs": [],
   "source": [
    "import plotly\n",
    "plotly.__version__\n",
    "# Make sure it's 4.14.3"
   ]
  },
  {
   "cell_type": "code",
   "execution_count": null,
   "id": "5ba8bfd5-199a-4390-a5b4-11ec9669b3e1",
   "metadata": {
    "colab": {
     "base_uri": "https://localhost:8080/",
     "height": 306
    },
    "id": "5ba8bfd5-199a-4390-a5b4-11ec9669b3e1",
    "outputId": "65f5b95d-8514-4563-fa74-7f7e82338698"
   },
   "outputs": [],
   "source": [
    "melb_df = pd.read_csv(\n",
    "    'https://cs.famaf.unc.edu.ar/~mteruel/datasets/diplodatos/melb_data.csv')\n",
    "melb_df[:3]"
   ]
  },
  {
   "cell_type": "markdown",
   "id": "6cffe5bf-2498-498c-aa06-3e61422d91e6",
   "metadata": {
    "id": "6cffe5bf-2498-498c-aa06-3e61422d91e6"
   },
   "source": [
    "## Ejercicio 1 SQL: \n",
    "\n",
    "\n",
    "\n"
   ]
  },
  {
   "cell_type": "markdown",
   "id": "u3RTZEvt30HD",
   "metadata": {
    "id": "u3RTZEvt30HD"
   },
   "source": [
    "###Parte 1:\n",
    "\n",
    "Crear un motor de base de datos en SQLite utilizando la libreria [SQLalchemy](https://stackoverflow.com/questions/2268050/execute-sql-from-file-in-sqlalchemy).\n",
    "https://docs.sqlalchemy.org/en/14/core/engines.html#sqlite"
   ]
  },
  {
   "cell_type": "code",
   "execution_count": null,
   "id": "22abf9e1",
   "metadata": {},
   "outputs": [],
   "source": [
    "# Generamos el motor de SQL con el nombre engine\n",
    "path = os.path.join(DATA_PATH, 'motor_sql.sqlite3')\n",
    "engine = create_engine(f'sqlite:///{path}', echo=True)"
   ]
  },
  {
   "cell_type": "markdown",
   "id": "mSM64KDE2EHo",
   "metadata": {
    "id": "mSM64KDE2EHo"
   },
   "source": [
    "###Parte 2: \n",
    "Ingestar los datos provistos en 'https://cs.famaf.unc.edu.ar/~mteruel/datasets/diplodatos/melb_data.csv' en una tabla y el dataset generado en clase con datos de airbnb y sus precios por codigo postal en otra.\n",
    "\n"
   ]
  },
  {
   "cell_type": "markdown",
   "id": "BCU044NfQsYW",
   "metadata": {
    "id": "BCU044NfQsYW"
   },
   "source": [
    "####Seccion 1\n",
    "\n",
    "Genero una tabla SQL **ven_melburn** con las columnas y los valores del data frame melb_df"
   ]
  },
  {
   "cell_type": "code",
   "execution_count": null,
   "id": "mZZSikR73Ccx",
   "metadata": {
    "colab": {
     "base_uri": "https://localhost:8080/"
    },
    "id": "mZZSikR73Ccx",
    "outputId": "7b10055a-0b51-47b9-ece9-720ce3f15d7f"
   },
   "outputs": [],
   "source": [
    "# Creamos una tabla de SQL ven_melburn y le cargo los datos del data frame melb_df\n",
    "melb_df.to_sql('ven_melburn', con=engine, if_exists=\"replace\")"
   ]
  },
  {
   "cell_type": "code",
   "execution_count": null,
   "id": "oLPBehShamp7",
   "metadata": {
    "colab": {
     "base_uri": "https://localhost:8080/",
     "height": 115
    },
    "id": "oLPBehShamp7",
    "outputId": "e8a4b728-7af2-4276-ff17-5c7552ba0962"
   },
   "outputs": [],
   "source": [
    "# Corremos un SQL de consulta como control rápido sobre la base\n",
    "con = engine.connect()\n",
    "rs = con.execute(\"SELECT count(*) FROM ven_melburn\")\n",
    "ven_df = pd.DataFrame(rs.fetchall())\n",
    "ven_df.columns=rs.keys()\n",
    "con.close()\n",
    "ven_df"
   ]
  },
  {
   "cell_type": "markdown",
   "id": "_wi9-iIVUfLU",
   "metadata": {
    "id": "_wi9-iIVUfLU"
   },
   "source": [
    "####Seccion 2\n",
    "\n",
    "Levanto el archivo **airbnb_price_by_zipcode.csv** que generamos en clase con los datos de alquileres de Melburne. Analizamos el dataframe antes de pasarlo a una tabla SQL"
   ]
  },
  {
   "cell_type": "code",
   "execution_count": null,
   "id": "1h5iBKt7fV0t",
   "metadata": {
    "colab": {
     "base_uri": "https://localhost:8080/",
     "height": 73,
     "resources": {
      "http://localhost:8080/nbextensions/google.colab/files.js": {
       "data": "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",
       "headers": [
        [
         "content-type",
         "application/javascript"
        ]
       ],
       "ok": true,
       "status": 200,
       "status_text": ""
      }
     }
    },
    "id": "1h5iBKt7fV0t",
    "outputId": "bb0e3e26-827f-4a2a-bcce-ed0809094063"
   },
   "outputs": [],
   "source": [
    "# Levantamos el dataset de airbnb\n",
    "RAW_DATA_PATH = os.path.join(ROOT_PATH, 'data', 'raw')\n",
    "airbnb_df = pd.read_csv(os.path.join(RAW_DATA_PATH, 'airbnb_price_by_zipcode.csv'))"
   ]
  },
  {
   "cell_type": "code",
   "execution_count": null,
   "id": "l-bhXgrQgfEt",
   "metadata": {
    "colab": {
     "base_uri": "https://localhost:8080/"
    },
    "id": "l-bhXgrQgfEt",
    "outputId": "8c8e7e4a-0339-48e9-8f38-25458b51e8a8"
   },
   "outputs": [],
   "source": [
    "# Cuento cuantos registros tiene el data frame que cargue\n",
    "len(airbnb_df)"
   ]
  },
  {
   "cell_type": "code",
   "execution_count": null,
   "id": "pWNdHv6sCJfW",
   "metadata": {
    "colab": {
     "base_uri": "https://localhost:8080/"
    },
    "id": "pWNdHv6sCJfW",
    "outputId": "2407a2e9-e540-4d85-8452-536d8a82706e"
   },
   "outputs": [],
   "source": [
    "# Analizamos la información del data frame que subimos para verificar las columnas\n",
    "# y nombres que tenemos disponibles\n",
    "airbnb_df.info()"
   ]
  },
  {
   "cell_type": "markdown",
   "id": "Tj4eb4XKcZSV",
   "metadata": {
    "id": "Tj4eb4XKcZSV"
   },
   "source": [
    "####Seccion 3\n",
    "\n",
    "Generamos una tabla SQL **alq_melburn** con las columnas y los valores del data frame airbnb_df"
   ]
  },
  {
   "cell_type": "code",
   "execution_count": null,
   "id": "WARnPP-kiNus",
   "metadata": {
    "colab": {
     "base_uri": "https://localhost:8080/"
    },
    "id": "WARnPP-kiNus",
    "outputId": "2667a2a6-7658-4e7e-ef7d-6d34fa00b0e4"
   },
   "outputs": [],
   "source": [
    "# Creo una tabla de SQL alq_melburn y le cargo los datos del data frame airbnb_df\n",
    "airbnb_df.to_sql('alq_melburn', con=engine, if_exists=\"replace\")"
   ]
  },
  {
   "cell_type": "code",
   "execution_count": null,
   "id": "D9aVyuSRdI59",
   "metadata": {
    "colab": {
     "base_uri": "https://localhost:8080/",
     "height": 115
    },
    "id": "D9aVyuSRdI59",
    "outputId": "bc73abb7-7105-40b6-f91a-886191ee748b"
   },
   "outputs": [],
   "source": [
    "# Corremos un SQL de consulta como control rapido sobre la base\n",
    "con = engine.connect()\n",
    "rs = con.execute(\"SELECT count(*) FROM alq_melburn\")\n",
    "alq_df = pd.DataFrame(rs.fetchall())\n",
    "alq_df.columns=rs.keys()\n",
    "con.close()\n",
    "alq_df"
   ]
  },
  {
   "cell_type": "markdown",
   "id": "RdbUUZqx3fPf",
   "metadata": {
    "id": "RdbUUZqx3fPf"
   },
   "source": [
    "###Parte 3:\n",
    "\n",
    "Implementar consultas en SQL que respondan con la siguiente información:\n",
    "\n",
    "    - cantidad de registros totales por ciudad.\n",
    "    - cantidad de registros totales por barrio y ciudad.\n",
    "\n",
    " \n",
    "\n"
   ]
  },
  {
   "cell_type": "markdown",
   "id": "3YaiAhIRXpii",
   "metadata": {
    "id": "3YaiAhIRXpii"
   },
   "source": [
    "####Seccion 1\n",
    "\n",
    "Consultas sobre la tabla de Ventas en la ciudad de Melburn. \n",
    "https://dingoos.com/donde-vivir-en-melbourne/"
   ]
  },
  {
   "cell_type": "code",
   "execution_count": null,
   "id": "EebH1Ezrw8ao",
   "metadata": {
    "colab": {
     "base_uri": "https://localhost:8080/"
    },
    "id": "EebH1Ezrw8ao",
    "outputId": "2a6ff566-b6a6-4ccd-d48b-10e3f12b8882"
   },
   "outputs": [],
   "source": [
    "# Primero tenemos que analizar la información, para eso usamos\n",
    "# el formato de data frame\n",
    "melb_df.info()"
   ]
  },
  {
   "cell_type": "code",
   "execution_count": null,
   "id": "juXzApmIdjhp",
   "metadata": {
    "colab": {
     "base_uri": "https://localhost:8080/"
    },
    "id": "juXzApmIdjhp",
    "outputId": "24d84af2-3212-40d6-f353-2b38046a8240"
   },
   "outputs": [],
   "source": [
    "# Toda la informacion que tenemos en el data frame correspone a Melburne\n",
    "# por lo tanto podemos utilizar la Region como ciudades que forman parte \n",
    "# de Melburne  \n",
    "melb_df.Regionname.unique()"
   ]
  },
  {
   "cell_type": "code",
   "execution_count": null,
   "id": "TDZFdGyOCzUe",
   "metadata": {
    "colab": {
     "base_uri": "https://localhost:8080/",
     "height": 335
    },
    "id": "TDZFdGyOCzUe",
    "outputId": "648f0da1-316c-46bd-e72f-2b66bc97ac95"
   },
   "outputs": [],
   "source": [
    "# Corremos las sentencia SQL y presentamos la informacion usando \n",
    "# las tablas en formato pandas. Contamos los registros totales por\n",
    "# Region considerando que las regiones son ciudades\n",
    "con = engine.connect()\n",
    "rs = con.execute(\"SELECT Regionname, count(*) as Registros \\\n",
    "                  FROM ven_melburn \\\n",
    "                  GROUP BY Regionname\")\n",
    "ven1_df = pd.DataFrame(rs.fetchall())\n",
    "ven1_df.columns=rs.keys()\n",
    "con.close()\n",
    "ven1_df"
   ]
  },
  {
   "cell_type": "code",
   "execution_count": null,
   "id": "3aUCY1SKTxQv",
   "metadata": {
    "colab": {
     "base_uri": "https://localhost:8080/",
     "height": 478
    },
    "id": "3aUCY1SKTxQv",
    "outputId": "14f34218-8cd3-4b77-891e-802c8af0a2a5"
   },
   "outputs": [],
   "source": [
    "# Corremos las sentencia SQL y presntamos la información usando las tablas \n",
    "# en formato pandas. Contamos los registros totales por Region considerando\n",
    "# que las regiones son ciudades y los Suburb son los Barrios\n",
    "con = engine.connect()\n",
    "rs = con.execute(\"SELECT Regionname AS Region, Suburb AS Barrio, round(AVG(price),2) AS Precio_Medio,\\\n",
    "                         count(*) AS Registros\\\n",
    "                  FROM ven_melburn \\\n",
    "                  GROUP BY Regionname, Suburb\")\n",
    "ven2_df = pd.DataFrame(rs.fetchall())\n",
    "ven2_df.columns=rs.keys()\n",
    "con.close()\n",
    "ven2_df"
   ]
  },
  {
   "cell_type": "markdown",
   "id": "wO6cqxwU3oeG",
   "metadata": {
    "id": "wO6cqxwU3oeG"
   },
   "source": [
    "###Parte 4\n",
    "Combinar los datasets de ambas tablas ingestadas utilizando el comando JOIN de SQL  para obtener un resultado similar a lo realizado con Pandas en clase. \n",
    "\n",
    "**merged_sales_df = melb_df.merge(airbnb_price_by_zipcode, how='left',  left_on='Postcode', right_on='zipcode'**"
   ]
  },
  {
   "cell_type": "code",
   "execution_count": null,
   "id": "DIWAvh7Jctmz",
   "metadata": {
    "colab": {
     "base_uri": "https://localhost:8080/"
    },
    "id": "DIWAvh7Jctmz",
    "outputId": "12636263-1dc5-4446-b755-84764c9fee54"
   },
   "outputs": [],
   "source": [
    "# Primero analizamos la información de los data frame que vamos a unir\n",
    "\n",
    "melb_df.info()"
   ]
  },
  {
   "cell_type": "code",
   "execution_count": null,
   "id": "dpebE6ABZIT9",
   "metadata": {
    "colab": {
     "base_uri": "https://localhost:8080/"
    },
    "id": "dpebE6ABZIT9",
    "outputId": "b10b9792-99d4-4779-8c59-9b56a469a8ed"
   },
   "outputs": [],
   "source": [
    "airbnb_df.info()"
   ]
  },
  {
   "cell_type": "code",
   "execution_count": null,
   "id": "ghWekf-9jajT",
   "metadata": {
    "colab": {
     "base_uri": "https://localhost:8080/",
     "height": 852
    },
    "id": "ghWekf-9jajT",
    "outputId": "8a03efc9-01fd-4c5d-c423-bbe2f3595e36"
   },
   "outputs": [],
   "source": [
    "# Despues de analizar ambos df, podemos ver que los campos de union de las tablas tienen el mismo Dtype\n",
    "# entoncees ejecutamos tres sentencias SQL para registrar toda la informacion en una tabla !!! resultado !!!\n",
    "\n",
    "# 1_ Sentencia de SQL para borrar una tabla si ya existe. \n",
    "conexion = engine.connect() \n",
    "borrar_tabla = conexion.execute(\"DROP TABLE IF EXISTS resultado\") \n",
    "conexion.close()\n",
    "\n",
    "#2_ Sentencia de SQL para crear una tabla desde un SELECT, a esta tabla la llamamos resultado. \n",
    "conexion=engine.connect() \n",
    "crear_tabla = conexion.execute(\"CREATE TABLE resultado AS \\\n",
    "                                             SELECT * FROM ven_melburn \\\n",
    "                                             LEFT JOIN alq_melburn ON \\\n",
    "                                             ven_melburn.Postcode = alq_melburn.zipcode\")\n",
    "conexion.close()\n",
    "\n",
    "#3_ Sentencia de consulta de la información en la tabla nueva resumen. Tengo un resultado para mostrar\n",
    "conexion=engine.connect()\n",
    "resultado_ven = conexion.execute(\"SELECT * FROM resultado\")\n",
    "df_resultado_ven = pd.DataFrame(resultado_ven.fetchall())\n",
    "# La sentencia abajo, coloca los nombres a las columnas en la tabla del df sino aparecen numeros\n",
    "df_resultado_ven.columns = resultado_ven.keys()\n",
    "conexion.close()\n",
    "df_resultado_ven"
   ]
  },
  {
   "cell_type": "markdown",
   "id": "z87Lzs-7WIWJ",
   "metadata": {
    "id": "z87Lzs-7WIWJ"
   },
   "source": [
    "Se realiza el JOIN de tablas manteniendo todos los datos de la tabla de Ventas que consideramos para nuestro análisis, a esta información lo que hacemos es agregar los precios de alquileres promediados en la zona que abarca el zipcode (LEFT JOIN). De esta forma tenemos información de las dos alternativas posibles considerando la zona donde se encuentra la propiedad. "
   ]
  },
  {
   "cell_type": "code",
   "execution_count": null,
   "id": "7c65576b",
   "metadata": {},
   "outputs": [],
   "source": [
    "DATA_PATH"
   ]
  },
  {
   "cell_type": "code",
   "execution_count": null,
   "id": "bAdOBXxznFnu",
   "metadata": {
    "colab": {
     "base_uri": "https://localhost:8080/"
    },
    "id": "bAdOBXxznFnu",
    "outputId": "d3af6c72-329a-4e02-9058-3a6e2fdb43ff"
   },
   "outputs": [],
   "source": [
    "# La nueva tabla que combina ambas tablas se pasa a un archivo csv\n",
    "conexion=engine.connect() \n",
    "db_df = pd.read_sql_query(\"SELECT * FROM resultado\", conexion)\n",
    "db_df.to_csv(os.path.join(DATA_PATH, 'resultado_join.csv'), index=False)"
   ]
  },
  {
   "cell_type": "code",
   "execution_count": null,
   "id": "2fbe3278",
   "metadata": {},
   "outputs": [],
   "source": [
    "# si se quiere ver el resultado:\n",
    "# result = pd.read_csv(os.path.join(DATA_PATH, 'resultado_join.csv'))"
   ]
  },
  {
   "cell_type": "markdown",
   "id": "c5468c4f-5cdf-4df4-a317-60e1fb0c00db",
   "metadata": {
    "id": "c5468c4f-5cdf-4df4-a317-60e1fb0c00db"
   },
   "source": [
    "## Ejercicio 2: "
   ]
  },
  {
   "cell_type": "markdown",
   "id": "NKkOkuhPqgGf",
   "metadata": {
    "id": "NKkOkuhPqgGf"
   },
   "source": [
    "### Parte 1\n",
    "\n",
    "Seleccionar un subconjunto de columnas que les parezcan relevantes al problema de predicción del valor de la propiedad. Justificar las columnas seleccionadas y las que no lo fueron.\n",
    " - Eliminar los valores extremos que no sean relevantes para la predicción de valores de las propiedades."
   ]
  },
  {
   "cell_type": "code",
   "execution_count": null,
   "id": "U6O8sIFHruA9",
   "metadata": {
    "colab": {
     "base_uri": "https://localhost:8080/"
    },
    "id": "U6O8sIFHruA9",
    "outputId": "5e4e9ecd-966e-43a9-f394-24e55ea74862"
   },
   "outputs": [],
   "source": [
    "# Tomamos el data frame de Melburne con los datos de ventas de viviendas\n",
    "melb_df.info()"
   ]
  },
  {
   "cell_type": "markdown",
   "id": "n15waCkvoSX4",
   "metadata": {
    "id": "n15waCkvoSX4"
   },
   "source": [
    "####Sección 1\n",
    "\n",
    "Seleccionamos algunas columnas del data frame que pueden servir para analizar los precios de las propiedades de Melburne.\n",
    "Las variables seleccionadas son las que consideramos que de alguna manera pueden afectar al precio de la vivienda al momento de realizar la venta. Además pueden ser de utilidad cuando en pasos posteriores necesitemos otras variables para realizar un merge con la tabla de alquileres."
   ]
  },
  {
   "cell_type": "code",
   "execution_count": null,
   "id": "EGZ4ZEm6wINF",
   "metadata": {
    "id": "EGZ4ZEm6wINF"
   },
   "outputs": [],
   "source": [
    "# Selecciono algunas columnas del data frame\n",
    "melb_cols = ['Suburb', 'Rooms', 'Type', 'Price', 'Method', 'SellerG', 'Date', 'Distance', 'Postcode', 'Bedroom2',\n",
    "    'Bathroom', 'Car', 'Landsize', 'BuildingArea', 'YearBuilt', 'Lattitude', 'Longtitude', 'Regionname']"
   ]
  },
  {
   "cell_type": "code",
   "execution_count": null,
   "id": "KzSPSyDcxq9_",
   "metadata": {
    "colab": {
     "base_uri": "https://localhost:8080/",
     "height": 337
    },
    "id": "KzSPSyDcxq9_",
    "outputId": "a42156a1-324e-49be-b9d2-124580e4c8e2"
   },
   "outputs": [],
   "source": [
    "# Selecciono las columnas interesantes de las ventas realizadas en Melburn y las asigno\n",
    "# al nuevo data frame melb_ven_df\n",
    "melb_ven_df = melb_df [melb_cols]\n",
    "melb_ven_df.head()"
   ]
  },
  {
   "cell_type": "markdown",
   "id": "CYHp6Lkaoqny",
   "metadata": {
    "id": "CYHp6Lkaoqny"
   },
   "source": [
    "####Sección 2\n",
    "\n",
    "Realizamos un histograma de la variable \"Price\" para elimiar los valores extermos que pueden afectar el análisis final de ventas."
   ]
  },
  {
   "cell_type": "code",
   "execution_count": null,
   "id": "1qvLhxtD1xiR",
   "metadata": {
    "colab": {
     "base_uri": "https://localhost:8080/",
     "height": 283
    },
    "id": "1qvLhxtD1xiR",
    "outputId": "c00ab75b-206f-418c-8a25-b91b1d719f65"
   },
   "outputs": [],
   "source": [
    "# Gráfico para determinar como se comporta la variable \"Price\"\n",
    "# Puedemos comprobar que hay muchos precios por debajo de $250.000\n",
    "\n",
    "seaborn.displot(melb_ven_df[\"Price\"], aspect=5, kde=True, rug=False ) #kde=True realiza la grafica con la curva\n",
    "plt.ticklabel_format(style='plain', axis='x') # Para evitar la notación científica en las etiquetas"
   ]
  },
  {
   "cell_type": "code",
   "execution_count": null,
   "id": "OpjXqcYM1C4w",
   "metadata": {
    "id": "OpjXqcYM1C4w"
   },
   "outputs": [],
   "source": [
    "# Considerando el análisis anterior decidimos eliminar los valores extremos y achicar el tamaño del data frame \n",
    "# Creamos la funcion remove_outliers_by_IQR_method para eliminar del data frame, que le pasamos como dato, los valores\n",
    "# maximos y minimos considerndo las dos (scale) desviaciones estandar a partir de los cuartiles de 25% (mínimo) \n",
    "# y el 75% (máximo)  \n",
    "def remove_outliers_by_IQR_method(df, column, scale=2):\n",
    "    q1= df[column].quantile(0.25)\n",
    "    q3 = df[column].quantile(0.75)\n",
    "    iqr = q3 - q1\n",
    "    \n",
    "    lower_bound = q1 - (scale * iqr)\n",
    "    upper_bound = q3 + (scale * iqr)\n",
    "    \n",
    "    df_without_outliers = df[(df[column] > lower_bound) \n",
    "                             & (df[column] < upper_bound)]\n",
    "    \n",
    "    return df_without_outliers\n",
    "\n",
    "# Aplicamos la función que calcula los límites del rango que vamos a utulizar considerando el data frame con columnas resumido y le pasamos la \n",
    "# columna que deseamos quitar los outliers\n",
    "melb_ven_df = remove_outliers_by_IQR_method(melb_ven_df, 'Price')"
   ]
  },
  {
   "cell_type": "code",
   "execution_count": null,
   "id": "gd6I1xHN2RXA",
   "metadata": {
    "colab": {
     "base_uri": "https://localhost:8080/",
     "height": 283
    },
    "id": "gd6I1xHN2RXA",
    "outputId": "208376ac-66f9-4196-a140-d23153340fea"
   },
   "outputs": [],
   "source": [
    "seaborn.displot(melb_ven_df[\"Price\"], aspect=5, kde=True, rug=False ) #kde=True me realiza la grafica con la curva\n",
    "\n",
    "plt.ticklabel_format(style='plain', axis='x') # Para evitar la notación científica en las etiquetas"
   ]
  },
  {
   "cell_type": "code",
   "execution_count": null,
   "id": "kpQOvLJ94r0g",
   "metadata": {
    "colab": {
     "base_uri": "https://localhost:8080/"
    },
    "id": "kpQOvLJ94r0g",
    "outputId": "7ea8f1fd-e379-45c7-e7e2-507283708ed4"
   },
   "outputs": [],
   "source": [
    "# El data frame original contaba con 13580 al eliminar los extremos queda con un total de 13211 registros. \n",
    "# Consideramos que no es significativa la cantidad de registros eliminados por valores extremos\n",
    "melb_ven_df.info()"
   ]
  },
  {
   "cell_type": "markdown",
   "id": "rDxwY-esqJ6Z",
   "metadata": {
    "id": "rDxwY-esqJ6Z"
   },
   "source": [
    "### Parte 2\n",
    "\n",
    "Agregar información adicional respectiva al entorno de una propiedad a partir del [conjunto de datos de AirBnB](https://www.kaggle.com/tylerx/melbourne-airbnb-open-data?select=cleansed_listings_dec18.csv) utilizado en el práctico."
   ]
  },
  {
   "cell_type": "code",
   "execution_count": null,
   "id": "b3bk8CGkqwOZ",
   "metadata": {
    "colab": {
     "base_uri": "https://localhost:8080/"
    },
    "id": "b3bk8CGkqwOZ",
    "outputId": "099b12b6-1b3c-44dd-dae0-0085765cfb88"
   },
   "outputs": [],
   "source": [
    "# https://en.wikipedia.org/wiki/List_of_Melbourne_suburbs\n",
    "airbnb_df = pd.read_csv('https://cs.famaf.unc.edu.ar/~mteruel/datasets/diplodatos/cleansed_listings_dec18.csv')"
   ]
  },
  {
   "cell_type": "code",
   "execution_count": null,
   "id": "4SluKlaV4eYI",
   "metadata": {
    "colab": {
     "base_uri": "https://localhost:8080/"
    },
    "id": "4SluKlaV4eYI",
    "outputId": "9363edaf-66f4-4b6d-b895-55061d4973de"
   },
   "outputs": [],
   "source": [
    "airbnb_df.info()"
   ]
  },
  {
   "cell_type": "markdown",
   "id": "c0LKXGGw3muR",
   "metadata": {
    "id": "c0LKXGGw3muR"
   },
   "source": [
    "#### Seccion 1\n",
    "\n",
    "Seleccionar qué variables agregar y qué combinaciones aplicar a cada una. Por ejemplo, pueden utilizar solo la columna `price`, o aplicar múltiples transformaciones como la mediana o el mínimo."
   ]
  },
  {
   "cell_type": "code",
   "execution_count": null,
   "id": "Pw8MI5UH4G62",
   "metadata": {
    "id": "Pw8MI5UH4G62"
   },
   "outputs": [],
   "source": [
    "# Se seleccionaron del archivo general de los alquileres de airbnb los campos mas relevantes\n",
    "# y que de alguna manera pueden ser considerados para realizar un merge con el data\n",
    "# frame de ventas\n",
    "airbnb_cols = ['description', 'neighborhood_overview',\n",
    "    'street', 'neighborhood', 'city', 'suburb', 'state', 'zipcode',\n",
    "    'price', 'weekly_price', 'monthly_price',\n",
    "    'latitude', 'longitude']\n",
    " "
   ]
  },
  {
   "cell_type": "code",
   "execution_count": null,
   "id": "3d325b95",
   "metadata": {},
   "outputs": [],
   "source": [
    "airbnb_df"
   ]
  },
  {
   "cell_type": "code",
   "execution_count": null,
   "id": "a3Hqv9jA5aGS",
   "metadata": {
    "colab": {
     "base_uri": "https://localhost:8080/"
    },
    "id": "a3Hqv9jA5aGS",
    "outputId": "5823a9dd-2d92-4b92-e672-c3632041d510"
   },
   "outputs": [],
   "source": [
    "# Seleccionamos las columnas interesantes de los alquilres de Melburne y los asignamos\n",
    "# al nuevo data frame melb_alq_df\n",
    "melb_alq_df = airbnb_df[airbnb_cols]\n",
    "melb_alq_df.info()"
   ]
  },
  {
   "cell_type": "code",
   "execution_count": null,
   "id": "68NP4mYi7aGh",
   "metadata": {
    "colab": {
     "base_uri": "https://localhost:8080/"
    },
    "id": "68NP4mYi7aGh",
    "outputId": "19bfc9a4-f1d8-4afc-a04f-83d687dbf624"
   },
   "outputs": [],
   "source": [
    "# Analizamos los valores nulos que podemos encontrar en el dataframe de alquileres\n",
    "melb_alq_df.isnull().sum()"
   ]
  },
  {
   "cell_type": "code",
   "execution_count": null,
   "id": "tX0H46-Y62y7",
   "metadata": {
    "colab": {
     "base_uri": "https://localhost:8080/"
    },
    "id": "tX0H46-Y62y7",
    "outputId": "4e2f195e-6b4f-4c31-deb1-39c378070304"
   },
   "outputs": [],
   "source": [
    "# Si hacemos el análisis de un campo para realizar la agrupación y calcular un precio promedio de alquiler\n",
    "# seríaa el zipcode pero es de tipo object, por lo tanto en su contenido puede tener char o integer\n",
    "melb_alq_df.zipcode.value_counts()"
   ]
  },
  {
   "cell_type": "code",
   "execution_count": null,
   "id": "oGCZRyAoFpKJ",
   "metadata": {
    "colab": {
     "base_uri": "https://localhost:8080/"
    },
    "id": "oGCZRyAoFpKJ",
    "outputId": "d7c6923f-3040-44b4-c0cc-f1add08babb6"
   },
   "outputs": [],
   "source": [
    "# Corregimos el zipcode convirtiendolo a dato numerico\n",
    "melb_alq_df['zipcode'] = pd.to_numeric(melb_alq_df.zipcode, errors='coerce')\n",
    "melb_alq_df.zipcode.value_counts()"
   ]
  },
  {
   "cell_type": "markdown",
   "id": "ngiSxz253vrx",
   "metadata": {
    "id": "ngiSxz253vrx"
   },
   "source": [
    "####Seccion 2.\n",
    "\n",
    "Utilizar la variable zipcode para unir los conjuntos de datos. Sólo incluir los zipcodes que tengan una cantidad mínima de registros (a elección) como para que la información agregada sea relevante.\n"
   ]
  },
  {
   "cell_type": "code",
   "execution_count": null,
   "id": "QogZbBI6GVJm",
   "metadata": {
    "colab": {
     "base_uri": "https://localhost:8080/",
     "height": 423
    },
    "id": "QogZbBI6GVJm",
    "outputId": "8e3a417c-3730-47c7-cbb6-f3f5b791aa33"
   },
   "outputs": [],
   "source": [
    "# Como se puede ver la cantidad de viviendas que tienen alquiler semanal y mensual de airbnb\n",
    "# es muy baja considerando las 22895 líneas del archivo de Melburne. De todas formas utilizamos el zipcode\n",
    "# para agrupar y calcular un precio promedio de alquiler y para los alquileres\n",
    "# semanales y mensuales\n",
    "  \n",
    "relevant_cols = ['price', 'weekly_price', 'monthly_price', 'zipcode']\n",
    "\n",
    "melb_alq_df_zipcode = melb_alq_df[relevant_cols].groupby('zipcode')\\\n",
    "   .agg(airbnb_record_count=('price', 'count'),\n",
    "        airbnb_price_mean=('price', 'mean'),\n",
    "        airbnb_weekly_price_mean=('weekly_price', 'mean'),\n",
    "        airbnb_monthly_price_mean=('monthly_price', 'mean'))\\\n",
    "   .reset_index()\n",
    "\n",
    "melb_alq_df_zipcode\n",
    "        "
   ]
  },
  {
   "cell_type": "code",
   "execution_count": null,
   "id": "W2HxNpU_6sZm",
   "metadata": {
    "colab": {
     "base_uri": "https://localhost:8080/",
     "height": 676
    },
    "id": "W2HxNpU_6sZm",
    "outputId": "3e1165a0-f549-409c-8717-76400a5c7c03"
   },
   "outputs": [],
   "source": [
    "# Al hacer este group by vemos que tenemos muchas líneas con valores de un solo registro\n",
    "# por lo tanto analizamos cuantos son para descartarlos\n",
    "\n",
    "df_mask = melb_alq_df_zipcode['airbnb_record_count']<=1\n",
    "filtered_df = melb_alq_df_zipcode[df_mask]\n",
    "filtered_df"
   ]
  },
  {
   "cell_type": "code",
   "execution_count": null,
   "id": "OD3wOIRSLfSg",
   "metadata": {
    "colab": {
     "base_uri": "https://localhost:8080/",
     "height": 423
    },
    "id": "OD3wOIRSLfSg",
    "outputId": "cab93239-d5bc-4657-b9b6-fd769523dd65"
   },
   "outputs": [],
   "source": [
    "# Tenemos 19 filas de 246, que estan por debajo de 1 registro con informacion de alquileres \n",
    "# conforman el 7,7% del total de filas, por lo tanto podemos elimiar esta informacion de la base\n",
    "# antes de realizar la union con la tabla de ventas\n",
    "df_mask = melb_alq_df_zipcode['airbnb_record_count']>=2\n",
    "melb_alq_df_zipcode = melb_alq_df_zipcode[df_mask]\n",
    "\n",
    "# Redondeamos todas las variables a 3 decimales\n",
    "melb_alq_df_zipcode = round(melb_alq_df_zipcode,3)\n",
    "melb_alq_df_zipcode"
   ]
  },
  {
   "cell_type": "code",
   "execution_count": null,
   "id": "O7waFH6vibMn",
   "metadata": {
    "colab": {
     "base_uri": "https://localhost:8080/",
     "height": 678
    },
    "id": "O7waFH6vibMn",
    "outputId": "a88cff9a-5dc9-4595-887f-eb09e3b29fc7"
   },
   "outputs": [],
   "source": [
    "# Realizamos la unión entre los archivos de ventas resumido y de alquileres corregido\n",
    "\n",
    "merged_sales_df = melb_ven_df.merge(\n",
    "    melb_alq_df_zipcode, how='left',\n",
    "    left_on='Postcode', right_on='zipcode')\n",
    "merged_sales_df"
   ]
  },
  {
   "cell_type": "code",
   "execution_count": null,
   "id": "tHSrjxpE8ZjU",
   "metadata": {
    "colab": {
     "base_uri": "https://localhost:8080/",
     "height": 393
    },
    "id": "tHSrjxpE8ZjU",
    "outputId": "8c518e69-5551-45ea-e55e-71e87b64802a"
   },
   "outputs": [],
   "source": [
    "plt.figure(figsize=(20,25))\n",
    "seaborn.pairplot(data=merged_sales_df, y_vars=['airbnb_price_mean'],\n",
    "                 x_vars=['Regionname'],\n",
    "                 aspect=4, height=6)"
   ]
  },
  {
   "cell_type": "markdown",
   "id": "P-dZTyes341N",
   "metadata": {
    "id": "P-dZTyes341N"
   },
   "source": [
    "#### Sección 3\n",
    "\n",
    "Investigar al menos otras 2 variables que puedan servir para combinar los datos, y justificar si serían adecuadas o no. Pueden asumir que cuentan con la ayuda de anotadores expertos para encontrar equivalencias entre barrios o direcciones, o que cuentan con algoritmos para encontrar las n ubicaciones más cercanas a una propiedad a partir de sus coordenadas geográficas. **NO** es necesario que realicen la implementación.\n",
    "\n",
    "Pueden leer otras columnas del conjunto de AirBnB además de las que están en `interesting_cols`, si les parecen relevantes."
   ]
  },
  {
   "cell_type": "code",
   "execution_count": null,
   "id": "jdT7ILYNteU7",
   "metadata": {
    "colab": {
     "base_uri": "https://localhost:8080/"
    },
    "id": "jdT7ILYNteU7",
    "outputId": "97ffdda6-7ba0-4d82-8867-7c33af7d1a0e"
   },
   "outputs": [],
   "source": [
    "melb_ven_df.info()"
   ]
  },
  {
   "cell_type": "code",
   "execution_count": null,
   "id": "KT_VL4JN5okO",
   "metadata": {
    "colab": {
     "base_uri": "https://localhost:8080/",
     "height": 423
    },
    "id": "KT_VL4JN5okO",
    "outputId": "3b0f19d9-2f95-41ab-b5e9-c76fbc18807b"
   },
   "outputs": [],
   "source": [
    "resumen_ven = melb_ven_df[['Suburb', 'Method']].groupby(['Suburb']).count(). reset_index()\n",
    "resumen_ven"
   ]
  },
  {
   "cell_type": "code",
   "execution_count": null,
   "id": "jStZh5fQKQzV",
   "metadata": {
    "colab": {
     "base_uri": "https://localhost:8080/"
    },
    "id": "jStZh5fQKQzV",
    "outputId": "55c80b03-c899-4a3a-90b3-db20d78fc9cc"
   },
   "outputs": [],
   "source": [
    "melb_alq_df.info()\n"
   ]
  },
  {
   "cell_type": "code",
   "execution_count": null,
   "id": "BmWS9pPCtfVr",
   "metadata": {
    "colab": {
     "base_uri": "https://localhost:8080/",
     "height": 423
    },
    "id": "BmWS9pPCtfVr",
    "outputId": "3119e6cf-5355-4483-d507-539e1bd3bc39"
   },
   "outputs": [],
   "source": [
    "resumen_alq = melb_alq_df[['suburb', 'city']].groupby(['suburb']).count(). reset_index()\n",
    "resumen_alq"
   ]
  },
  {
   "cell_type": "markdown",
   "id": "KiuZQmszWCsW",
   "metadata": {
    "id": "KiuZQmszWCsW"
   },
   "source": [
    "ALTERNATIVA 1: Viendo la composicion de los archivos podríamos tomar la variable Suburb como alternativa para realizar el **merge**. Pero antes debemos verificar que esta union de alquileres a la tabla de ventas sea valida. Para ello utilizamos la funcion **numpy.intersect1d** "
   ]
  },
  {
   "cell_type": "code",
   "execution_count": null,
   "id": "bffpR5fOSC-C",
   "metadata": {
    "colab": {
     "base_uri": "https://localhost:8080/"
    },
    "id": "bffpR5fOSC-C",
    "outputId": "40fe1173-d707-40be-bf05-cfb0651651dd"
   },
   "outputs": [],
   "source": [
    "intersection = numpy.intersect1d(resumen_alq.suburb.values, resumen_ven.Suburb.values, assume_unique=False)\n",
    "print(\"Sales unique Suburb\", len(resumen_ven.Suburb.unique()))# unificando todos los Suburb cuantos son unicos de la df resumen_ven\n",
    "print(\"Airbnb unique Suburb\", len(resumen_alq.suburb.unique()))# unificando todos los suburb cuantos son unicos de la df resumen_alq  \n",
    "print(\"Common Suburb\", len(intersection))# unificando todos los Suburb (barrios) cuantos tenemos iguales entre ambas intersecciones"
   ]
  },
  {
   "cell_type": "code",
   "execution_count": null,
   "id": "W8fkAorESr18",
   "metadata": {
    "colab": {
     "base_uri": "https://localhost:8080/"
    },
    "id": "W8fkAorESr18",
    "outputId": "a6fa99bd-181b-49f9-e5a1-04c18f184863"
   },
   "outputs": [],
   "source": [
    "print('Records in Sales df with corresponding Suburb form Airbnb df',\n",
    "      resumen_ven.Suburb.isin(intersection).sum() / len(resumen_ven)) # calculamos el % de Suburb que tenemos en resumen_ven y estan en resumne_alq\n",
    "\n",
    "#print('Records in Airbnb df with corresponding Suburb form Sales df',\n",
    "#      resumen_alq.suburb.isin(intersection).sum() / len(resumen_alq)) # calculamos el % de suburb que tenemos en resumen_alq y estan en resumen_ven"
   ]
  },
  {
   "cell_type": "markdown",
   "id": "rbULJoiE9SSW",
   "metadata": {
    "id": "rbULJoiE9SSW"
   },
   "source": [
    "Como consideramos que el data frame principal es el de las Ventas en Melburne **melb_ven_df**, de nuestro analisis y verificacion que tenemos un 94% de los Suburb del data frame de Ventas estan en la tabla de precios de alquileres por lo tanto vale la pena realizar el **merge**"
   ]
  },
  {
   "cell_type": "code",
   "execution_count": null,
   "id": "v035YofdwsKa",
   "metadata": {
    "colab": {
     "base_uri": "https://localhost:8080/",
     "height": 423
    },
    "id": "v035YofdwsKa",
    "outputId": "1ca52734-7bb5-4bfe-ffc8-ac0033144cc5"
   },
   "outputs": [],
   "source": [
    "relevant_cols = ['price', 'weekly_price', 'monthly_price', 'suburb']\n",
    "melb_alq_df_suburb = melb_alq_df[relevant_cols].groupby('suburb')\\\n",
    "   .agg(airbnb_record_count=('price', 'count'),\n",
    "        airbnb_price_mean=('price', 'mean'),\n",
    "        airbnb_weekly_price_mean=('weekly_price', 'mean'),\n",
    "        airbnb_monthly_price_mean=('monthly_price', 'mean')).reset_index()\n",
    "\n",
    "melb_alq_df_suburb"
   ]
  },
  {
   "cell_type": "code",
   "execution_count": null,
   "id": "8HyxruMIxMDz",
   "metadata": {
    "colab": {
     "base_uri": "https://localhost:8080/",
     "height": 678
    },
    "id": "8HyxruMIxMDz",
    "outputId": "ea4f41bc-10b9-4adf-8b95-fbb675fd9c0e"
   },
   "outputs": [],
   "source": [
    "# Realizamos la union por el suburbio \n",
    " \n",
    "merged1_sales_df = melb_ven_df.merge(\n",
    "    melb_alq_df_suburb, how='left',\n",
    "    left_on='Suburb', right_on='suburb')\n",
    "merged1_sales_df"
   ]
  },
  {
   "cell_type": "code",
   "execution_count": null,
   "id": "TNA2UGIXG6Fk",
   "metadata": {
    "colab": {
     "base_uri": "https://localhost:8080/"
    },
    "id": "TNA2UGIXG6Fk",
    "outputId": "59ff6d13-a5af-4f17-b9cb-3ce55e7f5428"
   },
   "outputs": [],
   "source": [
    "merged1_sales_df.isnull().sum()"
   ]
  },
  {
   "cell_type": "markdown",
   "id": "jRnob9JxHG8o",
   "metadata": {
    "id": "jRnob9JxHG8o"
   },
   "source": [
    "Despues de realizar el merge creamos el data frame **merged1_sales_df**. Como vemos tenemos solo 124 filas de las 13211, un 1% del total del data frame de ventas, que quedaron los datos de presios de alquiler en blanco por no tener un registro para asociar el Suburb"
   ]
  },
  {
   "cell_type": "markdown",
   "id": "WRpQxo51NDb6",
   "metadata": {
    "id": "WRpQxo51NDb6"
   },
   "source": [
    "ALTERNATIVA 2: Otra variable que podríamos usar para hacer el merge además de zipcode o suburb podría ser una nueva variable llamada cuadrante y que surge de dividir el mapa en cuadrantes usando las variables latitud y longitud de las tablas de ventas y alquileres. Usando un par ordenado con latitud, longitud se define el cuadrante al que pertenecen  y se le asignand un código/nombre a cada cuadrante en ambas tablas. Con esta nueva variable de localización que considera la cercanía geográfica en la localización de las propiedades podríamos hacer un merge entre ambas tablas (NO IMPLEMENTADO)"
   ]
  },
  {
   "cell_type": "markdown",
   "id": "c5303f27-3b15-441b-b291-8caf1c734139",
   "metadata": {
    "id": "c5303f27-3b15-441b-b291-8caf1c734139"
   },
   "source": [
    "## Ejercicio 3:\n",
    "\n",
    "Crear y guardar un nuevo conjunto de datos con todas las transformaciones realizadas anteriormente.\n",
    "Hacer un reporte en pdf o txt parsa con el detalle de los pasos que se furon realizando"
   ]
  },
  {
   "cell_type": "code",
   "execution_count": null,
   "id": "zniNVzIIFLrz",
   "metadata": {
    "id": "zniNVzIIFLrz"
   },
   "outputs": [],
   "source": [
    "merged_sales_df.to_csv(os.path.join(DATA_PATH, 'Ventas_join_zipcode.csv'), index=False)\n",
    "merged1_sales_df.to_csv(os.path.join(DATA_PATH, 'Ventas_join_suburb.csv'), index=False)"
   ]
  },
  {
   "cell_type": "markdown",
   "id": "opV8LPpyFMPA",
   "metadata": {
    "id": "opV8LPpyFMPA"
   },
   "source": [
    "En la estructura de la notebook se van detallando las secciones y los comentarios de cada celda, el detalle de los pasos que se fueron realizando para lograr los data frame de ventas uno realizando la relación con los alquileres usando el zipcode y el otro usando el suburb. \n",
    "\n",
    "Cuando finalicemos la parte 2 del entregable generaremos el archivo con todas las transformaciones para entregar junto con la notebook.  "
   ]
  }
 ],
 "metadata": {
  "colab": {
   "collapsed_sections": [],
   "name": "Copy of EDA_Entregable_1_EyCD.ipynb",
   "provenance": []
  },
  "kernelspec": {
   "display_name": "Python 3 (ipykernel)",
   "language": "python",
   "name": "python3"
  },
  "language_info": {
   "codemirror_mode": {
    "name": "ipython",
    "version": 3
   },
   "file_extension": ".py",
   "mimetype": "text/x-python",
   "name": "python",
   "nbconvert_exporter": "python",
   "pygments_lexer": "ipython3",
   "version": "3.9.5"
  }
 },
 "nbformat": 4,
 "nbformat_minor": 5
}
