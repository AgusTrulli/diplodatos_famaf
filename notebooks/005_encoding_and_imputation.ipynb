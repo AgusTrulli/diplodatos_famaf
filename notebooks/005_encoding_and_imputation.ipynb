{
 "cells": [
  {
   "cell_type": "markdown",
   "metadata": {
    "id": "zO4bRoxr2Apy"
   },
   "source": [
    "<div align=\"center\">\n",
    "    <img src='https://media-exp1.licdn.com/dms/image/C561BAQFV4oU27rzxaQ/company-background_10000/0/1562869489836?e=2147483647&v=beta&t=OMHL6Izxqw7r8S5fn9gDQM1hNMKgo3yqMlH1F3Iwm9o' style='height:300px;'>\n",
    "</div>\n",
    "\n",
    "\n",
    "<center><h1 style='font-size:35px'>Encoding y imputación de variables</h1></center>\n",
    "\n",
    "---\n",
    "\n",
    "**Fecha de creación: 25/05/2022**\n",
    "\n",
    "**Autores**:\n",
    "* Marilina Trevisan (marilinatrevisan@gmail.com).\n",
    "* Gustavo Ariel Venchiarutti (gustavo.venchiarutti@gmail.com).\n",
    "* Ani Salama (anisalama@gmail.com).\n",
    "* Anahí Sulca (nanisulca@gmail.com).\n",
    "* Agustín Trulli (agustintrulli@gmail.com).\n",
    "\n",
    "**Grupo: 6**\n",
    "\n",
    "En el ejercicio 2 de la parte 1 del entregable seleccionaron las filas y columnas relevantes al problema de predicción de precios de una propiedad e imputaron los valores faltantes de las columnas Suburb y las columnas obtenidas a partir del conjunto de datos airbnb.\n",
    "\n",
    "En esta notebook, se utilizará resultado de dichas operaciones. que fue guardado en un archivo (Ejercicio 3 entregable 1).\n"
   ]
  },
  {
   "cell_type": "markdown",
   "metadata": {
    "id": "Mlssu6b-_2nd"
   },
   "source": [
    "De la base de datos de Melburn vamos a considerar la siguiente informacion detallando el significad de cada campo\n",
    "\n",
    "**Suburbio:** Suburbio\n",
    "\n",
    "**Address:** Dirección\n",
    "\n",
    "**Rooms:** Número de habitaciones\n",
    "\n",
    "**Price:** Precio en dólares australianos\n",
    "\n",
    "**Method:** puede ser \n",
    "**S** - propiedad vendida;\n",
    "**SP** - propiedad vendida anteriormente;\n",
    "**PI** - propiedad pasada;\n",
    "**PN** - vendido antes no revelado;\n",
    "**SN** - vendido no revelado;\n",
    "**NB** - sin oferta;\n",
    "**VB** - oferta del proveedor;\n",
    "**W** - retirado antes de la subasta;\n",
    "**SA** - vendido después de la subasta;\n",
    "**SS** - vendido después del precio de subasta no revelado.\n",
    "**N/A** - precio o oferta más alta no disponible.\n",
    "\n",
    "**Type:** identifica el tipo de vivienda\n",
    "**br** - dormitorio(s);\n",
    "**h** - casa, casa de campo, villa, semi, terraza;\n",
    "**u** - unidad, dúplex;\n",
    "**t** - casa adosada;\n",
    "**sitio de desarrollo** - sitio de desarrollo;\n",
    "**o res** - otros residenciales.\n",
    "\n",
    "**SellerG:** Agente Inmobiliario\n",
    "\n",
    "**Date:** Fecha de venta\n",
    "\n",
    "**Distance:** Distancia desde el centro en kilómetros\n",
    "\n",
    "**Postcode;** Codigo postal\n",
    "\n",
    "**Bedroom2:** Nº raspado de dormitorios (de diferente fuente)\n",
    "\n",
    "**Bathroom:** Número de baños\n",
    "\n",
    "**Car:** Número de cocheras\n",
    "\n",
    "**Landsize:** Tamaño de la tierra en metros\n",
    "\n",
    "**BuildingArea:** Tamaño construido en metros\n",
    "\n",
    "**YearBuilt:** Año en que se construyó la casa\n",
    "\n",
    "**CouncilArea:** Consejo de Gobierno de la zona\n",
    "\n",
    "**Latitude** y **Longtitude**\n",
    "\n",
    "**Regionname:** Región general (Oeste, Noroeste, Norte, Noreste ... etc)\n",
    "\n",
    "**Propertycount:** Número de propiedades que existen en el suburbio."
   ]
  },
  {
   "cell_type": "code",
   "execution_count": 1,
   "metadata": {
    "id": "4udjxjk1EtVU"
   },
   "outputs": [],
   "source": [
    "import os\n",
    "\n",
    "import matplotlib.pyplot as plt\n",
    "import numpy\n",
    "import pandas \n",
    "import sklearn\n",
    "import seaborn\n",
    "seaborn.set_context('talk')\n",
    "\n",
    "from operator import index\n",
    "from sklearn.preprocessing import LabelBinarizer, OneHotEncoder"
   ]
  },
  {
   "cell_type": "code",
   "execution_count": 4,
   "metadata": {
    "colab": {
     "base_uri": "https://localhost:8080/",
     "height": 679
    },
    "id": "w_mgvyuDUD3L",
    "outputId": "fd7a9486-33a9-44b4-f154-eaf9fa33d6ba"
   },
   "outputs": [],
   "source": [
    "ROOT_PATH = os.path.dirname(os.getcwd())\n",
    "DATA_PATH = os.path.join(ROOT_PATH, 'data', 'preprocessed')\n",
    "\n",
    "melb_df = pandas.read_csv(os.path.join(DATA_PATH, 'Ventas_join_zipcode.csv'))"
   ]
  },
  {
   "cell_type": "markdown",
   "metadata": {
    "id": "s-mixICN22kA"
   },
   "source": [
    "## Ejercicio 1: Encoding\n",
    "\n",
    "**Algunas opciones:**\n",
    "  **1. Utilizar `OneHotEncoder` junto con el parámetro `categories` para las variables categóricas y luego usar `numpy.hstack` para concatenar el resultado con las variables numéricas. **\n",
    "  **2. `DictVectorizer` con algunos pasos de pre-proceso previo.**\n",
    "\n",
    "**Recordar también que el atributo `pandas.DataFrame.values` permite acceder a la matriz de numpy subyacente a un DataFrame.**\n"
   ]
  },
  {
   "cell_type": "markdown",
   "metadata": {
    "id": "MAvEytUdn_xT"
   },
   "source": [
    "###Analis Varibles Categoricas"
   ]
  },
  {
   "cell_type": "code",
   "execution_count": 5,
   "metadata": {
    "colab": {
     "base_uri": "https://localhost:8080/"
    },
    "id": "K_Qk43aLIl4d",
    "outputId": "be99b5e3-f8e9-4fb8-c2a5-3a0105ebcff7"
   },
   "outputs": [
    {
     "name": "stdout",
     "output_type": "stream",
     "text": [
      "Tipos de viviendas para analizar, variable Type ['h' 'u' 't']\n",
      "Cantidad de Casos diferentes de tipos de Viviendas Type    3\n",
      "dtype: int64\n",
      "Cantidad de registros nulos considerando Tipos de Viviendas Type    0\n",
      "dtype: int64\n",
      "\n",
      "\n",
      "Metodo de Ventas para analizar, variable Method ['S' 'SP' 'PI' 'VB' 'SA']\n",
      "Cantidad de Metodos diferentes de Ventas realizadas Method    5\n",
      "dtype: int64\n",
      "Cantidad de registros nulos considerando Metodos de Ventas Method    0\n",
      "dtype: int64\n",
      "\n",
      "\n",
      "Regiones donde se ubican las casas, Variable Regionname ['Northern Metropolitan' 'Western Metropolitan' 'Southern Metropolitan'\n",
      " 'Eastern Metropolitan' 'South-Eastern Metropolitan' 'Eastern Victoria'\n",
      " 'Northern Victoria' 'Western Victoria']\n",
      "Cantidad de Vendedores diferentes  Regionname    8\n",
      "dtype: int64\n",
      "Cantidad de registros nulos considerando Vendedores Regionname    0\n",
      "dtype: int64\n"
     ]
    }
   ],
   "source": [
    "# Para realizar el proceso de ENCODING utilizamos solo variable categoricas\n",
    "# El metodo consiste en tomara las alternativas de las variables categoricas colocarlas como columnas en el\n",
    "# data frame y asiganrle un 1 a las filas que cumplen con la consicion y un 0 a las que no tienen \n",
    "# asiganada esa alternativa\n",
    "categorical_cols_1 = ['Type']\n",
    "categorical_cols_2 = ['Method']\n",
    "categorical_cols_3 = ['Regionname']\n",
    "\n",
    "print('Tipos de viviendas para analizar, variable Type', melb_df.Type.unique())\n",
    "print('Cantidad de Casos diferentes de tipos de Viviendas', melb_df[categorical_cols_1].nunique())\n",
    "print('Cantidad de registros nulos considerando Tipos de Viviendas', melb_df[categorical_cols_1].isna().sum())\n",
    "\n",
    "print('\\n\\nMetodo de Ventas para analizar, variable Method', melb_df.Method.unique())\n",
    "print('Cantidad de Metodos diferentes de Ventas realizadas', melb_df[categorical_cols_2].nunique())\n",
    "print('Cantidad de registros nulos considerando Metodos de Ventas', melb_df[categorical_cols_2].isna().sum())\n",
    "\n",
    "print('\\n\\nRegiones donde se ubican las casas, Variable Regionname', melb_df.Regionname.unique())\n",
    "print('Cantidad de Vendedores diferentes ', melb_df[categorical_cols_3].nunique())\n",
    "print('Cantidad de registros nulos considerando Vendedores', melb_df[categorical_cols_3].isna().sum())\n"
   ]
  },
  {
   "cell_type": "markdown",
   "metadata": {
    "id": "DRXFEyCoQYJf"
   },
   "source": [
    "Despues de analizarlas vamos a descartar **Method** porque en realidad no tiene un impacto importante al momento de determinara los precios de ventas de las propiedades."
   ]
  },
  {
   "cell_type": "code",
   "execution_count": 6,
   "metadata": {
    "colab": {
     "base_uri": "https://localhost:8080/"
    },
    "id": "vd3al0lE8bDt",
    "outputId": "4e334ad6-aef3-4c0d-d751-011e810b473c"
   },
   "outputs": [
    {
     "name": "stdout",
     "output_type": "stream",
     "text": [
      "<class 'pandas.core.frame.DataFrame'>\n",
      "RangeIndex: 13211 entries, 0 to 13210\n",
      "Data columns (total 23 columns):\n",
      " #   Column                     Non-Null Count  Dtype  \n",
      "---  ------                     --------------  -----  \n",
      " 0   Suburb                     13211 non-null  object \n",
      " 1   Rooms                      13211 non-null  int64  \n",
      " 2   Type                       13211 non-null  object \n",
      " 3   Price                      13211 non-null  float64\n",
      " 4   Method                     13211 non-null  object \n",
      " 5   SellerG                    13211 non-null  object \n",
      " 6   Date                       13211 non-null  object \n",
      " 7   Distance                   13211 non-null  float64\n",
      " 8   Postcode                   13211 non-null  float64\n",
      " 9   Bedroom2                   13211 non-null  float64\n",
      " 10  Bathroom                   13211 non-null  float64\n",
      " 11  Car                        13149 non-null  float64\n",
      " 12  Landsize                   13211 non-null  float64\n",
      " 13  BuildingArea               6913 non-null   float64\n",
      " 14  YearBuilt                  7968 non-null   float64\n",
      " 15  Lattitude                  13211 non-null  float64\n",
      " 16  Longtitude                 13211 non-null  float64\n",
      " 17  Regionname                 13211 non-null  object \n",
      " 18  zipcode                    13187 non-null  float64\n",
      " 19  airbnb_record_count        13187 non-null  float64\n",
      " 20  airbnb_price_mean          13187 non-null  float64\n",
      " 21  airbnb_weekly_price_mean   12337 non-null  float64\n",
      " 22  airbnb_monthly_price_mean  11947 non-null  float64\n",
      "dtypes: float64(16), int64(1), object(6)\n",
      "memory usage: 2.3+ MB\n"
     ]
    }
   ],
   "source": [
    "melb_df.info()"
   ]
  },
  {
   "cell_type": "code",
   "execution_count": 7,
   "metadata": {
    "colab": {
     "base_uri": "https://localhost:8080/"
    },
    "id": "_eAFmsbS276b",
    "outputId": "ae14b3b1-cf1b-4afb-d7e0-c7c12ba49229"
   },
   "outputs": [
    {
     "data": {
      "text/plain": [
       "Type\n",
       "h    9086\n",
       "u    3016\n",
       "t    1109\n",
       "dtype: int64"
      ]
     },
     "execution_count": 7,
     "metadata": {},
     "output_type": "execute_result"
    }
   ],
   "source": [
    "melb_df.value_counts('Type')"
   ]
  },
  {
   "cell_type": "code",
   "execution_count": 8,
   "metadata": {
    "colab": {
     "base_uri": "https://localhost:8080/"
    },
    "id": "S4_q8VAIX1oT",
    "outputId": "c2207d24-ef82-485e-c57e-52e2344ee4b6"
   },
   "outputs": [
    {
     "data": {
      "text/plain": [
       "Regionname\n",
       "Southern Metropolitan         4380\n",
       "Northern Metropolitan         3860\n",
       "Western Metropolitan          2939\n",
       "Eastern Metropolitan          1458\n",
       "South-Eastern Metropolitan     448\n",
       "Eastern Victoria                53\n",
       "Northern Victoria               41\n",
       "Western Victoria                32\n",
       "dtype: int64"
      ]
     },
     "execution_count": 8,
     "metadata": {},
     "output_type": "execute_result"
    }
   ],
   "source": [
    "melb_df.value_counts('Regionname')"
   ]
  },
  {
   "cell_type": "markdown",
   "metadata": {
    "id": "Kv9SMzW7QJxN"
   },
   "source": [
    "### ONEHOTENCODER"
   ]
  },
  {
   "cell_type": "markdown",
   "metadata": {
    "id": "hJOS4fseozTe"
   },
   "source": [
    "#### Seccion 1 --> FIT\n",
    "\n",
    "Los metodos de trensformacion constan de de dos partes `fit` (entrenar) es el encargado de recopilar toda la información necesaria para aplicar el encoding."
   ]
  },
  {
   "cell_type": "code",
   "execution_count": 9,
   "metadata": {
    "colab": {
     "base_uri": "https://localhost:8080/"
    },
    "id": "gD0C4fdfYhNy",
    "outputId": "7ca9961e-d193-4b9f-c962-16f0ddcc7236"
   },
   "outputs": [
    {
     "data": {
      "text/plain": [
       "OneHotEncoder(dtype=<class 'numpy.int64'>, sparse=False)"
      ]
     },
     "execution_count": 9,
     "metadata": {},
     "output_type": "execute_result"
    }
   ],
   "source": [
    "# Asigno el metodo de ONEHOTECODER con sus paramentros a la variable encoder1 para varibale\n",
    "# categorica Type y encoder2 para variable categorica Regionname\n",
    "ohe1 = OneHotEncoder(sparse=False, categories=\"auto\", dtype= numpy.int64, drop=None)\n",
    "ohe2 = OneHotEncoder(sparse=False, categories=\"auto\", dtype= numpy.int64, drop=None)\n",
    "\n",
    "# A la variable oh_encoder1 y oh_encoder2 le cargo el array que obtengo como resultado del entrenamiento \n",
    "# aplicado sobre las columna que seleccione del data frame\n",
    "ohe1.fit(melb_df[['Type']])\n",
    "ohe2.fit(melb_df[['Regionname']])"
   ]
  },
  {
   "cell_type": "code",
   "execution_count": 10,
   "metadata": {
    "colab": {
     "base_uri": "https://localhost:8080/"
    },
    "id": "sCENqdL9Ol0C",
    "outputId": "604c52ee-e57b-4aa7-98ff-690c9f7685b8"
   },
   "outputs": [
    {
     "name": "stdout",
     "output_type": "stream",
     "text": [
      "Catewgorias considerando la variavle TYPE [array(['h', 't', 'u'], dtype=object)]\n",
      "\n",
      "Categorias considerando la variavle REGIONNAME [array(['Eastern Metropolitan', 'Eastern Victoria',\n",
      "       'Northern Metropolitan', 'Northern Victoria',\n",
      "       'South-Eastern Metropolitan', 'Southern Metropolitan',\n",
      "       'Western Metropolitan', 'Western Victoria'], dtype=object)]\n"
     ]
    }
   ],
   "source": [
    "# Alicado el ONEHOTENCODING podemos verificar las \"CATEGORIAS\" que encontro usando \n",
    "# el primer paso del metodo que tambien las puedo usar como nombre de columnas al concatenar con\n",
    "# el data frame original \n",
    "print('Catewgorias considerando la variavle TYPE', ohe1.categories_)\n",
    "print('\\nCategorias considerando la variavle REGIONNAME', ohe2.categories_)\n",
    " "
   ]
  },
  {
   "cell_type": "markdown",
   "metadata": {
    "id": "RPlhKKV4FRuH"
   },
   "source": [
    "####Seccion 2 --> Transform\n",
    "\n",
    "La parte `transform` (transformar) es el encargado de generar el arreglo de unos y ceros que corresponden a las columnas asociadas a los distintos valores que toma la variable categorica."
   ]
  },
  {
   "cell_type": "code",
   "execution_count": 11,
   "metadata": {
    "colab": {
     "base_uri": "https://localhost:8080/"
    },
    "id": "og7f0plNYjWL",
    "outputId": "a15115bf-468e-445c-9e92-a83834f59b2e"
   },
   "outputs": [
    {
     "data": {
      "text/plain": [
       "array([[1, 0, 0],\n",
       "       [1, 0, 0],\n",
       "       [1, 0, 0],\n",
       "       [1, 0, 0],\n",
       "       [1, 0, 0],\n",
       "       [1, 0, 0],\n",
       "       [1, 0, 0],\n",
       "       [1, 0, 0],\n",
       "       [0, 0, 1],\n",
       "       [1, 0, 0]])"
      ]
     },
     "execution_count": 11,
     "metadata": {},
     "output_type": "execute_result"
    }
   ],
   "source": [
    "# Una vez encontradas las diferentes categorias que tiene la variable categorica \n",
    "# que voy a utilizar genero el arreglo con 1 y 0 de acuerdo a los valores que \n",
    "# tienen los rergistros del data frame \n",
    "\n",
    "types_ohe = ohe1.transform(melb_df[['Type']])\n",
    "types_ohe[:10] "
   ]
  },
  {
   "cell_type": "code",
   "execution_count": 12,
   "metadata": {
    "colab": {
     "base_uri": "https://localhost:8080/"
    },
    "id": "fbkbrCxURP6r",
    "outputId": "3deb8bdf-1bef-422c-afd5-d3959ff3b65e"
   },
   "outputs": [
    {
     "data": {
      "text/plain": [
       "array([[0, 0, 1, 0, 0, 0, 0, 0],\n",
       "       [0, 0, 1, 0, 0, 0, 0, 0],\n",
       "       [0, 0, 1, 0, 0, 0, 0, 0],\n",
       "       [0, 0, 1, 0, 0, 0, 0, 0],\n",
       "       [0, 0, 1, 0, 0, 0, 0, 0],\n",
       "       [0, 0, 1, 0, 0, 0, 0, 0],\n",
       "       [0, 0, 1, 0, 0, 0, 0, 0],\n",
       "       [0, 0, 1, 0, 0, 0, 0, 0],\n",
       "       [0, 0, 1, 0, 0, 0, 0, 0],\n",
       "       [0, 0, 1, 0, 0, 0, 0, 0]])"
      ]
     },
     "execution_count": 12,
     "metadata": {},
     "output_type": "execute_result"
    }
   ],
   "source": [
    "region_ohe = ohe2.transform(melb_df[['Regionname']])\n",
    "region_ohe[:10] "
   ]
  },
  {
   "cell_type": "markdown",
   "metadata": {
    "id": "O8IrSVdsE7sv"
   },
   "source": [
    "####Seccion 3 --> Todo en uno"
   ]
  },
  {
   "cell_type": "code",
   "execution_count": 13,
   "metadata": {
    "id": "kUXMIBp8YLLt"
   },
   "outputs": [],
   "source": [
    "# Proceso reducido de ONEHOTENCODIG para las dos variable seleccionadas\n",
    "# Sparce=False no me crea la matriz sparsa\n",
    "# categories=\"auto\" define los nobres de las columnas por default\n",
    "# dtype= numpy.int64 genero solo datos enteros\n",
    "# drop=None puedo eliminar alguna columna al momento de armar el array por ejemplo cuando\n",
    "# la variable categoria es binaria puedo eliminar una de ellas\n",
    "ohe1 = OneHotEncoder(sparse=False, categories=\"auto\", dtype= numpy.int64, drop=None)\n",
    "ohe2 = OneHotEncoder(sparse=False, categories=\"auto\", dtype= numpy.int64, drop=None)"
   ]
  },
  {
   "cell_type": "code",
   "execution_count": 14,
   "metadata": {
    "colab": {
     "base_uri": "https://localhost:8080/"
    },
    "id": "pAeghE5MRsnd",
    "outputId": "16d70940-a7ef-49ae-ba8a-06c690a5b64b"
   },
   "outputs": [
    {
     "data": {
      "text/plain": [
       "array([[1, 0, 0],\n",
       "       [1, 0, 0],\n",
       "       [1, 0, 0],\n",
       "       [1, 0, 0],\n",
       "       [1, 0, 0],\n",
       "       [1, 0, 0],\n",
       "       [1, 0, 0],\n",
       "       [1, 0, 0],\n",
       "       [0, 0, 1],\n",
       "       [1, 0, 0]])"
      ]
     },
     "execution_count": 14,
     "metadata": {},
     "output_type": "execute_result"
    }
   ],
   "source": [
    "type_ohe = ohe1.fit_transform(melb_df[['Type']])\n",
    "type_ohe[:10]"
   ]
  },
  {
   "cell_type": "code",
   "execution_count": 15,
   "metadata": {
    "colab": {
     "base_uri": "https://localhost:8080/"
    },
    "id": "sj7kP-gpRfIu",
    "outputId": "58299134-d86e-4d84-92c1-25cb1a8eb352"
   },
   "outputs": [
    {
     "data": {
      "text/plain": [
       "array([[0, 0, 1, 0, 0, 0, 0, 0],\n",
       "       [0, 0, 1, 0, 0, 0, 0, 0],\n",
       "       [0, 0, 1, 0, 0, 0, 0, 0],\n",
       "       [0, 0, 1, 0, 0, 0, 0, 0],\n",
       "       [0, 0, 1, 0, 0, 0, 0, 0],\n",
       "       [0, 0, 1, 0, 0, 0, 0, 0],\n",
       "       [0, 0, 1, 0, 0, 0, 0, 0],\n",
       "       [0, 0, 1, 0, 0, 0, 0, 0],\n",
       "       [0, 0, 1, 0, 0, 0, 0, 0],\n",
       "       [0, 0, 1, 0, 0, 0, 0, 0]])"
      ]
     },
     "execution_count": 15,
     "metadata": {},
     "output_type": "execute_result"
    }
   ],
   "source": [
    "region_ohe = ohe2.fit_transform(melb_df[['Regionname']])\n",
    "region_ohe[:10]"
   ]
  },
  {
   "cell_type": "markdown",
   "metadata": {
    "id": "AH6kf8G1RF1G"
   },
   "source": [
    "### LABELBINARIZER"
   ]
  },
  {
   "cell_type": "markdown",
   "metadata": {
    "id": "8Cj1vIdyGuHv"
   },
   "source": [
    "#### Seccion 1 --> FIT\n",
    "\n",
    "Los metodos de trensformacion constan de de dos partes `fit` (entrenar) es el encargado de recopilar toda la información necesaria para aplicar el encoding."
   ]
  },
  {
   "cell_type": "code",
   "execution_count": 16,
   "metadata": {
    "colab": {
     "base_uri": "https://localhost:8080/"
    },
    "id": "DXTV92K2ExNC",
    "outputId": "3bca026c-5a5a-4bf6-9b2b-2139380b9330"
   },
   "outputs": [
    {
     "data": {
      "text/plain": [
       "LabelBinarizer()"
      ]
     },
     "execution_count": 16,
     "metadata": {},
     "output_type": "execute_result"
    }
   ],
   "source": [
    "# En este caso uso el metodo de LABELBINARIZER para la variable encoder1 que vamos\n",
    "# a utilizar para varibale categorica Type y encoder2 para variable categorica Regionname\n",
    "encoder1 = sklearn.preprocessing.LabelBinarizer()\n",
    "encoder2 = sklearn.preprocessing.LabelBinarizer()\n",
    "\n",
    "# A la variable encoder le cargo el array con las categorias que encuentro el \n",
    "# la columna que seleccione del data frame\n",
    "encoder1.fit(melb_df[['Type']])\n",
    "encoder2.fit(melb_df[['Regionname']])"
   ]
  },
  {
   "cell_type": "code",
   "execution_count": 17,
   "metadata": {
    "colab": {
     "base_uri": "https://localhost:8080/"
    },
    "id": "wjU-gqxZPWCX",
    "outputId": "3023d4b2-0667-4e36-be60-ce10440b7914"
   },
   "outputs": [
    {
     "name": "stdout",
     "output_type": "stream",
     "text": [
      "Clases considerando la variavle TYPE ['h' 't' 'u']\n",
      "\n",
      "Clases considerando la variavle REGIONNAME ['Eastern Metropolitan' 'Eastern Victoria' 'Northern Metropolitan'\n",
      " 'Northern Victoria' 'South-Eastern Metropolitan' 'Southern Metropolitan'\n",
      " 'Western Metropolitan' 'Western Victoria']\n"
     ]
    }
   ],
   "source": [
    "# Alicado el LABELBINARIZER podemos verificar las \"CLASSES\" que encontro usando \n",
    "# el primer paso del metodo que tambien las puedo usar como nombre de columnas al concatenar con\n",
    "# el data frame original \n",
    "# Podemos verificar las categorias que encontro usando el metodo de encoder \n",
    "print('Clases considerando la variavle TYPE', encoder1.classes_)\n",
    "print('\\nClases considerando la variavle REGIONNAME', encoder2.classes_)"
   ]
  },
  {
   "cell_type": "markdown",
   "metadata": {
    "id": "WkRoMdy6o55w"
   },
   "source": [
    "####Seccion 2 --> Transform\n",
    "\n",
    "La parte `transform` (transformar) es el encargado de generar el arreglo de unos y ceros que corresponden a las columnas asociadas a los distintos valores que toma la variable categorica."
   ]
  },
  {
   "cell_type": "code",
   "execution_count": 18,
   "metadata": {
    "colab": {
     "base_uri": "https://localhost:8080/"
    },
    "id": "zuwzzh1MGXyz",
    "outputId": "28633a84-c5f8-4a6c-eb29-5afa3a683d5c"
   },
   "outputs": [
    {
     "data": {
      "text/plain": [
       "array([[1, 0, 0],\n",
       "       [1, 0, 0],\n",
       "       [1, 0, 0],\n",
       "       [1, 0, 0],\n",
       "       [1, 0, 0],\n",
       "       [1, 0, 0],\n",
       "       [1, 0, 0],\n",
       "       [1, 0, 0],\n",
       "       [0, 0, 1],\n",
       "       [1, 0, 0]])"
      ]
     },
     "execution_count": 18,
     "metadata": {},
     "output_type": "execute_result"
    }
   ],
   "source": [
    "# Una vez encontradas las diferentes categorias que tiene la variable categorica \n",
    "# que voy a utilizar, genero el arreglo con 1 y 0 de acuerdo a los valores que \n",
    "# tienen los registros del data frame \n",
    "types_encoded = encoder1.transform(melb_df[['Type']])\n",
    "types_encoded[:10]"
   ]
  },
  {
   "cell_type": "code",
   "execution_count": 19,
   "metadata": {
    "colab": {
     "base_uri": "https://localhost:8080/"
    },
    "id": "HLUU0bN6Zf7r",
    "outputId": "7094aab5-a8d9-4f84-f43d-3153f8bb6567"
   },
   "outputs": [
    {
     "data": {
      "text/plain": [
       "array([[0, 0, 1, 0, 0, 0, 0, 0],\n",
       "       [0, 0, 1, 0, 0, 0, 0, 0],\n",
       "       [0, 0, 1, 0, 0, 0, 0, 0],\n",
       "       [0, 0, 1, 0, 0, 0, 0, 0],\n",
       "       [0, 0, 1, 0, 0, 0, 0, 0],\n",
       "       [0, 0, 1, 0, 0, 0, 0, 0],\n",
       "       [0, 0, 1, 0, 0, 0, 0, 0],\n",
       "       [0, 0, 1, 0, 0, 0, 0, 0],\n",
       "       [0, 0, 1, 0, 0, 0, 0, 0],\n",
       "       [0, 0, 1, 0, 0, 0, 0, 0]])"
      ]
     },
     "execution_count": 19,
     "metadata": {},
     "output_type": "execute_result"
    }
   ],
   "source": [
    "region_encoded = encoder2.transform(melb_df[['Regionname']])\n",
    "region_encoded[:10]"
   ]
  },
  {
   "cell_type": "markdown",
   "metadata": {
    "id": "x2EAzedBYS6B"
   },
   "source": [
    "####Seccion 3 --> Todo en uno"
   ]
  },
  {
   "cell_type": "code",
   "execution_count": 20,
   "metadata": {
    "id": "l4jJFtBQYSki"
   },
   "outputs": [],
   "source": [
    "# Proceso reducido de LABELBINARIZER para las dos variable seleccionadas\n",
    "label_binarizer = sklearn.preprocessing.LabelBinarizer()"
   ]
  },
  {
   "cell_type": "code",
   "execution_count": 21,
   "metadata": {
    "colab": {
     "base_uri": "https://localhost:8080/"
    },
    "id": "bpu68q5lYtF-",
    "outputId": "72619dfb-a743-4939-cb70-54136114f368"
   },
   "outputs": [
    {
     "data": {
      "text/plain": [
       "array([[1, 0, 0],\n",
       "       [1, 0, 0],\n",
       "       [1, 0, 0],\n",
       "       [1, 0, 0],\n",
       "       [1, 0, 0],\n",
       "       [1, 0, 0],\n",
       "       [1, 0, 0],\n",
       "       [1, 0, 0],\n",
       "       [0, 0, 1],\n",
       "       [1, 0, 0]])"
      ]
     },
     "execution_count": 21,
     "metadata": {},
     "output_type": "execute_result"
    }
   ],
   "source": [
    "type_lavelbin = label_binarizer.fit_transform(melb_df[['Type']])\n",
    "type_lavelbin[:10]"
   ]
  },
  {
   "cell_type": "code",
   "execution_count": 22,
   "metadata": {
    "colab": {
     "base_uri": "https://localhost:8080/"
    },
    "id": "N1HTq0-fYsyr",
    "outputId": "c1e90bef-aa41-453e-db3a-d4ba8d5add4b"
   },
   "outputs": [
    {
     "data": {
      "text/plain": [
       "array([[0, 0, 1, 0, 0, 0, 0, 0],\n",
       "       [0, 0, 1, 0, 0, 0, 0, 0],\n",
       "       [0, 0, 1, 0, 0, 0, 0, 0],\n",
       "       [0, 0, 1, 0, 0, 0, 0, 0],\n",
       "       [0, 0, 1, 0, 0, 0, 0, 0],\n",
       "       [0, 0, 1, 0, 0, 0, 0, 0],\n",
       "       [0, 0, 1, 0, 0, 0, 0, 0],\n",
       "       [0, 0, 1, 0, 0, 0, 0, 0],\n",
       "       [0, 0, 1, 0, 0, 0, 0, 0],\n",
       "       [0, 0, 1, 0, 0, 0, 0, 0]])"
      ]
     },
     "execution_count": 22,
     "metadata": {},
     "output_type": "execute_result"
    }
   ],
   "source": [
    "region_lavelbin = label_binarizer.fit_transform(melb_df[['Regionname']])\n",
    "region_lavelbin[:10]"
   ]
  },
  {
   "cell_type": "markdown",
   "metadata": {
    "id": "tGR6qPa45g_U"
   },
   "source": [
    "### Concatenar al DF original\n",
    "\n",
    "Al momento de realizar el proceso de ENCODING se podria realizar con cualquiera de los metodos mencionados. En particular estos metodos generarn solamente un **array**. Ahora en este paso tenemos que convertir esos arreglos en data frame y concatenerlos con el **data frame original**\n",
    "\n",
    "Vamos a utilizar los arreglos que se generaron con el LABELBINARIZER"
   ]
  },
  {
   "cell_type": "code",
   "execution_count": 23,
   "metadata": {
    "colab": {
     "base_uri": "https://localhost:8080/"
    },
    "id": "vAw5nxfWgSwY",
    "outputId": "78b20050-3826-4d4c-f66a-f1a3850782b7"
   },
   "outputs": [
    {
     "name": "stdout",
     "output_type": "stream",
     "text": [
      "<class 'pandas.core.frame.DataFrame'>\n",
      "RangeIndex: 13211 entries, 0 to 13210\n",
      "Data columns (total 23 columns):\n",
      " #   Column                     Non-Null Count  Dtype  \n",
      "---  ------                     --------------  -----  \n",
      " 0   Suburb                     13211 non-null  object \n",
      " 1   Rooms                      13211 non-null  int64  \n",
      " 2   Type                       13211 non-null  object \n",
      " 3   Price                      13211 non-null  float64\n",
      " 4   Method                     13211 non-null  object \n",
      " 5   SellerG                    13211 non-null  object \n",
      " 6   Date                       13211 non-null  object \n",
      " 7   Distance                   13211 non-null  float64\n",
      " 8   Postcode                   13211 non-null  float64\n",
      " 9   Bedroom2                   13211 non-null  float64\n",
      " 10  Bathroom                   13211 non-null  float64\n",
      " 11  Car                        13149 non-null  float64\n",
      " 12  Landsize                   13211 non-null  float64\n",
      " 13  BuildingArea               6913 non-null   float64\n",
      " 14  YearBuilt                  7968 non-null   float64\n",
      " 15  Lattitude                  13211 non-null  float64\n",
      " 16  Longtitude                 13211 non-null  float64\n",
      " 17  Regionname                 13211 non-null  object \n",
      " 18  zipcode                    13187 non-null  float64\n",
      " 19  airbnb_record_count        13187 non-null  float64\n",
      " 20  airbnb_price_mean          13187 non-null  float64\n",
      " 21  airbnb_weekly_price_mean   12337 non-null  float64\n",
      " 22  airbnb_monthly_price_mean  11947 non-null  float64\n",
      "dtypes: float64(16), int64(1), object(6)\n",
      "memory usage: 2.3+ MB\n"
     ]
    }
   ],
   "source": [
    "melb_df.info()"
   ]
  },
  {
   "cell_type": "code",
   "execution_count": 24,
   "metadata": {
    "id": "Wl1m9oKzcZE1"
   },
   "outputs": [],
   "source": [
    "# Para que pueda correr varias veces el proceso sin errores realizo la verificacion de los datos en la\n",
    "# data frame para saber si ya cargue los datos del arreglo\n",
    "if 'Type_h' in melb_df:\n",
    "    # Reordemo las clomunas del data frame para ver como se cargaron los 1 y los 0 de acuerdo al\n",
    "    # metodo de ONEHOTENCODER\n",
    "    reodenar = ['Suburb',\t'Rooms',\t'Price', 'Method',\t'SellerG',\t'Date',\t'Distance',\t'Postcode', 'zipcode',\n",
    "              'Bedroom2',\t'Bathroom',\t'Car',\t'Landsize',\t'BuildingArea',\t'YearBuilt', 'Lattitude', 'Longtitude',\n",
    "              'airbnb_record_count', 'airbnb_price_mean', 'airbnb_weekly_price_mean', 'airbnb_monthly_price_mean',\n",
    "              'Type', 'Type_h', 'Type_t', 'Type_u', 'Regionname', 'Eastern Metropolitan', 'Eastern Victoria', \n",
    "              'Northern Metropolitan', 'Northern Victoria', 'South-Eastern Metropolitan', 'Southern Metropolitan', \n",
    "              'Western Metropolitan', 'Western Victoria']\n",
    "    melb_df = melb_df[reodenar]\n",
    "\n",
    "    melb_df.info()    \n",
    "else:\n",
    "    # Con esta funcion de pandas puedo trasnformar el arreglo que genero el TRANSFORM\n",
    "    # en un data frame que despues puedo concatener al original melb_df\n",
    "    melb_df_encoded1 = pandas.DataFrame(types_encoded)\n",
    "    melb_df_encoded2 = pandas.DataFrame(region_encoded)\n",
    "\n",
    "    # Se renombran las columnas con las categorias detectadas por LabelBinarizer\n",
    "    # en el primer paso FIT considerando el campo Type\n",
    "    nombre_cols1 = [\"Type_\" + i for i in encoder1.classes_]\n",
    "    melb_df_encoded1.columns = nombre_cols1\n",
    "\n",
    "    # Se renombran las columnas con las categorias detectadas por LabelBinarizer\n",
    "    # en el primer paso FIT considerando el campo Regionname. En este caso las \n",
    "    # categorias tienen nombres identificativos\n",
    "    nombre_cols2 = [i for i in encoder2.classes_]\n",
    "    melb_df_encoded2.columns = nombre_cols2\n",
    "\n",
    "    # Realizo en concatenar de los dos data frame, el generdo con el encoder melb_df_encoded\n",
    "    # el data frme original melb_df.\n",
    "    melb_df = pandas.concat([melb_df, melb_df_encoded1], axis=1)\n",
    "    melb_df = pandas.concat([melb_df, melb_df_encoded2], axis=1)\n",
    "\n",
    "    # Puedo concatenar los dos data frame y eliminar la columna Type y dejar las nuevas columnas\n",
    "    #melb_df = pandas.concat([melb_df, melb_df_encoded], axis=1).drop(['Type'], axis=1)\n",
    "\n",
    "    # Reordemo las clomunas del data frame para ver como se cargaron los 1 y los 0 de acuerdo al\n",
    "    # metodo de ONEHOTENCODER\n",
    "    reodenar = ['Suburb',\t'Rooms',\t'Price', 'Method',\t'SellerG',\t'Date',\t'Distance',\t'Postcode', 'zipcode',\n",
    "              'Bedroom2',\t'Bathroom',\t'Car',\t'Landsize',\t'BuildingArea',\t'YearBuilt', 'Lattitude', 'Longtitude',\n",
    "              'airbnb_record_count', 'airbnb_price_mean', 'airbnb_weekly_price_mean', 'airbnb_monthly_price_mean',\n",
    "              'Type', 'Type_h', 'Type_t', 'Type_u', 'Regionname', 'Eastern Metropolitan', 'Eastern Victoria', \n",
    "              'Northern Metropolitan', 'Northern Victoria', 'South-Eastern Metropolitan', 'Southern Metropolitan', \n",
    "              'Western Metropolitan', 'Western Victoria']\n",
    "    melb_df = melb_df[reodenar]"
   ]
  },
  {
   "cell_type": "code",
   "execution_count": 25,
   "metadata": {
    "colab": {
     "base_uri": "https://localhost:8080/"
    },
    "id": "Bbjsj6HkM44d",
    "outputId": "8124a2ac-0692-4439-d7aa-77b9a5b51f8b"
   },
   "outputs": [
    {
     "name": "stdout",
     "output_type": "stream",
     "text": [
      "<class 'pandas.core.frame.DataFrame'>\n",
      "RangeIndex: 13211 entries, 0 to 13210\n",
      "Data columns (total 34 columns):\n",
      " #   Column                      Non-Null Count  Dtype  \n",
      "---  ------                      --------------  -----  \n",
      " 0   Suburb                      13211 non-null  object \n",
      " 1   Rooms                       13211 non-null  int64  \n",
      " 2   Price                       13211 non-null  float64\n",
      " 3   Method                      13211 non-null  object \n",
      " 4   SellerG                     13211 non-null  object \n",
      " 5   Date                        13211 non-null  object \n",
      " 6   Distance                    13211 non-null  float64\n",
      " 7   Postcode                    13211 non-null  float64\n",
      " 8   zipcode                     13187 non-null  float64\n",
      " 9   Bedroom2                    13211 non-null  float64\n",
      " 10  Bathroom                    13211 non-null  float64\n",
      " 11  Car                         13149 non-null  float64\n",
      " 12  Landsize                    13211 non-null  float64\n",
      " 13  BuildingArea                6913 non-null   float64\n",
      " 14  YearBuilt                   7968 non-null   float64\n",
      " 15  Lattitude                   13211 non-null  float64\n",
      " 16  Longtitude                  13211 non-null  float64\n",
      " 17  airbnb_record_count         13187 non-null  float64\n",
      " 18  airbnb_price_mean           13187 non-null  float64\n",
      " 19  airbnb_weekly_price_mean    12337 non-null  float64\n",
      " 20  airbnb_monthly_price_mean   11947 non-null  float64\n",
      " 21  Type                        13211 non-null  object \n",
      " 22  Type_h                      13211 non-null  int64  \n",
      " 23  Type_t                      13211 non-null  int64  \n",
      " 24  Type_u                      13211 non-null  int64  \n",
      " 25  Regionname                  13211 non-null  object \n",
      " 26  Eastern Metropolitan        13211 non-null  int64  \n",
      " 27  Eastern Victoria            13211 non-null  int64  \n",
      " 28  Northern Metropolitan       13211 non-null  int64  \n",
      " 29  Northern Victoria           13211 non-null  int64  \n",
      " 30  South-Eastern Metropolitan  13211 non-null  int64  \n",
      " 31  Southern Metropolitan       13211 non-null  int64  \n",
      " 32  Western Metropolitan        13211 non-null  int64  \n",
      " 33  Western Victoria            13211 non-null  int64  \n",
      "dtypes: float64(16), int64(12), object(6)\n",
      "memory usage: 3.4+ MB\n"
     ]
    }
   ],
   "source": [
    "melb_df.info()    "
   ]
  },
  {
   "cell_type": "code",
   "execution_count": 26,
   "metadata": {
    "colab": {
     "base_uri": "https://localhost:8080/",
     "height": 713
    },
    "id": "NDYLRRQ83IAJ",
    "outputId": "d2f068f4-3992-4aee-a555-155baad844f6"
   },
   "outputs": [
    {
     "data": {
      "text/html": [
       "<div>\n",
       "<style scoped>\n",
       "    .dataframe tbody tr th:only-of-type {\n",
       "        vertical-align: middle;\n",
       "    }\n",
       "\n",
       "    .dataframe tbody tr th {\n",
       "        vertical-align: top;\n",
       "    }\n",
       "\n",
       "    .dataframe thead th {\n",
       "        text-align: right;\n",
       "    }\n",
       "</style>\n",
       "<table border=\"1\" class=\"dataframe\">\n",
       "  <thead>\n",
       "    <tr style=\"text-align: right;\">\n",
       "      <th></th>\n",
       "      <th>Suburb</th>\n",
       "      <th>Rooms</th>\n",
       "      <th>Price</th>\n",
       "      <th>Method</th>\n",
       "      <th>SellerG</th>\n",
       "      <th>Date</th>\n",
       "      <th>Distance</th>\n",
       "      <th>Postcode</th>\n",
       "      <th>zipcode</th>\n",
       "      <th>Bedroom2</th>\n",
       "      <th>Bathroom</th>\n",
       "      <th>Car</th>\n",
       "      <th>Landsize</th>\n",
       "      <th>BuildingArea</th>\n",
       "      <th>YearBuilt</th>\n",
       "      <th>Lattitude</th>\n",
       "      <th>Longtitude</th>\n",
       "      <th>airbnb_record_count</th>\n",
       "      <th>airbnb_price_mean</th>\n",
       "      <th>airbnb_weekly_price_mean</th>\n",
       "      <th>airbnb_monthly_price_mean</th>\n",
       "      <th>Type</th>\n",
       "      <th>Type_h</th>\n",
       "      <th>Type_t</th>\n",
       "      <th>Type_u</th>\n",
       "      <th>Regionname</th>\n",
       "      <th>Eastern Metropolitan</th>\n",
       "      <th>Eastern Victoria</th>\n",
       "      <th>Northern Metropolitan</th>\n",
       "      <th>Northern Victoria</th>\n",
       "      <th>South-Eastern Metropolitan</th>\n",
       "      <th>Southern Metropolitan</th>\n",
       "      <th>Western Metropolitan</th>\n",
       "      <th>Western Victoria</th>\n",
       "    </tr>\n",
       "  </thead>\n",
       "  <tbody>\n",
       "    <tr>\n",
       "      <th>0</th>\n",
       "      <td>Abbotsford</td>\n",
       "      <td>2</td>\n",
       "      <td>1480000.0</td>\n",
       "      <td>S</td>\n",
       "      <td>Biggin</td>\n",
       "      <td>3/12/2016</td>\n",
       "      <td>2.5</td>\n",
       "      <td>3067.0</td>\n",
       "      <td>3067.0</td>\n",
       "      <td>2.0</td>\n",
       "      <td>1.0</td>\n",
       "      <td>1.0</td>\n",
       "      <td>202.0</td>\n",
       "      <td>NaN</td>\n",
       "      <td>NaN</td>\n",
       "      <td>-37.79960</td>\n",
       "      <td>144.99840</td>\n",
       "      <td>258.0</td>\n",
       "      <td>130.624</td>\n",
       "      <td>605.152</td>\n",
       "      <td>2187.032</td>\n",
       "      <td>h</td>\n",
       "      <td>1</td>\n",
       "      <td>0</td>\n",
       "      <td>0</td>\n",
       "      <td>Northern Metropolitan</td>\n",
       "      <td>0</td>\n",
       "      <td>0</td>\n",
       "      <td>1</td>\n",
       "      <td>0</td>\n",
       "      <td>0</td>\n",
       "      <td>0</td>\n",
       "      <td>0</td>\n",
       "      <td>0</td>\n",
       "    </tr>\n",
       "    <tr>\n",
       "      <th>1</th>\n",
       "      <td>Abbotsford</td>\n",
       "      <td>2</td>\n",
       "      <td>1035000.0</td>\n",
       "      <td>S</td>\n",
       "      <td>Biggin</td>\n",
       "      <td>4/02/2016</td>\n",
       "      <td>2.5</td>\n",
       "      <td>3067.0</td>\n",
       "      <td>3067.0</td>\n",
       "      <td>2.0</td>\n",
       "      <td>1.0</td>\n",
       "      <td>0.0</td>\n",
       "      <td>156.0</td>\n",
       "      <td>79.0</td>\n",
       "      <td>1900.0</td>\n",
       "      <td>-37.80790</td>\n",
       "      <td>144.99340</td>\n",
       "      <td>258.0</td>\n",
       "      <td>130.624</td>\n",
       "      <td>605.152</td>\n",
       "      <td>2187.032</td>\n",
       "      <td>h</td>\n",
       "      <td>1</td>\n",
       "      <td>0</td>\n",
       "      <td>0</td>\n",
       "      <td>Northern Metropolitan</td>\n",
       "      <td>0</td>\n",
       "      <td>0</td>\n",
       "      <td>1</td>\n",
       "      <td>0</td>\n",
       "      <td>0</td>\n",
       "      <td>0</td>\n",
       "      <td>0</td>\n",
       "      <td>0</td>\n",
       "    </tr>\n",
       "    <tr>\n",
       "      <th>2</th>\n",
       "      <td>Abbotsford</td>\n",
       "      <td>3</td>\n",
       "      <td>1465000.0</td>\n",
       "      <td>SP</td>\n",
       "      <td>Biggin</td>\n",
       "      <td>4/03/2017</td>\n",
       "      <td>2.5</td>\n",
       "      <td>3067.0</td>\n",
       "      <td>3067.0</td>\n",
       "      <td>3.0</td>\n",
       "      <td>2.0</td>\n",
       "      <td>0.0</td>\n",
       "      <td>134.0</td>\n",
       "      <td>150.0</td>\n",
       "      <td>1900.0</td>\n",
       "      <td>-37.80930</td>\n",
       "      <td>144.99440</td>\n",
       "      <td>258.0</td>\n",
       "      <td>130.624</td>\n",
       "      <td>605.152</td>\n",
       "      <td>2187.032</td>\n",
       "      <td>h</td>\n",
       "      <td>1</td>\n",
       "      <td>0</td>\n",
       "      <td>0</td>\n",
       "      <td>Northern Metropolitan</td>\n",
       "      <td>0</td>\n",
       "      <td>0</td>\n",
       "      <td>1</td>\n",
       "      <td>0</td>\n",
       "      <td>0</td>\n",
       "      <td>0</td>\n",
       "      <td>0</td>\n",
       "      <td>0</td>\n",
       "    </tr>\n",
       "    <tr>\n",
       "      <th>3</th>\n",
       "      <td>Abbotsford</td>\n",
       "      <td>3</td>\n",
       "      <td>850000.0</td>\n",
       "      <td>PI</td>\n",
       "      <td>Biggin</td>\n",
       "      <td>4/03/2017</td>\n",
       "      <td>2.5</td>\n",
       "      <td>3067.0</td>\n",
       "      <td>3067.0</td>\n",
       "      <td>3.0</td>\n",
       "      <td>2.0</td>\n",
       "      <td>1.0</td>\n",
       "      <td>94.0</td>\n",
       "      <td>NaN</td>\n",
       "      <td>NaN</td>\n",
       "      <td>-37.79690</td>\n",
       "      <td>144.99690</td>\n",
       "      <td>258.0</td>\n",
       "      <td>130.624</td>\n",
       "      <td>605.152</td>\n",
       "      <td>2187.032</td>\n",
       "      <td>h</td>\n",
       "      <td>1</td>\n",
       "      <td>0</td>\n",
       "      <td>0</td>\n",
       "      <td>Northern Metropolitan</td>\n",
       "      <td>0</td>\n",
       "      <td>0</td>\n",
       "      <td>1</td>\n",
       "      <td>0</td>\n",
       "      <td>0</td>\n",
       "      <td>0</td>\n",
       "      <td>0</td>\n",
       "      <td>0</td>\n",
       "    </tr>\n",
       "    <tr>\n",
       "      <th>4</th>\n",
       "      <td>Abbotsford</td>\n",
       "      <td>4</td>\n",
       "      <td>1600000.0</td>\n",
       "      <td>VB</td>\n",
       "      <td>Nelson</td>\n",
       "      <td>4/06/2016</td>\n",
       "      <td>2.5</td>\n",
       "      <td>3067.0</td>\n",
       "      <td>3067.0</td>\n",
       "      <td>3.0</td>\n",
       "      <td>1.0</td>\n",
       "      <td>2.0</td>\n",
       "      <td>120.0</td>\n",
       "      <td>142.0</td>\n",
       "      <td>2014.0</td>\n",
       "      <td>-37.80720</td>\n",
       "      <td>144.99410</td>\n",
       "      <td>258.0</td>\n",
       "      <td>130.624</td>\n",
       "      <td>605.152</td>\n",
       "      <td>2187.032</td>\n",
       "      <td>h</td>\n",
       "      <td>1</td>\n",
       "      <td>0</td>\n",
       "      <td>0</td>\n",
       "      <td>Northern Metropolitan</td>\n",
       "      <td>0</td>\n",
       "      <td>0</td>\n",
       "      <td>1</td>\n",
       "      <td>0</td>\n",
       "      <td>0</td>\n",
       "      <td>0</td>\n",
       "      <td>0</td>\n",
       "      <td>0</td>\n",
       "    </tr>\n",
       "    <tr>\n",
       "      <th>...</th>\n",
       "      <td>...</td>\n",
       "      <td>...</td>\n",
       "      <td>...</td>\n",
       "      <td>...</td>\n",
       "      <td>...</td>\n",
       "      <td>...</td>\n",
       "      <td>...</td>\n",
       "      <td>...</td>\n",
       "      <td>...</td>\n",
       "      <td>...</td>\n",
       "      <td>...</td>\n",
       "      <td>...</td>\n",
       "      <td>...</td>\n",
       "      <td>...</td>\n",
       "      <td>...</td>\n",
       "      <td>...</td>\n",
       "      <td>...</td>\n",
       "      <td>...</td>\n",
       "      <td>...</td>\n",
       "      <td>...</td>\n",
       "      <td>...</td>\n",
       "      <td>...</td>\n",
       "      <td>...</td>\n",
       "      <td>...</td>\n",
       "      <td>...</td>\n",
       "      <td>...</td>\n",
       "      <td>...</td>\n",
       "      <td>...</td>\n",
       "      <td>...</td>\n",
       "      <td>...</td>\n",
       "      <td>...</td>\n",
       "      <td>...</td>\n",
       "      <td>...</td>\n",
       "      <td>...</td>\n",
       "    </tr>\n",
       "    <tr>\n",
       "      <th>13206</th>\n",
       "      <td>Wheelers Hill</td>\n",
       "      <td>4</td>\n",
       "      <td>1245000.0</td>\n",
       "      <td>S</td>\n",
       "      <td>Barry</td>\n",
       "      <td>26/08/2017</td>\n",
       "      <td>16.7</td>\n",
       "      <td>3150.0</td>\n",
       "      <td>3150.0</td>\n",
       "      <td>4.0</td>\n",
       "      <td>2.0</td>\n",
       "      <td>2.0</td>\n",
       "      <td>652.0</td>\n",
       "      <td>NaN</td>\n",
       "      <td>1981.0</td>\n",
       "      <td>-37.90562</td>\n",
       "      <td>145.16761</td>\n",
       "      <td>189.0</td>\n",
       "      <td>124.026</td>\n",
       "      <td>526.350</td>\n",
       "      <td>1901.611</td>\n",
       "      <td>h</td>\n",
       "      <td>1</td>\n",
       "      <td>0</td>\n",
       "      <td>0</td>\n",
       "      <td>South-Eastern Metropolitan</td>\n",
       "      <td>0</td>\n",
       "      <td>0</td>\n",
       "      <td>0</td>\n",
       "      <td>0</td>\n",
       "      <td>1</td>\n",
       "      <td>0</td>\n",
       "      <td>0</td>\n",
       "      <td>0</td>\n",
       "    </tr>\n",
       "    <tr>\n",
       "      <th>13207</th>\n",
       "      <td>Williamstown</td>\n",
       "      <td>3</td>\n",
       "      <td>1031000.0</td>\n",
       "      <td>SP</td>\n",
       "      <td>Williams</td>\n",
       "      <td>26/08/2017</td>\n",
       "      <td>6.8</td>\n",
       "      <td>3016.0</td>\n",
       "      <td>3016.0</td>\n",
       "      <td>3.0</td>\n",
       "      <td>2.0</td>\n",
       "      <td>2.0</td>\n",
       "      <td>333.0</td>\n",
       "      <td>133.0</td>\n",
       "      <td>1995.0</td>\n",
       "      <td>-37.85927</td>\n",
       "      <td>144.87904</td>\n",
       "      <td>74.0</td>\n",
       "      <td>191.095</td>\n",
       "      <td>612.250</td>\n",
       "      <td>2119.750</td>\n",
       "      <td>h</td>\n",
       "      <td>1</td>\n",
       "      <td>0</td>\n",
       "      <td>0</td>\n",
       "      <td>Western Metropolitan</td>\n",
       "      <td>0</td>\n",
       "      <td>0</td>\n",
       "      <td>0</td>\n",
       "      <td>0</td>\n",
       "      <td>0</td>\n",
       "      <td>0</td>\n",
       "      <td>1</td>\n",
       "      <td>0</td>\n",
       "    </tr>\n",
       "    <tr>\n",
       "      <th>13208</th>\n",
       "      <td>Williamstown</td>\n",
       "      <td>3</td>\n",
       "      <td>1170000.0</td>\n",
       "      <td>S</td>\n",
       "      <td>Raine</td>\n",
       "      <td>26/08/2017</td>\n",
       "      <td>6.8</td>\n",
       "      <td>3016.0</td>\n",
       "      <td>3016.0</td>\n",
       "      <td>3.0</td>\n",
       "      <td>2.0</td>\n",
       "      <td>4.0</td>\n",
       "      <td>436.0</td>\n",
       "      <td>NaN</td>\n",
       "      <td>1997.0</td>\n",
       "      <td>-37.85274</td>\n",
       "      <td>144.88738</td>\n",
       "      <td>74.0</td>\n",
       "      <td>191.095</td>\n",
       "      <td>612.250</td>\n",
       "      <td>2119.750</td>\n",
       "      <td>h</td>\n",
       "      <td>1</td>\n",
       "      <td>0</td>\n",
       "      <td>0</td>\n",
       "      <td>Western Metropolitan</td>\n",
       "      <td>0</td>\n",
       "      <td>0</td>\n",
       "      <td>0</td>\n",
       "      <td>0</td>\n",
       "      <td>0</td>\n",
       "      <td>0</td>\n",
       "      <td>1</td>\n",
       "      <td>0</td>\n",
       "    </tr>\n",
       "    <tr>\n",
       "      <th>13209</th>\n",
       "      <td>Williamstown</td>\n",
       "      <td>4</td>\n",
       "      <td>2500000.0</td>\n",
       "      <td>PI</td>\n",
       "      <td>Sweeney</td>\n",
       "      <td>26/08/2017</td>\n",
       "      <td>6.8</td>\n",
       "      <td>3016.0</td>\n",
       "      <td>3016.0</td>\n",
       "      <td>4.0</td>\n",
       "      <td>1.0</td>\n",
       "      <td>5.0</td>\n",
       "      <td>866.0</td>\n",
       "      <td>157.0</td>\n",
       "      <td>1920.0</td>\n",
       "      <td>-37.85908</td>\n",
       "      <td>144.89299</td>\n",
       "      <td>74.0</td>\n",
       "      <td>191.095</td>\n",
       "      <td>612.250</td>\n",
       "      <td>2119.750</td>\n",
       "      <td>h</td>\n",
       "      <td>1</td>\n",
       "      <td>0</td>\n",
       "      <td>0</td>\n",
       "      <td>Western Metropolitan</td>\n",
       "      <td>0</td>\n",
       "      <td>0</td>\n",
       "      <td>0</td>\n",
       "      <td>0</td>\n",
       "      <td>0</td>\n",
       "      <td>0</td>\n",
       "      <td>1</td>\n",
       "      <td>0</td>\n",
       "    </tr>\n",
       "    <tr>\n",
       "      <th>13210</th>\n",
       "      <td>Yarraville</td>\n",
       "      <td>4</td>\n",
       "      <td>1285000.0</td>\n",
       "      <td>SP</td>\n",
       "      <td>Village</td>\n",
       "      <td>26/08/2017</td>\n",
       "      <td>6.3</td>\n",
       "      <td>3013.0</td>\n",
       "      <td>3013.0</td>\n",
       "      <td>4.0</td>\n",
       "      <td>1.0</td>\n",
       "      <td>1.0</td>\n",
       "      <td>362.0</td>\n",
       "      <td>112.0</td>\n",
       "      <td>1920.0</td>\n",
       "      <td>-37.81188</td>\n",
       "      <td>144.88449</td>\n",
       "      <td>82.0</td>\n",
       "      <td>135.610</td>\n",
       "      <td>923.571</td>\n",
       "      <td>2966.091</td>\n",
       "      <td>h</td>\n",
       "      <td>1</td>\n",
       "      <td>0</td>\n",
       "      <td>0</td>\n",
       "      <td>Western Metropolitan</td>\n",
       "      <td>0</td>\n",
       "      <td>0</td>\n",
       "      <td>0</td>\n",
       "      <td>0</td>\n",
       "      <td>0</td>\n",
       "      <td>0</td>\n",
       "      <td>1</td>\n",
       "      <td>0</td>\n",
       "    </tr>\n",
       "  </tbody>\n",
       "</table>\n",
       "<p>13211 rows × 34 columns</p>\n",
       "</div>"
      ],
      "text/plain": [
       "              Suburb  Rooms      Price Method   SellerG        Date  Distance  \\\n",
       "0         Abbotsford      2  1480000.0      S    Biggin   3/12/2016       2.5   \n",
       "1         Abbotsford      2  1035000.0      S    Biggin   4/02/2016       2.5   \n",
       "2         Abbotsford      3  1465000.0     SP    Biggin   4/03/2017       2.5   \n",
       "3         Abbotsford      3   850000.0     PI    Biggin   4/03/2017       2.5   \n",
       "4         Abbotsford      4  1600000.0     VB    Nelson   4/06/2016       2.5   \n",
       "...              ...    ...        ...    ...       ...         ...       ...   \n",
       "13206  Wheelers Hill      4  1245000.0      S     Barry  26/08/2017      16.7   \n",
       "13207   Williamstown      3  1031000.0     SP  Williams  26/08/2017       6.8   \n",
       "13208   Williamstown      3  1170000.0      S     Raine  26/08/2017       6.8   \n",
       "13209   Williamstown      4  2500000.0     PI   Sweeney  26/08/2017       6.8   \n",
       "13210     Yarraville      4  1285000.0     SP   Village  26/08/2017       6.3   \n",
       "\n",
       "       Postcode  zipcode  Bedroom2  Bathroom  Car  Landsize  BuildingArea  \\\n",
       "0        3067.0   3067.0       2.0       1.0  1.0     202.0           NaN   \n",
       "1        3067.0   3067.0       2.0       1.0  0.0     156.0          79.0   \n",
       "2        3067.0   3067.0       3.0       2.0  0.0     134.0         150.0   \n",
       "3        3067.0   3067.0       3.0       2.0  1.0      94.0           NaN   \n",
       "4        3067.0   3067.0       3.0       1.0  2.0     120.0         142.0   \n",
       "...         ...      ...       ...       ...  ...       ...           ...   \n",
       "13206    3150.0   3150.0       4.0       2.0  2.0     652.0           NaN   \n",
       "13207    3016.0   3016.0       3.0       2.0  2.0     333.0         133.0   \n",
       "13208    3016.0   3016.0       3.0       2.0  4.0     436.0           NaN   \n",
       "13209    3016.0   3016.0       4.0       1.0  5.0     866.0         157.0   \n",
       "13210    3013.0   3013.0       4.0       1.0  1.0     362.0         112.0   \n",
       "\n",
       "       YearBuilt  Lattitude  Longtitude  airbnb_record_count  \\\n",
       "0            NaN  -37.79960   144.99840                258.0   \n",
       "1         1900.0  -37.80790   144.99340                258.0   \n",
       "2         1900.0  -37.80930   144.99440                258.0   \n",
       "3            NaN  -37.79690   144.99690                258.0   \n",
       "4         2014.0  -37.80720   144.99410                258.0   \n",
       "...          ...        ...         ...                  ...   \n",
       "13206     1981.0  -37.90562   145.16761                189.0   \n",
       "13207     1995.0  -37.85927   144.87904                 74.0   \n",
       "13208     1997.0  -37.85274   144.88738                 74.0   \n",
       "13209     1920.0  -37.85908   144.89299                 74.0   \n",
       "13210     1920.0  -37.81188   144.88449                 82.0   \n",
       "\n",
       "       airbnb_price_mean  airbnb_weekly_price_mean  airbnb_monthly_price_mean  \\\n",
       "0                130.624                   605.152                   2187.032   \n",
       "1                130.624                   605.152                   2187.032   \n",
       "2                130.624                   605.152                   2187.032   \n",
       "3                130.624                   605.152                   2187.032   \n",
       "4                130.624                   605.152                   2187.032   \n",
       "...                  ...                       ...                        ...   \n",
       "13206            124.026                   526.350                   1901.611   \n",
       "13207            191.095                   612.250                   2119.750   \n",
       "13208            191.095                   612.250                   2119.750   \n",
       "13209            191.095                   612.250                   2119.750   \n",
       "13210            135.610                   923.571                   2966.091   \n",
       "\n",
       "      Type  Type_h  Type_t  Type_u                  Regionname  \\\n",
       "0        h       1       0       0       Northern Metropolitan   \n",
       "1        h       1       0       0       Northern Metropolitan   \n",
       "2        h       1       0       0       Northern Metropolitan   \n",
       "3        h       1       0       0       Northern Metropolitan   \n",
       "4        h       1       0       0       Northern Metropolitan   \n",
       "...    ...     ...     ...     ...                         ...   \n",
       "13206    h       1       0       0  South-Eastern Metropolitan   \n",
       "13207    h       1       0       0        Western Metropolitan   \n",
       "13208    h       1       0       0        Western Metropolitan   \n",
       "13209    h       1       0       0        Western Metropolitan   \n",
       "13210    h       1       0       0        Western Metropolitan   \n",
       "\n",
       "       Eastern Metropolitan  Eastern Victoria  Northern Metropolitan  \\\n",
       "0                         0                 0                      1   \n",
       "1                         0                 0                      1   \n",
       "2                         0                 0                      1   \n",
       "3                         0                 0                      1   \n",
       "4                         0                 0                      1   \n",
       "...                     ...               ...                    ...   \n",
       "13206                     0                 0                      0   \n",
       "13207                     0                 0                      0   \n",
       "13208                     0                 0                      0   \n",
       "13209                     0                 0                      0   \n",
       "13210                     0                 0                      0   \n",
       "\n",
       "       Northern Victoria  South-Eastern Metropolitan  Southern Metropolitan  \\\n",
       "0                      0                           0                      0   \n",
       "1                      0                           0                      0   \n",
       "2                      0                           0                      0   \n",
       "3                      0                           0                      0   \n",
       "4                      0                           0                      0   \n",
       "...                  ...                         ...                    ...   \n",
       "13206                  0                           1                      0   \n",
       "13207                  0                           0                      0   \n",
       "13208                  0                           0                      0   \n",
       "13209                  0                           0                      0   \n",
       "13210                  0                           0                      0   \n",
       "\n",
       "       Western Metropolitan  Western Victoria  \n",
       "0                         0                 0  \n",
       "1                         0                 0  \n",
       "2                         0                 0  \n",
       "3                         0                 0  \n",
       "4                         0                 0  \n",
       "...                     ...               ...  \n",
       "13206                     0                 0  \n",
       "13207                     1                 0  \n",
       "13208                     1                 0  \n",
       "13209                     1                 0  \n",
       "13210                     1                 0  \n",
       "\n",
       "[13211 rows x 34 columns]"
      ]
     },
     "execution_count": 26,
     "metadata": {},
     "output_type": "execute_result"
    }
   ],
   "source": [
    "# Muestro todas las columnas resultado del data frame nuevo donde aplique el metodo de ONEHOTENCODER\n",
    "# para la variable categorica Method. Con el siguiente seto veo todas las columnas\n",
    "pandas.set_option('display.max_columns', None)\n",
    "\n",
    "melb_df"
   ]
  },
  {
   "cell_type": "markdown",
   "metadata": {
    "id": "ismngxPcfoWb"
   },
   "source": [
    "## Ejercicio 2: Imputación por IterativeImputer y KNN\n",
    "\n",
    "En el teórico se presentó el método `IterativeImputer` para imputar valores faltantes en variables numéricas. Sin embargo, los ejemplos presentados sólo utilizaban algunas variables numéricas presentes en el conjunto de datos. En este ejercicio, utilizaremos la matriz de datos codificada para imputar datos faltantes de manera más precisa.\n",
    "\n",
    "1. Agregue a la matriz obtenida en el punto anterior las columnas `YearBuilt` y `BuildingArea`.\n",
    "2. Aplique una instancia de `IterativeImputer` con un estimador `KNeighborsRegressor` para imputar los valores de las variables. ¿Es necesario estandarizar o escalar los datos previamente?\n",
    "3. Realice un gráfico mostrando la distribución de cada variable antes de ser imputada, y con ambos métodos de imputación."
   ]
  },
  {
   "cell_type": "code",
   "execution_count": 27,
   "metadata": {
    "id": "WqyCrgH6WtE1"
   },
   "outputs": [],
   "source": [
    "from sklearn.experimental import enable_iterative_imputer\n",
    "from sklearn.neighbors import KNeighborsRegressor\n",
    "from sklearn.impute import IterativeImputer\n",
    "from sklearn.impute import KNNImputer"
   ]
  },
  {
   "cell_type": "code",
   "execution_count": 28,
   "metadata": {
    "colab": {
     "base_uri": "https://localhost:8080/"
    },
    "id": "-nDWsMaaYEj2",
    "outputId": "2ba2740c-3b3b-4421-ad95-8c8f0284c338"
   },
   "outputs": [
    {
     "data": {
      "text/plain": [
       "274.0"
      ]
     },
     "execution_count": 28,
     "metadata": {},
     "output_type": "execute_result"
    }
   ],
   "source": [
    "# Calculamos el valor del percenti 95%\n",
    "melb_df[\"BuildingArea\"].quantile(0.95)"
   ]
  },
  {
   "cell_type": "code",
   "execution_count": 29,
   "metadata": {
    "colab": {
     "base_uri": "https://localhost:8080/"
    },
    "id": "JB_iGjeBQMuu",
    "outputId": "f5bce555-7f08-400c-cd94-6e2218a9022b"
   },
   "outputs": [
    {
     "data": {
      "text/plain": [
       "YearBuilt       5203\n",
       "BuildingArea    6298\n",
       "dtype: int64"
      ]
     },
     "execution_count": 29,
     "metadata": {},
     "output_type": "execute_result"
    }
   ],
   "source": [
    "# Elemino dos registros de la base de datos original que afectan fuertemente en el\n",
    "# analisis grafico\n",
    "melb_df = melb_df[melb_df.YearBuilt != 1196]\n",
    "melb_df = melb_df[(melb_df.BuildingArea <= 275)|(melb_df.BuildingArea.isnull())]\n",
    "\n",
    "melb_df[['YearBuilt','BuildingArea']].isnull().sum()"
   ]
  },
  {
   "cell_type": "code",
   "execution_count": 30,
   "metadata": {
    "colab": {
     "base_uri": "https://localhost:8080/"
    },
    "id": "Kmfg4tykxgrb",
    "outputId": "ef4c4686-7e04-472a-82e9-311dc005e09f"
   },
   "outputs": [
    {
     "data": {
      "text/plain": [
       "YearBuilt       5203\n",
       "BuildingArea    6298\n",
       "dtype: int64"
      ]
     },
     "execution_count": 30,
     "metadata": {},
     "output_type": "execute_result"
    }
   ],
   "source": [
    "# Realizamos copia del data frame original para mantener los datos y comparar los procesos\n",
    "melb_df_imputer = melb_df.copy(deep=True)\n",
    "melb_df_knn = melb_df.copy(deep=True)\n",
    "\n",
    "melb_df[['YearBuilt','BuildingArea']].isnull().sum()"
   ]
  },
  {
   "cell_type": "markdown",
   "metadata": {
    "id": "e9eeB4rx3UoZ"
   },
   "source": [
    "\n",
    "**La diferencia importante con los metodos anteriores es que esta imputacion de valores se hace directamente sobre un data frame que pasamos como parametro**"
   ]
  },
  {
   "cell_type": "markdown",
   "metadata": {
    "id": "GP-973kwWf9C"
   },
   "source": [
    "###ITERACTIVEIMPUTER"
   ]
  },
  {
   "cell_type": "markdown",
   "metadata": {
    "id": "W93wILczpTMs"
   },
   "source": [
    "#### Seccion 1--> Calculo todo en uno\n",
    "\n",
    "Aplico el metodo considerando la alternativa de la **Seccion 3 --> TODO EN UNO**\n"
   ]
  },
  {
   "cell_type": "code",
   "execution_count": 31,
   "metadata": {
    "id": "G4ClSr_JapCw"
   },
   "outputs": [],
   "source": [
    "# Asigno el metodo INTERACTIVEIMPUTER con sus paramentros a la variable imputer para varibale\n",
    "# numericas consideradas 'YearBuilt','BuildingArea'. En este caso se procesan las dos juntas\n",
    "# Utilizamos el KNN como parametro para estimar con este metodo\n",
    "imputer = IterativeImputer(random_state=0, estimator=KNeighborsRegressor(n_neighbors=5))"
   ]
  },
  {
   "cell_type": "code",
   "execution_count": 32,
   "metadata": {
    "colab": {
     "base_uri": "https://localhost:8080/"
    },
    "id": "TRnObJq3Xwsu",
    "outputId": "8fe1dc98-d1b9-460a-864e-4684ebbf79aa"
   },
   "outputs": [
    {
     "name": "stderr",
     "output_type": "stream",
     "text": [
      "/Users/agustintrulli/miniconda3/envs/diplodatos_ayvd/lib/python3.6/site-packages/sklearn/impute/_iterative.py:686: ConvergenceWarning: [IterativeImputer] Early stopping criterion not reached.\n",
      "  \" reached.\", ConvergenceWarning)\n"
     ]
    },
    {
     "data": {
      "text/plain": [
       "YearBuilt       0\n",
       "BuildingArea    0\n",
       "dtype: int64"
      ]
     },
     "execution_count": 32,
     "metadata": {},
     "output_type": "execute_result"
    }
   ],
   "source": [
    "# Aplico el metodo INTERACTIVEIMPUTER al data frame melb_df_imputer copia del original\n",
    "melb_df_imputer[['YearBuilt','BuildingArea']] = imputer.fit_transform(melb_df_imputer[['YearBuilt', 'BuildingArea']])\n",
    "\n",
    "melb_df_imputer[['YearBuilt','BuildingArea']].isnull().sum()"
   ]
  },
  {
   "cell_type": "markdown",
   "metadata": {
    "id": "n7fRrkaepfIV"
   },
   "source": [
    "####Seccion 2 --> Analisis grafico"
   ]
  },
  {
   "cell_type": "code",
   "execution_count": 33,
   "metadata": {
    "id": "I8U--7Nqnd2I"
   },
   "outputs": [],
   "source": [
    "# Creamos un df para registrar los datos para la variable YearBuilt que estan \n",
    "# en el data frame \n",
    "melb_year_build = melb_df.YearBuilt.dropna().to_frame()\n",
    "melb_year_build['Imputation'] = 'Original'\n",
    "\n",
    "# Creamos un df para registrar los datos que se impoutaron con el metedo \n",
    "# INTERACTIVEIMPUTER para la variable YearBuilt\n",
    "imputer_year_built = melb_df_imputer.YearBuilt.to_frame()\n",
    "imputer_year_built['Imputation'] = 'Imputacion en YearBuilt'\n",
    "\n",
    "data_year_built = pandas.concat([imputer_year_built, melb_year_build], ignore_index=True)"
   ]
  },
  {
   "cell_type": "code",
   "execution_count": 34,
   "metadata": {
    "colab": {
     "base_uri": "https://localhost:8080/",
     "height": 355
    },
    "id": "uo0ambvv2H5h",
    "outputId": "6ac7120e-1859-456a-aad7-0b7f6d854ea5"
   },
   "outputs": [
    {
     "data": {
      "image/png": "[encoded data removed]",
      "text/plain": [
       "<Figure size 1440x360 with 1 Axes>"
      ]
     },
     "metadata": {
      "needs_background": "light"
     },
     "output_type": "display_data"
    }
   ],
   "source": [
    "# Construyo el grafico comparando los dos dataframe que se crearon para representar \n",
    "# el YearBuilt original y el calculado con INTERACTIVEIMPUTER\n",
    "\n",
    "fig = plt.figure(figsize=(20, 5))\n",
    "g = seaborn.kdeplot(data=data_year_built, x='YearBuilt', hue='Imputation')"
   ]
  },
  {
   "cell_type": "code",
   "execution_count": 35,
   "metadata": {
    "id": "GmZZTKKepx-Y"
   },
   "outputs": [],
   "source": [
    "# Creamos un df para registrar los datos para la variable BuildingArea que estan \n",
    "# en el data frame \n",
    "melb_build_area = melb_df.BuildingArea.dropna().to_frame()\n",
    "melb_build_area['Imputation'] = 'Original'\n",
    "\n",
    "# Creamos un df para registrar los datos que se impoutaron con el metedo \n",
    "# INTERACTIVEIMPUTER para la variable BuildingArea\n",
    "imputer_build_area = melb_df_imputer.BuildingArea.to_frame()\n",
    "imputer_build_area['Imputation'] = 'Imputacion en BuildingArea'\n",
    "\n",
    "\n",
    "data_build_area = pandas.concat([imputer_build_area, melb_build_area], ignore_index=True)"
   ]
  },
  {
   "cell_type": "code",
   "execution_count": 36,
   "metadata": {
    "colab": {
     "base_uri": "https://localhost:8080/",
     "height": 355
    },
    "id": "wLBa8u90pxv2",
    "outputId": "5039f0ba-f2bf-47c8-de29-df113674a4cf"
   },
   "outputs": [
    {
     "data": {
      "image/png": "[encoded data removed]",
      "text/plain": [
       "<Figure size 1440x360 with 1 Axes>"
      ]
     },
     "metadata": {
      "needs_background": "light"
     },
     "output_type": "display_data"
    }
   ],
   "source": [
    "# Construyo el grafico comparando los dos dataframe que se crearon para representar \n",
    "# el YearBuilt original y el calculado con INTERACTIVEIMPUTER\n",
    "fig = plt.figure(figsize=(20, 5))\n",
    "g = seaborn.kdeplot(data=data_build_area, x='BuildingArea', hue='Imputation')"
   ]
  },
  {
   "cell_type": "markdown",
   "metadata": {
    "id": "WOyaMIVfSjNy"
   },
   "source": [
    "###Metodo KNN visto en Clases"
   ]
  },
  {
   "cell_type": "markdown",
   "metadata": {
    "id": "Iteo3ZBd3Jw6"
   },
   "source": [
    "#### Seccion 1--> Calculo todo en uno\n",
    "\n",
    "Aplico el metodo considerando la alternativa de la **Seccion 3 --> TODO EN UNO**"
   ]
  },
  {
   "cell_type": "code",
   "execution_count": 37,
   "metadata": {
    "id": "qQ-WEWJvSi7A"
   },
   "outputs": [],
   "source": [
    "# Asigno el metodo KNN con sus paramentros a la variable knn_imputer para varibale\n",
    "# numericas consideradas 'YearBuilt','BuildingArea'. En este caso se procesan las dos juntas\n",
    "knn_imputer = KNNImputer(n_neighbors=2, weights=\"uniform\")\n"
   ]
  },
  {
   "cell_type": "code",
   "execution_count": 38,
   "metadata": {
    "colab": {
     "base_uri": "https://localhost:8080/"
    },
    "id": "QrHENwEbSi0v",
    "outputId": "50388c84-6af8-4151-f206-6b19a317c4b0"
   },
   "outputs": [
    {
     "data": {
      "text/plain": [
       "YearBuilt       0\n",
       "BuildingArea    0\n",
       "dtype: int64"
      ]
     },
     "execution_count": 38,
     "metadata": {},
     "output_type": "execute_result"
    }
   ],
   "source": [
    "# Aplico el metodo KNN al data frame melb_df_knn copia del original\n",
    "melb_df_knn[['YearBuilt','BuildingArea']] = knn_imputer.fit_transform(melb_df_knn[['YearBuilt','BuildingArea']])\n",
    "\n",
    "melb_df_imputer[['YearBuilt','BuildingArea']].isnull().sum()"
   ]
  },
  {
   "cell_type": "markdown",
   "metadata": {
    "id": "eHMnspDl4k5I"
   },
   "source": [
    "####Seccion 2 --> Analisis grafico"
   ]
  },
  {
   "cell_type": "code",
   "execution_count": 39,
   "metadata": {
    "id": "6nKUO41ZSivJ"
   },
   "outputs": [],
   "source": [
    "# Creamos un df para registrar los datos para la variable YearBuilt que estan \n",
    "# en el data frame \n",
    "knn_year_built = melb_df_knn.YearBuilt.to_frame()\n",
    "knn_year_built['Imputation'] = 'KNN over YearBuilt'\n",
    "\n",
    "# Creamos un df para registrar los datos que se impoutaron con el metedo \n",
    "# KNN para la variable YearBuilt\n",
    "melb_year_build = melb_df.YearBuilt.dropna().to_frame()\n",
    "melb_year_build['Imputation'] = 'Original'\n",
    "\n",
    "data_year_build = pandas.concat([knn_year_built, melb_year_build], ignore_index=True)"
   ]
  },
  {
   "cell_type": "code",
   "execution_count": 40,
   "metadata": {
    "colab": {
     "base_uri": "https://localhost:8080/",
     "height": 355
    },
    "id": "czLAD_rc5alh",
    "outputId": "decb4bf6-c81f-4cd7-b592-527519a66838"
   },
   "outputs": [
    {
     "data": {
      "image/png": "[encoded data removed]",
      "text/plain": [
       "<Figure size 1440x360 with 1 Axes>"
      ]
     },
     "metadata": {
      "needs_background": "light"
     },
     "output_type": "display_data"
    }
   ],
   "source": [
    "# Construyo el grafico comparando los dos dataframe que se crearon para representar \n",
    "# el YearBuilt original y el calculado con INTERACTIVEIMPUTER\n",
    "fig = plt.figure(figsize=(20, 5))\n",
    "g = seaborn.kdeplot(data=data_year_build, x='YearBuilt', hue='Imputation')"
   ]
  },
  {
   "cell_type": "code",
   "execution_count": 41,
   "metadata": {
    "id": "rKkN2lB0Sip4"
   },
   "outputs": [],
   "source": [
    "# Creamos un df para registrar los datos para la variable BuildingArea que estan \n",
    "# en el data frame \n",
    "knn_build_area = melb_df_knn.BuildingArea.to_frame()\n",
    "knn_build_area['Imputation'] = 'KNN over BuildingArea'\n",
    "\n",
    "# Creamos un df para registrar los datos que se impoutaron con el metedo \n",
    "# KNN para la variable BuildingArea\n",
    "melb_build_area = melb_df.BuildingArea.dropna().to_frame()\n",
    "melb_build_area['Imputation'] = 'Original'\n",
    "\n",
    "data_build_area = pandas.concat([knn_build_area, melb_build_area], ignore_index=True)"
   ]
  },
  {
   "cell_type": "code",
   "execution_count": 42,
   "metadata": {
    "colab": {
     "base_uri": "https://localhost:8080/",
     "height": 356
    },
    "id": "qcs52XLYSijD",
    "outputId": "5340bb4c-6fce-498c-deac-34a8d5161818"
   },
   "outputs": [
    {
     "data": {
      "image/png": "[encoded data removed]",
      "text/plain": [
       "<Figure size 1440x360 with 1 Axes>"
      ]
     },
     "metadata": {
      "needs_background": "light"
     },
     "output_type": "display_data"
    }
   ],
   "source": [
    "fig = plt.figure(figsize=(20, 5))\n",
    "g = seaborn.kdeplot(data=data_build_area, x='BuildingArea', hue='Imputation')"
   ]
  },
  {
   "cell_type": "markdown",
   "metadata": {
    "id": "NBN7-5OIxjJW"
   },
   "source": [
    "## Ejercicio 3 y 4: Reducción de dimensionalidad y guardado de resultados.\n",
    "\n",
    "Utilizando la matriz obtenida en el ejercicio anterior:\n",
    "1. Aplique `PCA` para obtener $n$ componentes principales de la matriz, donde `n = min(20, X.shape[0])`. ¿Es necesario estandarizar o escalar los datos?\n",
    "2. Grafique la varianza capturada por los primeros $n$ componentes principales, para cada $n$.\n",
    "3. En base al gráfico, seleccione las primeras $m$ columnas de la matriz transformada para agregar como nuevas características al conjunto de datos.\n",
    "\n",
    "Concatene y guarde el dataframe resultante."
   ]
  },
  {
   "cell_type": "code",
   "execution_count": 131,
   "metadata": {},
   "outputs": [],
   "source": [
    "import numpy as np\n",
    "import pandas as pd\n",
    "from sklearn.decomposition import PCA\n",
    "import plotly.express as px\n",
    "\n",
    "# to remove scientific notation.\n",
    "np.set_printoptions(suppress=True)"
   ]
  },
  {
   "cell_type": "code",
   "execution_count": 132,
   "metadata": {},
   "outputs": [],
   "source": [
    "selected_cols = ['Type_h', 'Type_t', 'Type_u', 'Northern Metropolitan', \n",
    "                 'Northern Victoria', 'South-Eastern Metropolitan', \n",
    "                 'Southern Metropolitan', 'Western Metropolitan', 'Western Victoria']\n",
    "\n",
    "df_to_reduce = melb_df_knn[selected_cols].copy()\n",
    "df_to_reduce = df_to_reduce.reset_index(drop=True) #re-escalling index"
   ]
  },
  {
   "cell_type": "code",
   "execution_count": 133,
   "metadata": {},
   "outputs": [
    {
     "data": {
      "text/html": [
       "<div>\n",
       "<style scoped>\n",
       "    .dataframe tbody tr th:only-of-type {\n",
       "        vertical-align: middle;\n",
       "    }\n",
       "\n",
       "    .dataframe tbody tr th {\n",
       "        vertical-align: top;\n",
       "    }\n",
       "\n",
       "    .dataframe thead th {\n",
       "        text-align: right;\n",
       "    }\n",
       "</style>\n",
       "<table border=\"1\" class=\"dataframe\">\n",
       "  <thead>\n",
       "    <tr style=\"text-align: right;\">\n",
       "      <th></th>\n",
       "      <th>Type_h</th>\n",
       "      <th>Type_t</th>\n",
       "      <th>Type_u</th>\n",
       "      <th>Northern Metropolitan</th>\n",
       "      <th>Northern Victoria</th>\n",
       "      <th>South-Eastern Metropolitan</th>\n",
       "      <th>Southern Metropolitan</th>\n",
       "      <th>Western Metropolitan</th>\n",
       "      <th>Western Victoria</th>\n",
       "    </tr>\n",
       "  </thead>\n",
       "  <tbody>\n",
       "    <tr>\n",
       "      <th>0</th>\n",
       "      <td>1</td>\n",
       "      <td>0</td>\n",
       "      <td>0</td>\n",
       "      <td>1</td>\n",
       "      <td>0</td>\n",
       "      <td>0</td>\n",
       "      <td>0</td>\n",
       "      <td>0</td>\n",
       "      <td>0</td>\n",
       "    </tr>\n",
       "    <tr>\n",
       "      <th>1</th>\n",
       "      <td>1</td>\n",
       "      <td>0</td>\n",
       "      <td>0</td>\n",
       "      <td>1</td>\n",
       "      <td>0</td>\n",
       "      <td>0</td>\n",
       "      <td>0</td>\n",
       "      <td>0</td>\n",
       "      <td>0</td>\n",
       "    </tr>\n",
       "    <tr>\n",
       "      <th>2</th>\n",
       "      <td>1</td>\n",
       "      <td>0</td>\n",
       "      <td>0</td>\n",
       "      <td>1</td>\n",
       "      <td>0</td>\n",
       "      <td>0</td>\n",
       "      <td>0</td>\n",
       "      <td>0</td>\n",
       "      <td>0</td>\n",
       "    </tr>\n",
       "    <tr>\n",
       "      <th>3</th>\n",
       "      <td>1</td>\n",
       "      <td>0</td>\n",
       "      <td>0</td>\n",
       "      <td>1</td>\n",
       "      <td>0</td>\n",
       "      <td>0</td>\n",
       "      <td>0</td>\n",
       "      <td>0</td>\n",
       "      <td>0</td>\n",
       "    </tr>\n",
       "    <tr>\n",
       "      <th>4</th>\n",
       "      <td>1</td>\n",
       "      <td>0</td>\n",
       "      <td>0</td>\n",
       "      <td>1</td>\n",
       "      <td>0</td>\n",
       "      <td>0</td>\n",
       "      <td>0</td>\n",
       "      <td>0</td>\n",
       "      <td>0</td>\n",
       "    </tr>\n",
       "  </tbody>\n",
       "</table>\n",
       "</div>"
      ],
      "text/plain": [
       "   Type_h  Type_t  Type_u  Northern Metropolitan  Northern Victoria  \\\n",
       "0       1       0       0                      1                  0   \n",
       "1       1       0       0                      1                  0   \n",
       "2       1       0       0                      1                  0   \n",
       "3       1       0       0                      1                  0   \n",
       "4       1       0       0                      1                  0   \n",
       "\n",
       "   South-Eastern Metropolitan  Southern Metropolitan  Western Metropolitan  \\\n",
       "0                           0                      0                     0   \n",
       "1                           0                      0                     0   \n",
       "2                           0                      0                     0   \n",
       "3                           0                      0                     0   \n",
       "4                           0                      0                     0   \n",
       "\n",
       "   Western Victoria  \n",
       "0                 0  \n",
       "1                 0  \n",
       "2                 0  \n",
       "3                 0  \n",
       "4                 0  "
      ]
     },
     "execution_count": 133,
     "metadata": {},
     "output_type": "execute_result"
    }
   ],
   "source": [
    "df_to_reduce.head()"
   ]
  },
  {
   "cell_type": "code",
   "execution_count": 134,
   "metadata": {},
   "outputs": [
    {
     "name": "stdout",
     "output_type": "stream",
     "text": [
      "1 components explained variance ratio:\n",
      "[0.36404237]\n",
      "Total: 0.36\n",
      "\n",
      "2 components explained variance ratio:\n",
      "[0.36404237 0.25702247]\n",
      "Total: 0.62\n",
      "\n",
      "3 components explained variance ratio:\n",
      "[0.36404237 0.25702247 0.20682642]\n",
      "Total: 0.83\n",
      "\n",
      "4 components explained variance ratio:\n",
      "[0.36404237 0.25702247 0.20682642 0.10077426]\n",
      "Total: 0.93\n",
      "\n",
      "5 components explained variance ratio:\n",
      "[0.36404237 0.25702247 0.20682642 0.10077426 0.04832299]\n",
      "Total: 0.98\n",
      "\n",
      "6 components explained variance ratio:\n",
      "[0.36404237 0.25702247 0.20682642 0.10077426 0.04832299 0.01826651]\n",
      "Total: 1.0\n",
      "\n",
      "7 components explained variance ratio:\n",
      "[0.36404237 0.25702247 0.20682642 0.10077426 0.04832299 0.01826651\n",
      " 0.00264309]\n",
      "Total: 1.0\n",
      "\n",
      "8 components explained variance ratio:\n",
      "[0.36404237 0.25702247 0.20682642 0.10077426 0.04832299 0.01826651\n",
      " 0.00264309 0.00210189]\n",
      "Total: 1.0\n",
      "\n",
      "9 components explained variance ratio:\n",
      "[0.36404237 0.25702247 0.20682642 0.10077426 0.04832299 0.01826651\n",
      " 0.00264309 0.00210189 0.        ]\n",
      "Total: 1.0\n",
      "\n"
     ]
    }
   ],
   "source": [
    "# Calculando, guardando y analizando el explained_variance_ratio_ para n componentes\n",
    "ratios = {}\n",
    "\n",
    "for n in range(1, 10):\n",
    "    pca = PCA(n_components=n)\n",
    "    pca.fit(df_to_reduce)\n",
    "    \n",
    "    explained_ratio = pca.explained_variance_ratio_\n",
    "    total_ratio = round(explained_ratio.sum(), 2)\n",
    "    ratios[n] = total_ratio\n",
    "    \n",
    "    print(f'{n} components explained variance ratio:')\n",
    "    print(explained_ratio)\n",
    "    print(f'Total: {total_ratio}\\n')"
   ]
  },
  {
   "cell_type": "code",
   "execution_count": 136,
   "metadata": {},
   "outputs": [
    {
     "data": {
      "application/vnd.plotly.v1+json": {
       "config": {
        "plotlyServerURL": "https://plot.ly"
       },
       "data": [
        {
         "hovertemplate": "n_components=%{x}<br>sum_explained_ratio=%{y}<extra></extra>",
         "legendgroup": "",
         "line": {
          "color": "#636efa",
          "dash": "solid"
         },
         "marker": {
          "symbol": "circle"
         },
         "mode": "markers+lines",
         "name": "",
         "orientation": "v",
         "showlegend": false,
         "type": "scatter",
         "x": [
          1,
          2,
          3,
          4,
          5,
          6,
          7,
          8,
          9
         ],
         "xaxis": "x",
         "y": [
          0.36,
          0.62,
          0.83,
          0.93,
          0.98,
          1,
          1,
          1,
          1
         ],
         "yaxis": "y"
        }
       ],
       "layout": {
        "legend": {
         "tracegroupgap": 0
        },
        "template": {
         "data": {
          "bar": [
           {
            "error_x": {
             "color": "#2a3f5f"
            },
            "error_y": {
             "color": "#2a3f5f"
            },
            "marker": {
             "line": {
              "color": "#E5ECF6",
              "width": 0.5
             },
             "pattern": {
              "fillmode": "overlay",
              "size": 10,
              "solidity": 0.2
             }
            },
            "type": "bar"
           }
          ],
          "barpolar": [
           {
            "marker": {
             "line": {
              "color": "#E5ECF6",
              "width": 0.5
             },
             "pattern": {
              "fillmode": "overlay",
              "size": 10,
              "solidity": 0.2
             }
            },
            "type": "barpolar"
           }
          ],
          "carpet": [
           {
            "aaxis": {
             "endlinecolor": "#2a3f5f",
             "gridcolor": "white",
             "linecolor": "white",
             "minorgridcolor": "white",
             "startlinecolor": "#2a3f5f"
            },
            "baxis": {
             "endlinecolor": "#2a3f5f",
             "gridcolor": "white",
             "linecolor": "white",
             "minorgridcolor": "white",
             "startlinecolor": "#2a3f5f"
            },
            "type": "carpet"
           }
          ],
          "choropleth": [
           {
            "colorbar": {
             "outlinewidth": 0,
             "ticks": ""
            },
            "type": "choropleth"
           }
          ],
          "contour": [
           {
            "colorbar": {
             "outlinewidth": 0,
             "ticks": ""
            },
            "colorscale": [
             [
              0,
              "#0d0887"
             ],
             [
              0.1111111111111111,
              "#46039f"
             ],
             [
              0.2222222222222222,
              "#7201a8"
             ],
             [
              0.3333333333333333,
              "#9c179e"
             ],
             [
              0.4444444444444444,
              "#bd3786"
             ],
             [
              0.5555555555555556,
              "#d8576b"
             ],
             [
              0.6666666666666666,
              "#ed7953"
             ],
             [
              0.7777777777777778,
              "#fb9f3a"
             ],
             [
              0.8888888888888888,
              "#fdca26"
             ],
             [
              1,
              "#f0f921"
             ]
            ],
            "type": "contour"
           }
          ],
          "contourcarpet": [
           {
            "colorbar": {
             "outlinewidth": 0,
             "ticks": ""
            },
            "type": "contourcarpet"
           }
          ],
          "heatmap": [
           {
            "colorbar": {
             "outlinewidth": 0,
             "ticks": ""
            },
            "colorscale": [
             [
              0,
              "#0d0887"
             ],
             [
              0.1111111111111111,
              "#46039f"
             ],
             [
              0.2222222222222222,
              "#7201a8"
             ],
             [
              0.3333333333333333,
              "#9c179e"
             ],
             [
              0.4444444444444444,
              "#bd3786"
             ],
             [
              0.5555555555555556,
              "#d8576b"
             ],
             [
              0.6666666666666666,
              "#ed7953"
             ],
             [
              0.7777777777777778,
              "#fb9f3a"
             ],
             [
              0.8888888888888888,
              "#fdca26"
             ],
             [
              1,
              "#f0f921"
             ]
            ],
            "type": "heatmap"
           }
          ],
          "heatmapgl": [
           {
            "colorbar": {
             "outlinewidth": 0,
             "ticks": ""
            },
            "colorscale": [
             [
              0,
              "#0d0887"
             ],
             [
              0.1111111111111111,
              "#46039f"
             ],
             [
              0.2222222222222222,
              "#7201a8"
             ],
             [
              0.3333333333333333,
              "#9c179e"
             ],
             [
              0.4444444444444444,
              "#bd3786"
             ],
             [
              0.5555555555555556,
              "#d8576b"
             ],
             [
              0.6666666666666666,
              "#ed7953"
             ],
             [
              0.7777777777777778,
              "#fb9f3a"
             ],
             [
              0.8888888888888888,
              "#fdca26"
             ],
             [
              1,
              "#f0f921"
             ]
            ],
            "type": "heatmapgl"
           }
          ],
          "histogram": [
           {
            "marker": {
             "pattern": {
              "fillmode": "overlay",
              "size": 10,
              "solidity": 0.2
             }
            },
            "type": "histogram"
           }
          ],
          "histogram2d": [
           {
            "colorbar": {
             "outlinewidth": 0,
             "ticks": ""
            },
            "colorscale": [
             [
              0,
              "#0d0887"
             ],
             [
              0.1111111111111111,
              "#46039f"
             ],
             [
              0.2222222222222222,
              "#7201a8"
             ],
             [
              0.3333333333333333,
              "#9c179e"
             ],
             [
              0.4444444444444444,
              "#bd3786"
             ],
             [
              0.5555555555555556,
              "#d8576b"
             ],
             [
              0.6666666666666666,
              "#ed7953"
             ],
             [
              0.7777777777777778,
              "#fb9f3a"
             ],
             [
              0.8888888888888888,
              "#fdca26"
             ],
             [
              1,
              "#f0f921"
             ]
            ],
            "type": "histogram2d"
           }
          ],
          "histogram2dcontour": [
           {
            "colorbar": {
             "outlinewidth": 0,
             "ticks": ""
            },
            "colorscale": [
             [
              0,
              "#0d0887"
             ],
             [
              0.1111111111111111,
              "#46039f"
             ],
             [
              0.2222222222222222,
              "#7201a8"
             ],
             [
              0.3333333333333333,
              "#9c179e"
             ],
             [
              0.4444444444444444,
              "#bd3786"
             ],
             [
              0.5555555555555556,
              "#d8576b"
             ],
             [
              0.6666666666666666,
              "#ed7953"
             ],
             [
              0.7777777777777778,
              "#fb9f3a"
             ],
             [
              0.8888888888888888,
              "#fdca26"
             ],
             [
              1,
              "#f0f921"
             ]
            ],
            "type": "histogram2dcontour"
           }
          ],
          "mesh3d": [
           {
            "colorbar": {
             "outlinewidth": 0,
             "ticks": ""
            },
            "type": "mesh3d"
           }
          ],
          "parcoords": [
           {
            "line": {
             "colorbar": {
              "outlinewidth": 0,
              "ticks": ""
             }
            },
            "type": "parcoords"
           }
          ],
          "pie": [
           {
            "automargin": true,
            "type": "pie"
           }
          ],
          "scatter": [
           {
            "marker": {
             "colorbar": {
              "outlinewidth": 0,
              "ticks": ""
             }
            },
            "type": "scatter"
           }
          ],
          "scatter3d": [
           {
            "line": {
             "colorbar": {
              "outlinewidth": 0,
              "ticks": ""
             }
            },
            "marker": {
             "colorbar": {
              "outlinewidth": 0,
              "ticks": ""
             }
            },
            "type": "scatter3d"
           }
          ],
          "scattercarpet": [
           {
            "marker": {
             "colorbar": {
              "outlinewidth": 0,
              "ticks": ""
             }
            },
            "type": "scattercarpet"
           }
          ],
          "scattergeo": [
           {
            "marker": {
             "colorbar": {
              "outlinewidth": 0,
              "ticks": ""
             }
            },
            "type": "scattergeo"
           }
          ],
          "scattergl": [
           {
            "marker": {
             "colorbar": {
              "outlinewidth": 0,
              "ticks": ""
             }
            },
            "type": "scattergl"
           }
          ],
          "scattermapbox": [
           {
            "marker": {
             "colorbar": {
              "outlinewidth": 0,
              "ticks": ""
             }
            },
            "type": "scattermapbox"
           }
          ],
          "scatterpolar": [
           {
            "marker": {
             "colorbar": {
              "outlinewidth": 0,
              "ticks": ""
             }
            },
            "type": "scatterpolar"
           }
          ],
          "scatterpolargl": [
           {
            "marker": {
             "colorbar": {
              "outlinewidth": 0,
              "ticks": ""
             }
            },
            "type": "scatterpolargl"
           }
          ],
          "scatterternary": [
           {
            "marker": {
             "colorbar": {
              "outlinewidth": 0,
              "ticks": ""
             }
            },
            "type": "scatterternary"
           }
          ],
          "surface": [
           {
            "colorbar": {
             "outlinewidth": 0,
             "ticks": ""
            },
            "colorscale": [
             [
              0,
              "#0d0887"
             ],
             [
              0.1111111111111111,
              "#46039f"
             ],
             [
              0.2222222222222222,
              "#7201a8"
             ],
             [
              0.3333333333333333,
              "#9c179e"
             ],
             [
              0.4444444444444444,
              "#bd3786"
             ],
             [
              0.5555555555555556,
              "#d8576b"
             ],
             [
              0.6666666666666666,
              "#ed7953"
             ],
             [
              0.7777777777777778,
              "#fb9f3a"
             ],
             [
              0.8888888888888888,
              "#fdca26"
             ],
             [
              1,
              "#f0f921"
             ]
            ],
            "type": "surface"
           }
          ],
          "table": [
           {
            "cells": {
             "fill": {
              "color": "#EBF0F8"
             },
             "line": {
              "color": "white"
             }
            },
            "header": {
             "fill": {
              "color": "#C8D4E3"
             },
             "line": {
              "color": "white"
             }
            },
            "type": "table"
           }
          ]
         },
         "layout": {
          "annotationdefaults": {
           "arrowcolor": "#2a3f5f",
           "arrowhead": 0,
           "arrowwidth": 1
          },
          "autotypenumbers": "strict",
          "coloraxis": {
           "colorbar": {
            "outlinewidth": 0,
            "ticks": ""
           }
          },
          "colorscale": {
           "diverging": [
            [
             0,
             "#8e0152"
            ],
            [
             0.1,
             "#c51b7d"
            ],
            [
             0.2,
             "#de77ae"
            ],
            [
             0.3,
             "#f1b6da"
            ],
            [
             0.4,
             "#fde0ef"
            ],
            [
             0.5,
             "#f7f7f7"
            ],
            [
             0.6,
             "#e6f5d0"
            ],
            [
             0.7,
             "#b8e186"
            ],
            [
             0.8,
             "#7fbc41"
            ],
            [
             0.9,
             "#4d9221"
            ],
            [
             1,
             "#276419"
            ]
           ],
           "sequential": [
            [
             0,
             "#0d0887"
            ],
            [
             0.1111111111111111,
             "#46039f"
            ],
            [
             0.2222222222222222,
             "#7201a8"
            ],
            [
             0.3333333333333333,
             "#9c179e"
            ],
            [
             0.4444444444444444,
             "#bd3786"
            ],
            [
             0.5555555555555556,
             "#d8576b"
            ],
            [
             0.6666666666666666,
             "#ed7953"
            ],
            [
             0.7777777777777778,
             "#fb9f3a"
            ],
            [
             0.8888888888888888,
             "#fdca26"
            ],
            [
             1,
             "#f0f921"
            ]
           ],
           "sequentialminus": [
            [
             0,
             "#0d0887"
            ],
            [
             0.1111111111111111,
             "#46039f"
            ],
            [
             0.2222222222222222,
             "#7201a8"
            ],
            [
             0.3333333333333333,
             "#9c179e"
            ],
            [
             0.4444444444444444,
             "#bd3786"
            ],
            [
             0.5555555555555556,
             "#d8576b"
            ],
            [
             0.6666666666666666,
             "#ed7953"
            ],
            [
             0.7777777777777778,
             "#fb9f3a"
            ],
            [
             0.8888888888888888,
             "#fdca26"
            ],
            [
             1,
             "#f0f921"
            ]
           ]
          },
          "colorway": [
           "#636efa",
           "#EF553B",
           "#00cc96",
           "#ab63fa",
           "#FFA15A",
           "#19d3f3",
           "#FF6692",
           "#B6E880",
           "#FF97FF",
           "#FECB52"
          ],
          "font": {
           "color": "#2a3f5f"
          },
          "geo": {
           "bgcolor": "white",
           "lakecolor": "white",
           "landcolor": "#E5ECF6",
           "showlakes": true,
           "showland": true,
           "subunitcolor": "white"
          },
          "hoverlabel": {
           "align": "left"
          },
          "hovermode": "closest",
          "mapbox": {
           "style": "light"
          },
          "paper_bgcolor": "white",
          "plot_bgcolor": "#E5ECF6",
          "polar": {
           "angularaxis": {
            "gridcolor": "white",
            "linecolor": "white",
            "ticks": ""
           },
           "bgcolor": "#E5ECF6",
           "radialaxis": {
            "gridcolor": "white",
            "linecolor": "white",
            "ticks": ""
           }
          },
          "scene": {
           "xaxis": {
            "backgroundcolor": "#E5ECF6",
            "gridcolor": "white",
            "gridwidth": 2,
            "linecolor": "white",
            "showbackground": true,
            "ticks": "",
            "zerolinecolor": "white"
           },
           "yaxis": {
            "backgroundcolor": "#E5ECF6",
            "gridcolor": "white",
            "gridwidth": 2,
            "linecolor": "white",
            "showbackground": true,
            "ticks": "",
            "zerolinecolor": "white"
           },
           "zaxis": {
            "backgroundcolor": "#E5ECF6",
            "gridcolor": "white",
            "gridwidth": 2,
            "linecolor": "white",
            "showbackground": true,
            "ticks": "",
            "zerolinecolor": "white"
           }
          },
          "shapedefaults": {
           "line": {
            "color": "#2a3f5f"
           }
          },
          "ternary": {
           "aaxis": {
            "gridcolor": "white",
            "linecolor": "white",
            "ticks": ""
           },
           "baxis": {
            "gridcolor": "white",
            "linecolor": "white",
            "ticks": ""
           },
           "bgcolor": "#E5ECF6",
           "caxis": {
            "gridcolor": "white",
            "linecolor": "white",
            "ticks": ""
           }
          },
          "title": {
           "x": 0.05
          },
          "xaxis": {
           "automargin": true,
           "gridcolor": "white",
           "linecolor": "white",
           "ticks": "",
           "title": {
            "standoff": 15
           },
           "zerolinecolor": "white",
           "zerolinewidth": 2
          },
          "yaxis": {
           "automargin": true,
           "gridcolor": "white",
           "linecolor": "white",
           "ticks": "",
           "title": {
            "standoff": 15
           },
           "zerolinecolor": "white",
           "zerolinewidth": 2
          }
         }
        },
        "title": {
         "text": "N explained variance ratio (PCA)"
        },
        "xaxis": {
         "anchor": "y",
         "domain": [
          0,
          1
         ],
         "title": {
          "text": "n_components"
         }
        },
        "yaxis": {
         "anchor": "x",
         "domain": [
          0,
          1
         ],
         "title": {
          "text": "sum_explained_ratio"
         }
        }
       }
      },
      "text/html": [
       "<div>                            <div id=\"51a409b3-be01-42e8-976b-40edf518ed54\" class=\"plotly-graph-div\" style=\"height:525px; width:100%;\"></div>            <script type=\"text/javascript\">                require([\"plotly\"], function(Plotly) {                    window.PLOTLYENV=window.PLOTLYENV || {};                                    if (document.getElementById(\"51a409b3-be01-42e8-976b-40edf518ed54\")) {                    Plotly.newPlot(                        \"51a409b3-be01-42e8-976b-40edf518ed54\",                        [{\"hovertemplate\":\"n_components=%{x}<br>sum_explained_ratio=%{y}<extra></extra>\",\"legendgroup\":\"\",\"line\":{\"color\":\"#636efa\",\"dash\":\"solid\"},\"marker\":{\"symbol\":\"circle\"},\"mode\":\"markers+lines\",\"name\":\"\",\"orientation\":\"v\",\"showlegend\":false,\"x\":[1,2,3,4,5,6,7,8,9],\"xaxis\":\"x\",\"y\":[0.36,0.62,0.83,0.93,0.98,1.0,1.0,1.0,1.0],\"yaxis\":\"y\",\"type\":\"scatter\"}],                        {\"template\":{\"data\":{\"bar\":[{\"error_x\":{\"color\":\"#2a3f5f\"},\"error_y\":{\"color\":\"#2a3f5f\"},\"marker\":{\"line\":{\"color\":\"#E5ECF6\",\"width\":0.5},\"pattern\":{\"fillmode\":\"overlay\",\"size\":10,\"solidity\":0.2}},\"type\":\"bar\"}],\"barpolar\":[{\"marker\":{\"line\":{\"color\":\"#E5ECF6\",\"width\":0.5},\"pattern\":{\"fillmode\":\"overlay\",\"size\":10,\"solidity\":0.2}},\"type\":\"barpolar\"}],\"carpet\":[{\"aaxis\":{\"endlinecolor\":\"#2a3f5f\",\"gridcolor\":\"white\",\"linecolor\":\"white\",\"minorgridcolor\":\"white\",\"startlinecolor\":\"#2a3f5f\"},\"baxis\":{\"endlinecolor\":\"#2a3f5f\",\"gridcolor\":\"white\",\"linecolor\":\"white\",\"minorgridcolor\":\"white\",\"startlinecolor\":\"#2a3f5f\"},\"type\":\"carpet\"}],\"choropleth\":[{\"colorbar\":{\"outlinewidth\":0,\"ticks\":\"\"},\"type\":\"choropleth\"}],\"contour\":[{\"colorbar\":{\"outlinewidth\":0,\"ticks\":\"\"},\"colorscale\":[[0.0,\"#0d0887\"],[0.1111111111111111,\"#46039f\"],[0.2222222222222222,\"#7201a8\"],[0.3333333333333333,\"#9c179e\"],[0.4444444444444444,\"#bd3786\"],[0.5555555555555556,\"#d8576b\"],[0.6666666666666666,\"#ed7953\"],[0.7777777777777778,\"#fb9f3a\"],[0.8888888888888888,\"#fdca26\"],[1.0,\"#f0f921\"]],\"type\":\"contour\"}],\"contourcarpet\":[{\"colorbar\":{\"outlinewidth\":0,\"ticks\":\"\"},\"type\":\"contourcarpet\"}],\"heatmap\":[{\"colorbar\":{\"outlinewidth\":0,\"ticks\":\"\"},\"colorscale\":[[0.0,\"#0d0887\"],[0.1111111111111111,\"#46039f\"],[0.2222222222222222,\"#7201a8\"],[0.3333333333333333,\"#9c179e\"],[0.4444444444444444,\"#bd3786\"],[0.5555555555555556,\"#d8576b\"],[0.6666666666666666,\"#ed7953\"],[0.7777777777777778,\"#fb9f3a\"],[0.8888888888888888,\"#fdca26\"],[1.0,\"#f0f921\"]],\"type\":\"heatmap\"}],\"heatmapgl\":[{\"colorbar\":{\"outlinewidth\":0,\"ticks\":\"\"},\"colorscale\":[[0.0,\"#0d0887\"],[0.1111111111111111,\"#46039f\"],[0.2222222222222222,\"#7201a8\"],[0.3333333333333333,\"#9c179e\"],[0.4444444444444444,\"#bd3786\"],[0.5555555555555556,\"#d8576b\"],[0.6666666666666666,\"#ed7953\"],[0.7777777777777778,\"#fb9f3a\"],[0.8888888888888888,\"#fdca26\"],[1.0,\"#f0f921\"]],\"type\":\"heatmapgl\"}],\"histogram\":[{\"marker\":{\"pattern\":{\"fillmode\":\"overlay\",\"size\":10,\"solidity\":0.2}},\"type\":\"histogram\"}],\"histogram2d\":[{\"colorbar\":{\"outlinewidth\":0,\"ticks\":\"\"},\"colorscale\":[[0.0,\"#0d0887\"],[0.1111111111111111,\"#46039f\"],[0.2222222222222222,\"#7201a8\"],[0.3333333333333333,\"#9c179e\"],[0.4444444444444444,\"#bd3786\"],[0.5555555555555556,\"#d8576b\"],[0.6666666666666666,\"#ed7953\"],[0.7777777777777778,\"#fb9f3a\"],[0.8888888888888888,\"#fdca26\"],[1.0,\"#f0f921\"]],\"type\":\"histogram2d\"}],\"histogram2dcontour\":[{\"colorbar\":{\"outlinewidth\":0,\"ticks\":\"\"},\"colorscale\":[[0.0,\"#0d0887\"],[0.1111111111111111,\"#46039f\"],[0.2222222222222222,\"#7201a8\"],[0.3333333333333333,\"#9c179e\"],[0.4444444444444444,\"#bd3786\"],[0.5555555555555556,\"#d8576b\"],[0.6666666666666666,\"#ed7953\"],[0.7777777777777778,\"#fb9f3a\"],[0.8888888888888888,\"#fdca26\"],[1.0,\"#f0f921\"]],\"type\":\"histogram2dcontour\"}],\"mesh3d\":[{\"colorbar\":{\"outlinewidth\":0,\"ticks\":\"\"},\"type\":\"mesh3d\"}],\"parcoords\":[{\"line\":{\"colorbar\":{\"outlinewidth\":0,\"ticks\":\"\"}},\"type\":\"parcoords\"}],\"pie\":[{\"automargin\":true,\"type\":\"pie\"}],\"scatter\":[{\"marker\":{\"colorbar\":{\"outlinewidth\":0,\"ticks\":\"\"}},\"type\":\"scatter\"}],\"scatter3d\":[{\"line\":{\"colorbar\":{\"outlinewidth\":0,\"ticks\":\"\"}},\"marker\":{\"colorbar\":{\"outlinewidth\":0,\"ticks\":\"\"}},\"type\":\"scatter3d\"}],\"scattercarpet\":[{\"marker\":{\"colorbar\":{\"outlinewidth\":0,\"ticks\":\"\"}},\"type\":\"scattercarpet\"}],\"scattergeo\":[{\"marker\":{\"colorbar\":{\"outlinewidth\":0,\"ticks\":\"\"}},\"type\":\"scattergeo\"}],\"scattergl\":[{\"marker\":{\"colorbar\":{\"outlinewidth\":0,\"ticks\":\"\"}},\"type\":\"scattergl\"}],\"scattermapbox\":[{\"marker\":{\"colorbar\":{\"outlinewidth\":0,\"ticks\":\"\"}},\"type\":\"scattermapbox\"}],\"scatterpolar\":[{\"marker\":{\"colorbar\":{\"outlinewidth\":0,\"ticks\":\"\"}},\"type\":\"scatterpolar\"}],\"scatterpolargl\":[{\"marker\":{\"colorbar\":{\"outlinewidth\":0,\"ticks\":\"\"}},\"type\":\"scatterpolargl\"}],\"scatterternary\":[{\"marker\":{\"colorbar\":{\"outlinewidth\":0,\"ticks\":\"\"}},\"type\":\"scatterternary\"}],\"surface\":[{\"colorbar\":{\"outlinewidth\":0,\"ticks\":\"\"},\"colorscale\":[[0.0,\"#0d0887\"],[0.1111111111111111,\"#46039f\"],[0.2222222222222222,\"#7201a8\"],[0.3333333333333333,\"#9c179e\"],[0.4444444444444444,\"#bd3786\"],[0.5555555555555556,\"#d8576b\"],[0.6666666666666666,\"#ed7953\"],[0.7777777777777778,\"#fb9f3a\"],[0.8888888888888888,\"#fdca26\"],[1.0,\"#f0f921\"]],\"type\":\"surface\"}],\"table\":[{\"cells\":{\"fill\":{\"color\":\"#EBF0F8\"},\"line\":{\"color\":\"white\"}},\"header\":{\"fill\":{\"color\":\"#C8D4E3\"},\"line\":{\"color\":\"white\"}},\"type\":\"table\"}]},\"layout\":{\"annotationdefaults\":{\"arrowcolor\":\"#2a3f5f\",\"arrowhead\":0,\"arrowwidth\":1},\"autotypenumbers\":\"strict\",\"coloraxis\":{\"colorbar\":{\"outlinewidth\":0,\"ticks\":\"\"}},\"colorscale\":{\"diverging\":[[0,\"#8e0152\"],[0.1,\"#c51b7d\"],[0.2,\"#de77ae\"],[0.3,\"#f1b6da\"],[0.4,\"#fde0ef\"],[0.5,\"#f7f7f7\"],[0.6,\"#e6f5d0\"],[0.7,\"#b8e186\"],[0.8,\"#7fbc41\"],[0.9,\"#4d9221\"],[1,\"#276419\"]],\"sequential\":[[0.0,\"#0d0887\"],[0.1111111111111111,\"#46039f\"],[0.2222222222222222,\"#7201a8\"],[0.3333333333333333,\"#9c179e\"],[0.4444444444444444,\"#bd3786\"],[0.5555555555555556,\"#d8576b\"],[0.6666666666666666,\"#ed7953\"],[0.7777777777777778,\"#fb9f3a\"],[0.8888888888888888,\"#fdca26\"],[1.0,\"#f0f921\"]],\"sequentialminus\":[[0.0,\"#0d0887\"],[0.1111111111111111,\"#46039f\"],[0.2222222222222222,\"#7201a8\"],[0.3333333333333333,\"#9c179e\"],[0.4444444444444444,\"#bd3786\"],[0.5555555555555556,\"#d8576b\"],[0.6666666666666666,\"#ed7953\"],[0.7777777777777778,\"#fb9f3a\"],[0.8888888888888888,\"#fdca26\"],[1.0,\"#f0f921\"]]},\"colorway\":[\"#636efa\",\"#EF553B\",\"#00cc96\",\"#ab63fa\",\"#FFA15A\",\"#19d3f3\",\"#FF6692\",\"#B6E880\",\"#FF97FF\",\"#FECB52\"],\"font\":{\"color\":\"#2a3f5f\"},\"geo\":{\"bgcolor\":\"white\",\"lakecolor\":\"white\",\"landcolor\":\"#E5ECF6\",\"showlakes\":true,\"showland\":true,\"subunitcolor\":\"white\"},\"hoverlabel\":{\"align\":\"left\"},\"hovermode\":\"closest\",\"mapbox\":{\"style\":\"light\"},\"paper_bgcolor\":\"white\",\"plot_bgcolor\":\"#E5ECF6\",\"polar\":{\"angularaxis\":{\"gridcolor\":\"white\",\"linecolor\":\"white\",\"ticks\":\"\"},\"bgcolor\":\"#E5ECF6\",\"radialaxis\":{\"gridcolor\":\"white\",\"linecolor\":\"white\",\"ticks\":\"\"}},\"scene\":{\"xaxis\":{\"backgroundcolor\":\"#E5ECF6\",\"gridcolor\":\"white\",\"gridwidth\":2,\"linecolor\":\"white\",\"showbackground\":true,\"ticks\":\"\",\"zerolinecolor\":\"white\"},\"yaxis\":{\"backgroundcolor\":\"#E5ECF6\",\"gridcolor\":\"white\",\"gridwidth\":2,\"linecolor\":\"white\",\"showbackground\":true,\"ticks\":\"\",\"zerolinecolor\":\"white\"},\"zaxis\":{\"backgroundcolor\":\"#E5ECF6\",\"gridcolor\":\"white\",\"gridwidth\":2,\"linecolor\":\"white\",\"showbackground\":true,\"ticks\":\"\",\"zerolinecolor\":\"white\"}},\"shapedefaults\":{\"line\":{\"color\":\"#2a3f5f\"}},\"ternary\":{\"aaxis\":{\"gridcolor\":\"white\",\"linecolor\":\"white\",\"ticks\":\"\"},\"baxis\":{\"gridcolor\":\"white\",\"linecolor\":\"white\",\"ticks\":\"\"},\"bgcolor\":\"#E5ECF6\",\"caxis\":{\"gridcolor\":\"white\",\"linecolor\":\"white\",\"ticks\":\"\"}},\"title\":{\"x\":0.05},\"xaxis\":{\"automargin\":true,\"gridcolor\":\"white\",\"linecolor\":\"white\",\"ticks\":\"\",\"title\":{\"standoff\":15},\"zerolinecolor\":\"white\",\"zerolinewidth\":2},\"yaxis\":{\"automargin\":true,\"gridcolor\":\"white\",\"linecolor\":\"white\",\"ticks\":\"\",\"title\":{\"standoff\":15},\"zerolinecolor\":\"white\",\"zerolinewidth\":2}}},\"xaxis\":{\"anchor\":\"y\",\"domain\":[0.0,1.0],\"title\":{\"text\":\"n_components\"}},\"yaxis\":{\"anchor\":\"x\",\"domain\":[0.0,1.0],\"title\":{\"text\":\"sum_explained_ratio\"}},\"legend\":{\"tracegroupgap\":0},\"title\":{\"text\":\"N explained variance ratio (PCA)\"}},                        {\"responsive\": true}                    ).then(function(){\n",
       "                            \n",
       "var gd = document.getElementById('51a409b3-be01-42e8-976b-40edf518ed54');\n",
       "var x = new MutationObserver(function (mutations, observer) {{\n",
       "        var display = window.getComputedStyle(gd).display;\n",
       "        if (!display || display === 'none') {{\n",
       "            console.log([gd, 'removed!']);\n",
       "            Plotly.purge(gd);\n",
       "            observer.disconnect();\n",
       "        }}\n",
       "}});\n",
       "\n",
       "// Listen for the removal of the full notebook cells\n",
       "var notebookContainer = gd.closest('#notebook-container');\n",
       "if (notebookContainer) {{\n",
       "    x.observe(notebookContainer, {childList: true});\n",
       "}}\n",
       "\n",
       "// Listen for the clearing of the current output cell\n",
       "var outputEl = gd.closest('.output');\n",
       "if (outputEl) {{\n",
       "    x.observe(outputEl, {childList: true});\n",
       "}}\n",
       "\n",
       "                        })                };                });            </script>        </div>"
      ]
     },
     "metadata": {},
     "output_type": "display_data"
    }
   ],
   "source": [
    "# Grafico de explicabilidad por numero de componentes\n",
    "df_exp_ratios = pd.DataFrame(\n",
    "    data=ratios.items(), \n",
    "    columns=['n_components', 'sum_explained_ratio']\n",
    ")\n",
    "\n",
    "fig = px.line(df_exp_ratios, x='n_components', y='sum_explained_ratio', \n",
    "              title='N explained variance ratio (PCA)', markers=True)\n",
    "fig.show()"
   ]
  },
  {
   "cell_type": "markdown",
   "metadata": {},
   "source": [
    "**Consideramos que 4 componentes ya abarcan una explicabilidad aceptable.**"
   ]
  },
  {
   "cell_type": "code",
   "execution_count": 137,
   "metadata": {},
   "outputs": [],
   "source": [
    "# aplicando transform del conjunto de datos con 4 componentes\n",
    "pca = PCA(n_components=4)\n",
    "\n",
    "n4_ratios = pd.DataFrame(\n",
    "    data=pca.fit_transform(df_to_reduce), \n",
    "    columns=['pca_comp1', 'pca_comp2', 'pca_comp3', 'pca_comp4']\n",
    ")"
   ]
  },
  {
   "cell_type": "code",
   "execution_count": 141,
   "metadata": {},
   "outputs": [
    {
     "data": {
      "text/html": [
       "<div>\n",
       "<style scoped>\n",
       "    .dataframe tbody tr th:only-of-type {\n",
       "        vertical-align: middle;\n",
       "    }\n",
       "\n",
       "    .dataframe tbody tr th {\n",
       "        vertical-align: top;\n",
       "    }\n",
       "\n",
       "    .dataframe thead th {\n",
       "        text-align: right;\n",
       "    }\n",
       "</style>\n",
       "<table border=\"1\" class=\"dataframe\">\n",
       "  <thead>\n",
       "    <tr style=\"text-align: right;\">\n",
       "      <th></th>\n",
       "      <th>Type_h</th>\n",
       "      <th>Type_t</th>\n",
       "      <th>Type_u</th>\n",
       "      <th>Northern Metropolitan</th>\n",
       "      <th>Northern Victoria</th>\n",
       "      <th>South-Eastern Metropolitan</th>\n",
       "      <th>Southern Metropolitan</th>\n",
       "      <th>Western Metropolitan</th>\n",
       "      <th>Western Victoria</th>\n",
       "      <th>pca_comp1</th>\n",
       "      <th>pca_comp2</th>\n",
       "      <th>pca_comp3</th>\n",
       "      <th>pca_comp4</th>\n",
       "    </tr>\n",
       "  </thead>\n",
       "  <tbody>\n",
       "    <tr>\n",
       "      <th>0</th>\n",
       "      <td>1</td>\n",
       "      <td>0</td>\n",
       "      <td>0</td>\n",
       "      <td>1</td>\n",
       "      <td>0</td>\n",
       "      <td>0</td>\n",
       "      <td>0</td>\n",
       "      <td>0</td>\n",
       "      <td>0</td>\n",
       "      <td>-0.58965</td>\n",
       "      <td>0.573917</td>\n",
       "      <td>-0.360021</td>\n",
       "      <td>-0.04592</td>\n",
       "    </tr>\n",
       "    <tr>\n",
       "      <th>1</th>\n",
       "      <td>1</td>\n",
       "      <td>0</td>\n",
       "      <td>0</td>\n",
       "      <td>1</td>\n",
       "      <td>0</td>\n",
       "      <td>0</td>\n",
       "      <td>0</td>\n",
       "      <td>0</td>\n",
       "      <td>0</td>\n",
       "      <td>-0.58965</td>\n",
       "      <td>0.573917</td>\n",
       "      <td>-0.360021</td>\n",
       "      <td>-0.04592</td>\n",
       "    </tr>\n",
       "    <tr>\n",
       "      <th>2</th>\n",
       "      <td>1</td>\n",
       "      <td>0</td>\n",
       "      <td>0</td>\n",
       "      <td>1</td>\n",
       "      <td>0</td>\n",
       "      <td>0</td>\n",
       "      <td>0</td>\n",
       "      <td>0</td>\n",
       "      <td>0</td>\n",
       "      <td>-0.58965</td>\n",
       "      <td>0.573917</td>\n",
       "      <td>-0.360021</td>\n",
       "      <td>-0.04592</td>\n",
       "    </tr>\n",
       "    <tr>\n",
       "      <th>3</th>\n",
       "      <td>1</td>\n",
       "      <td>0</td>\n",
       "      <td>0</td>\n",
       "      <td>1</td>\n",
       "      <td>0</td>\n",
       "      <td>0</td>\n",
       "      <td>0</td>\n",
       "      <td>0</td>\n",
       "      <td>0</td>\n",
       "      <td>-0.58965</td>\n",
       "      <td>0.573917</td>\n",
       "      <td>-0.360021</td>\n",
       "      <td>-0.04592</td>\n",
       "    </tr>\n",
       "    <tr>\n",
       "      <th>4</th>\n",
       "      <td>1</td>\n",
       "      <td>0</td>\n",
       "      <td>0</td>\n",
       "      <td>1</td>\n",
       "      <td>0</td>\n",
       "      <td>0</td>\n",
       "      <td>0</td>\n",
       "      <td>0</td>\n",
       "      <td>0</td>\n",
       "      <td>-0.58965</td>\n",
       "      <td>0.573917</td>\n",
       "      <td>-0.360021</td>\n",
       "      <td>-0.04592</td>\n",
       "    </tr>\n",
       "  </tbody>\n",
       "</table>\n",
       "</div>"
      ],
      "text/plain": [
       "   Type_h  Type_t  Type_u  Northern Metropolitan  Northern Victoria  \\\n",
       "0       1       0       0                      1                  0   \n",
       "1       1       0       0                      1                  0   \n",
       "2       1       0       0                      1                  0   \n",
       "3       1       0       0                      1                  0   \n",
       "4       1       0       0                      1                  0   \n",
       "\n",
       "   South-Eastern Metropolitan  Southern Metropolitan  Western Metropolitan  \\\n",
       "0                           0                      0                     0   \n",
       "1                           0                      0                     0   \n",
       "2                           0                      0                     0   \n",
       "3                           0                      0                     0   \n",
       "4                           0                      0                     0   \n",
       "\n",
       "   Western Victoria  pca_comp1  pca_comp2  pca_comp3  pca_comp4  \n",
       "0                 0   -0.58965   0.573917  -0.360021   -0.04592  \n",
       "1                 0   -0.58965   0.573917  -0.360021   -0.04592  \n",
       "2                 0   -0.58965   0.573917  -0.360021   -0.04592  \n",
       "3                 0   -0.58965   0.573917  -0.360021   -0.04592  \n",
       "4                 0   -0.58965   0.573917  -0.360021   -0.04592  "
      ]
     },
     "execution_count": 141,
     "metadata": {},
     "output_type": "execute_result"
    }
   ],
   "source": [
    "# concateno los componentes de explicavilidad con el dataframe original\n",
    "df_pca = pd.concat([df_to_reduce, n4_ratios], axis=1)\n",
    "df_pca.head()"
   ]
  },
  {
   "cell_type": "code",
   "execution_count": 143,
   "metadata": {},
   "outputs": [],
   "source": [
    "# saving results\n",
    "df_pca.to_csv(os.path.join(DATA_PATH, 'onehot_and_pca_data.csv'))"
   ]
  },
  {
   "cell_type": "markdown",
   "metadata": {
    "id": "mVBLFc8PhRtW"
   },
   "source": [
    "## Ejercicio 5: Documentación\n",
    "\n",
    "En un documento `.pdf` o `.md` realizar un reporte de las operaciones que realizaron para obtener el conjunto de datos final. Se debe incluir:\n",
    "  1. Criterios de exclusión (o inclusión) de filas\n",
    "  2. Interpretación de las columnas presentes\n",
    "  2. Todas las transofrmaciones realizadas\n",
    "\n",
    "Este documento es de uso técnico exclusivamente, y su objetivo es permitir que otres desarrolladores puedan reproducir los mismos pasos y obtener el mismo resultado. Debe ser detallado pero consiso. Por ejemplo:\n",
    "\n",
    "```\n",
    "  ## Criterios de exclusión de ejemplos\n",
    "  1. Se eliminan ejemplos donde el año de construcción es previo a 1900\n",
    "\n",
    "  ## Características seleccionadas\n",
    "  ### Características categóricas\n",
    "  1. Type: tipo de propiedad. 3 valores posibles\n",
    "  2. ...\n",
    "  Todas las características categóricas fueron codificadas con un\n",
    "  método OneHotEncoding utilizando como máximo sus 30 valores más \n",
    "  frecuentes.\n",
    "  \n",
    "  ### Características numéricas\n",
    "  1. Rooms: Cantidad de habitaciones\n",
    "  2. Distance: Distancia al centro de la ciudad.\n",
    "  3. airbnb_mean_price: Se agrega el precio promedio diario de \n",
    "     publicaciones de la plataforma AirBnB en el mismo código \n",
    "     postal. [Link al repositorio con datos externos].\n",
    "\n",
    "  ### Transformaciones:\n",
    "  1. Todas las características numéricas fueron estandarizadas.\n",
    "  2. La columna `Suburb` fue imputada utilizando el método ...\n",
    "  3. Las columnas `YearBuilt` y ... fueron imputadas utilizando el \n",
    "     algoritmo ...\n",
    "  4. ...\n",
    "\n",
    "  ### Datos aumentados\n",
    "  1. Se agregan las 5 primeras columnas obtenidas a través del\n",
    "     método de PCA, aplicado sobre el conjunto de datos\n",
    "     totalmente procesado.\n",
    "```\n"
   ]
  }
 ],
 "metadata": {
  "colab": {
   "collapsed_sections": [],
   "name": "Venchiarutti_Entregable_2_ver0.ipynb",
   "provenance": [],
   "toc_visible": true
  },
  "kernelspec": {
   "display_name": "Python 3",
   "language": "python",
   "name": "python3"
  },
  "language_info": {
   "codemirror_mode": {
    "name": "ipython",
    "version": 3
   },
   "file_extension": ".py",
   "mimetype": "text/x-python",
   "name": "python",
   "nbconvert_exporter": "python",
   "pygments_lexer": "ipython3",
   "version": "3.6.13"
  }
 },
 "nbformat": 4,
 "nbformat_minor": 1
}
