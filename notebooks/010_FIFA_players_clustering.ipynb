{
 "cells": [
  {
   "cell_type": "markdown",
   "metadata": {
    "id": "zAkm3bPVPPqs"
   },
   "source": [
    "<div align=\"center\">\n",
    "    <img src='https://media-exp1.licdn.com/dms/image/C561BAQFV4oU27rzxaQ/company-background_10000/0/1562869489836?e=2147483647&v=beta&t=OMHL6Izxqw7r8S5fn9gDQM1hNMKgo3yqMlH1F3Iwm9o' style='height:300px;'>\n",
    "</div>\n",
    "\n",
    "\n",
    "<center><h1 style='font-size:35px'>Análisis y visualización de datos - Encuesta Sysarmy</h1></center>\n",
    "\n",
    "---\n",
    "\n",
    "**Fecha de creación: 15/09/2022**\n",
    "\n",
    "**Grupo: 6**\n",
    "\n",
    "**Autores**:\n",
    "* Marilina Trevisan (marilinatrevisan@gmail.com).\n",
    "* Ani Salama (anisalama@gmail.com).\n",
    "* Anahí Sulca (nanisulca@gmail.com).\n",
    "* Gustavo Ariel Venchiarutti (gustavo.venchiarutti@gmail.com).\n",
    "* Agustín Trulli (agustintrulli@gmail.com)."
   ]
  },
  {
   "cell_type": "markdown",
   "metadata": {
    "id": "fz2erNVBMU9A"
   },
   "source": [
    "#Consigna\n",
    "\n",
    "Práctico entregable: \n",
    "Utilizar la base de jugadores “players_22.csv” disponible en la página de Kaggle https://www.kaggle.com/datasets/stefanoleone992/fifa-22-complete-player-dataset . Considerar que la base 2022 no tiene el mismo formato que la base vista en clase, a los nombres de las variables se les agregó una keyword para identificar a qué tipo de habilidad corresponde.\n",
    "\n",
    "Con la nueva base, realizar un análisis análogo al que realizamos en el cursado de la materia con los datos FIFA2019. Realice comentarios en cada parte (verbose=True ;))\n",
    "\n",
    "1. Análisis exploratorio de la base.\n",
    "2. Evaluación visual  e intuitiva de a dos variables numéricas por vez.\n",
    "3. Uso de dos técnicas de clustering: por ejemplo k-medias, DBSCAN, mezcla de Gaussianas y/o alguna jerárquica. Elección justificada de hiper-parámetros\n",
    "4. Evaluación y Análisis de los clusters encontrados.\n",
    "5. Pregunta: ¿Se realizó alguna normalización o escalado de la base? ¿Por qué ?\n",
    "6. Uso de alguna transformación (proyección, Embedding) para visualizar los resultados y/o usarla como preprocesado para aplicar alguna técnica de clustering.\n"
   ]
  },
  {
   "cell_type": "markdown",
   "metadata": {
    "id": "pv0fJ1Z2nlCL"
   },
   "source": [
    "## 1 - Inicialización del entorno"
   ]
  },
  {
   "cell_type": "markdown",
   "metadata": {
    "id": "v4wYRgHXnlCU"
   },
   "source": [
    "**Empezamos cargando algunas herramientas para cargar los datos y manipularlos.**"
   ]
  },
  {
   "cell_type": "code",
   "execution_count": null,
   "metadata": {
    "_cell_guid": "79c7e3d0-c299-4dcb-8224-4455121ee9b0",
    "_uuid": "d629ff2d2480ee46fbb7e2d37f6b5fab8052498a",
    "id": "tlZD9rvqnlCZ"
   },
   "outputs": [],
   "source": [
    "import os\n",
    "\n",
    "import numpy as np\n",
    "import pandas as pd\n",
    "pd.set_option('display.max_columns',100)\n",
    "pd.set_option('display.max_rows',1000)\n",
    "import itertools\n",
    "import warnings\n",
    "warnings.filterwarnings(\"ignore\")\n",
    "import io"
   ]
  },
  {
   "cell_type": "markdown",
   "metadata": {
    "id": "GQu8rGiDnlCq"
   },
   "source": [
    "**Para visualización usaremos principalmente plotly, también seaborn y matplotlib.**"
   ]
  },
  {
   "cell_type": "code",
   "execution_count": null,
   "metadata": {
    "colab": {
     "base_uri": "https://localhost:8080/",
     "height": 17
    },
    "id": "ZaFH5pbrnlC3",
    "outputId": "aaa6e29a-8fdc-4b25-a2c7-213c84acf426"
   },
   "outputs": [],
   "source": [
    "from plotly.offline import init_notebook_mode, plot,iplot\n",
    "import plotly.graph_objs as go\n",
    "init_notebook_mode(connected=True)\n",
    "import matplotlib.pyplot as plt\n",
    "import plotly.tools as tls#visualization\n",
    "import plotly.figure_factory as ff#visualization\n",
    "import seaborn as sns\n",
    "from sklearn.manifold import TSNE\n",
    "import bokeh.plotting as bp\n",
    "from bokeh.models import HoverTool, BoxSelectTool\n",
    "from bokeh.plotting import figure, show, output_notebook"
   ]
  },
  {
   "cell_type": "markdown",
   "metadata": {
    "id": "ePzo7FBHGAuQ"
   },
   "source": [
    "**Liberias de metodos de CLUSTERING.**"
   ]
  },
  {
   "cell_type": "code",
   "execution_count": null,
   "metadata": {
    "id": "O0cxKwvSGB-z"
   },
   "outputs": [],
   "source": [
    "from sklearn.cluster import KMeans, MeanShift, DBSCAN\n",
    "from sklearn.preprocessing import normalize, StandardScaler\n",
    "from scipy.spatial import distance\n",
    "from sklearn.neighbors import NearestNeighbors\n",
    "from sklearn.decomposition import PCA\n",
    "from sklearn.mixture import GaussianMixture"
   ]
  },
  {
   "cell_type": "markdown",
   "metadata": {
    "id": "p-mfS5JsFpWj"
   },
   "source": [
    "**Librerias para definicion de Metricas**"
   ]
  },
  {
   "cell_type": "code",
   "execution_count": null,
   "metadata": {
    "id": "hQKW8EkTFexu"
   },
   "outputs": [],
   "source": [
    "from sklearn import metrics\n",
    "from sklearn.metrics import classification_report\n",
    "from sklearn.metrics import accuracy_score, confusion_matrix, precision_score, recall_score, f1_score\n",
    "from sklearn.metrics import confusion_matrix"
   ]
  },
  {
   "cell_type": "markdown",
   "metadata": {
    "id": "p-nTVD8KnlDI"
   },
   "source": [
    "## 2 - Exploración de la base"
   ]
  },
  {
   "cell_type": "code",
   "execution_count": null,
   "metadata": {
    "colab": {
     "base_uri": "https://localhost:8080/",
     "height": 695
    },
    "id": "bVqMR3V5nlDh",
    "outputId": "606de32c-f148-46cf-b525-aa1e3e97d6a3"
   },
   "outputs": [],
   "source": [
    "# Reading data\n",
    "ROOT_PATH = os.path.dirname(os.getcwd())\n",
    "DATA_PATH = os.path.join(ROOT_PATH, 'data', 'raw')\n",
    "\n",
    "df = pd.read_csv(os.path.join(DATA_PATH, 'players_22.csv'))"
   ]
  },
  {
   "cell_type": "code",
   "execution_count": null,
   "metadata": {
    "colab": {
     "base_uri": "https://localhost:8080/"
    },
    "id": "_v4vKzconlDu",
    "outputId": "7bce2833-b13c-49bc-a93d-42d6181f7cb5"
   },
   "outputs": [],
   "source": [
    "print('Cantidad de variables para analizar', len(df.columns))"
   ]
  },
  {
   "cell_type": "code",
   "execution_count": null,
   "metadata": {
    "colab": {
     "base_uri": "https://localhost:8080/"
    },
    "id": "BPhi9pJbNDex",
    "outputId": "2510ee57-8465-4444-b258-1b53abd9ee5d"
   },
   "outputs": [],
   "source": [
    "df.columns.tolist()"
   ]
  },
  {
   "cell_type": "code",
   "execution_count": null,
   "metadata": {
    "colab": {
     "base_uri": "https://localhost:8080/"
    },
    "id": "C2Awp2vGhfA_",
    "outputId": "0be5cc1f-eab6-4ca0-bdf8-5dced80cecbd"
   },
   "outputs": [],
   "source": [
    "df.isna().sum()"
   ]
  },
  {
   "cell_type": "code",
   "execution_count": null,
   "metadata": {
    "colab": {
     "base_uri": "https://localhost:8080/"
    },
    "id": "RPbBie13i_po",
    "outputId": "cb7540dc-d100-4010-f4d3-23b6ecb878a9"
   },
   "outputs": [],
   "source": [
    "# Analisis de parametros estadisticos en todas las variables numericas\n",
    "print(df.describe())"
   ]
  },
  {
   "cell_type": "markdown",
   "metadata": {
    "id": "tLR01C23omhh"
   },
   "source": [
    "### Analisis de Variables"
   ]
  },
  {
   "cell_type": "markdown",
   "metadata": {
    "id": "Am_7wtLFlGTu"
   },
   "source": [
    "#### PLAYER_POSITIONS"
   ]
  },
  {
   "cell_type": "code",
   "execution_count": null,
   "metadata": {
    "colab": {
     "base_uri": "https://localhost:8080/",
     "height": 206
    },
    "id": "xQJ6ne4InlEK",
    "outputId": "d26805e5-07e8-40ef-bcc1-872298ed7fa2"
   },
   "outputs": [],
   "source": [
    "best_players_per_position = df.iloc[df.groupby(df['player_positions'])['overall'].idxmax()][['player_positions','short_name','overall']]\n",
    "best_players_per_position.head()"
   ]
  },
  {
   "cell_type": "code",
   "execution_count": null,
   "metadata": {
    "colab": {
     "base_uri": "https://localhost:8080/"
    },
    "id": "CtQAQmlcb3SO",
    "outputId": "6ae9febf-a782-4046-9ff5-929b59cdf0d2"
   },
   "outputs": [],
   "source": [
    "best_players_per_position.info()"
   ]
  },
  {
   "cell_type": "markdown",
   "metadata": {
    "id": "1cntIwyYb-ze"
   },
   "source": [
    "Como podemos ver para cada jugador en el mismo campo de posisiones podemos tener hasta 3 valores, lo cual al analizar los mejores jugadores por posicion me genera un data frame de 674 registros.\n",
    "\n",
    "Por lo tanto optamos por tomar como principal la primera posicion que se encuentra en esta campo, el resto se descarto."
   ]
  },
  {
   "cell_type": "code",
   "execution_count": null,
   "metadata": {
    "id": "xX3zRsl0b-QM"
   },
   "outputs": [],
   "source": [
    "# Transformo en un string separado por , al campo de posiciones que tiene mas de una alternativa\n",
    "df['player_positions'] = df['player_positions'].map(lambda x: str(x))\n",
    "\n",
    "# Transformado el campo ahora tomo la primera posicion que figura en las lista de alternativas\n",
    "df['player_positions_principal'] = df['player_positions'].apply(lambda x: x.split(\",\")[0] if x != 'nan' else None)"
   ]
  },
  {
   "cell_type": "code",
   "execution_count": null,
   "metadata": {
    "colab": {
     "base_uri": "https://localhost:8080/",
     "height": 519
    },
    "id": "h_GQcCannlEU",
    "outputId": "18e8f9a4-af57-4687-f85b-b081ea2f422e"
   },
   "outputs": [],
   "source": [
    "# Candidad de jugadores por player_positions_principal\n",
    "pd.DataFrame(df.player_positions_principal.value_counts().sort_index())"
   ]
  },
  {
   "cell_type": "code",
   "execution_count": null,
   "metadata": {
    "colab": {
     "base_uri": "https://localhost:8080/",
     "height": 519
    },
    "id": "O2rPD-r4e1K8",
    "outputId": "8fb2d9e0-233b-43f4-ba29-7506e40e1e4a"
   },
   "outputs": [],
   "source": [
    "# Repertimos el analisis anterior y en funcion de la prosicion que consideramos como principal \n",
    "# sacamos los mejores jugadores segun el overall definido\n",
    "best_players_per_position = df.iloc[df.groupby(df['player_positions_principal'])['overall'].idxmax()][['player_positions', 'player_positions_principal','short_name','overall']]\n",
    "best_players_per_position"
   ]
  },
  {
   "cell_type": "code",
   "execution_count": null,
   "metadata": {
    "colab": {
     "base_uri": "https://localhost:8080/",
     "height": 363
    },
    "id": "Vze0BxhsnlEW",
    "outputId": "30d66e7c-dd98-4e83-9253-c8f3463efa89"
   },
   "outputs": [],
   "source": [
    "# Clubes que tienen mejor promedio de Overall entre sus jugadores\n",
    "club_avg_overall = df.groupby(\"club_name\")[\"overall\"].mean().reset_index().sort_values(\"overall\",ascending=False)\n",
    "club_avg_overall.head(10)"
   ]
  },
  {
   "cell_type": "markdown",
   "metadata": {
    "id": "2hTbAXfgj3GA"
   },
   "source": [
    "#### OVERALL"
   ]
  },
  {
   "cell_type": "markdown",
   "metadata": {
    "id": "jmbNKzKjnlEC"
   },
   "source": [
    "La variable **'Overall'** toma valores enteros entre 0 y 100, se calcula usando otras variables de desempeño del jugador (skills_ratings), utilizando redondeo. Por lo tanto la variable 'Overall' figura como numérica discreta, pero como se redondea es de \"naturaleza\" continua. "
   ]
  },
  {
   "cell_type": "code",
   "execution_count": null,
   "metadata": {
    "colab": {
     "base_uri": "https://localhost:8080/",
     "height": 283
    },
    "id": "innRyEmwnlEI",
    "outputId": "bf6bd06e-a00f-4831-cfce-5c2a980738c4"
   },
   "outputs": [],
   "source": [
    "# Realizamos el histograma de la variable \"Overall\" (Desempeño global)\n",
    "nbins = 1*(df.overall.max()-df.overall.min())+1\n",
    "df['overall'].hist(bins = nbins)\n",
    "print(nbins)"
   ]
  },
  {
   "cell_type": "markdown",
   "metadata": {
    "id": "ui5wqcnla7NX"
   },
   "source": [
    "#### OTRAS VARIABLES\n",
    "Las demas variables que definen el desempeño (overall) del jugador segun la habilidad que cada una represnta ('attacking_crossing', 'attacking_finishing',\n",
    "'skill_dribbling', 'skill_long_passing', 'skill_ball_control', 'movement_acceleration', 'movement_agility', 'power_shot_power',  'power_jumping', etc) toman valores enteros entre 0 y 100 tambien redondeados y que juntos permiten obtener el desempeño total del jugador (overall)"
   ]
  },
  {
   "cell_type": "code",
   "execution_count": null,
   "metadata": {
    "colab": {
     "base_uri": "https://localhost:8080/",
     "height": 283
    },
    "id": "Vmcwkgcsa8Hw",
    "outputId": "5b8c1788-e6c2-4ca1-e927-3e7e8fd353ab"
   },
   "outputs": [],
   "source": [
    "# Realizamos el histograma de la variable \"attacking_crossing\" (Desempeño global)\n",
    "nbins = 1*(df.attacking_crossing.max()-df.attacking_crossing.min())+1\n",
    "df['attacking_crossing'].hist(bins = nbins)\n",
    "print(nbins)"
   ]
  },
  {
   "cell_type": "code",
   "execution_count": null,
   "metadata": {
    "colab": {
     "base_uri": "https://localhost:8080/",
     "height": 283
    },
    "id": "_3Vb2yIJa70O",
    "outputId": "87eda7d8-00cd-4415-e8d0-6b7a0b2c5752"
   },
   "outputs": [],
   "source": [
    "# Realizamos el histograma de la variable \"skill_ball_control\" (Desempeño global)\n",
    "nbins = 1*(df.skill_ball_control.max()-df.skill_ball_control.min())+1\n",
    "df['skill_ball_control'].hist(bins = nbins)\n",
    "print(nbins)"
   ]
  },
  {
   "cell_type": "code",
   "execution_count": null,
   "metadata": {
    "colab": {
     "base_uri": "https://localhost:8080/",
     "height": 283
    },
    "id": "bF81jQ64a7nb",
    "outputId": "06e645a0-313d-4c36-a763-5567782f27da"
   },
   "outputs": [],
   "source": [
    "# Realizamos el histograma de la variable \"power_shot_power\" (Desempeño global)\n",
    "nbins = 1*(df.power_shot_power.max()-df.power_shot_power.min())+1\n",
    "df['power_shot_power'].hist(bins = nbins)\n",
    "print(nbins)"
   ]
  },
  {
   "cell_type": "markdown",
   "metadata": {
    "id": "85oRHkilnlEZ"
   },
   "source": [
    "## 3 - Preparación-de-los-datos-a analizar"
   ]
  },
  {
   "cell_type": "markdown",
   "metadata": {
    "id": "3Rntm4YFlimi"
   },
   "source": [
    "### Data Frame solo de Mejores Jugadores"
   ]
  },
  {
   "cell_type": "code",
   "execution_count": null,
   "metadata": {
    "id": "RG7Pug0lnlDq"
   },
   "outputs": [],
   "source": [
    "# Realizo una copia del data frame para empezar el analisis\n",
    "df_fifa22 = df.copy()"
   ]
  },
  {
   "cell_type": "code",
   "execution_count": null,
   "metadata": {
    "colab": {
     "base_uri": "https://localhost:8080/",
     "height": 973
    },
    "id": "zdS6IbGSnlEe",
    "outputId": "0d6053ce-df6d-424c-b769-9cddc84e6611"
   },
   "outputs": [],
   "source": [
    "# Definimos una cantidad de futbolistas para analizar\n",
    "n=10000\n",
    "\n",
    "# Reducimos el data set a la cantidad de analisis\n",
    "df_fifa22 = df.loc[:n]\n",
    "\n",
    "# De la cantidad que definimos solo se tomaron los jugadores que superan el 70% de overall\n",
    "df_fifa22 = df_fifa22[(df_fifa22['overall']>70)]\n",
    "\n",
    "df_fifa22"
   ]
  },
  {
   "cell_type": "markdown",
   "metadata": {
    "id": "4oUQw87qm2Mo"
   },
   "source": [
    "### Variables de desempeño\n",
    "\n",
    "Se definen variables generales para todos, en el caso de los jugadores solamente, las columnas de datos que referencian el desempeños de arqueros, **'goalkeeping_diving'**, **'goalkeeping_handling'**, **'goalkeeping_kicking'**, **'goalkeeping_positioning'**,** 'goalkeeping_reflexes'** tendran valor 0"
   ]
  },
  {
   "cell_type": "code",
   "execution_count": null,
   "metadata": {
    "colab": {
     "base_uri": "https://localhost:8080/"
    },
    "id": "NIkyNLl7EtNF",
    "outputId": "dcc05533-68e4-43f1-bfbd-a756426fcfa2"
   },
   "outputs": [],
   "source": [
    "skills_ratings = ['attacking_crossing', 'attacking_finishing', 'attacking_heading_accuracy', 'attacking_short_passing',\n",
    "                  'attacking_volleys', 'skill_dribbling','skill_curve', 'skill_fk_accuracy',  'skill_long_passing', 'skill_ball_control', 'movement_acceleration',\n",
    "                  'movement_sprint_speed', 'movement_agility', 'movement_reactions', 'movement_balance', 'power_shot_power', 'power_jumping', 'power_stamina', 'power_strength',\n",
    "                  'power_long_shots', 'mentality_aggression', 'mentality_interceptions', 'mentality_positioning', 'mentality_vision', 'mentality_penalties',\n",
    "                  'mentality_composure', 'defending_marking_awareness', 'defending_standing_tackle', 'defending_sliding_tackle', 'goalkeeping_diving', 'goalkeeping_handling',\n",
    "                  'goalkeeping_kicking', 'goalkeeping_positioning', 'goalkeeping_reflexes']\n",
    "print(len(skills_ratings), 'variables numéricas de desempeño según habilidad')"
   ]
  },
  {
   "cell_type": "markdown",
   "metadata": {
    "id": "syzed2AInlEk"
   },
   "source": [
    "### Jugador Perfecto"
   ]
  },
  {
   "cell_type": "code",
   "execution_count": null,
   "metadata": {
    "id": "FcsH8R5TnlEl"
   },
   "outputs": [],
   "source": [
    "# Ponemos al overall el valor 99 \n",
    "MachineGunDict = {'short_name':'MachineGun','overall':99}\n",
    "\n",
    "# Para todas las columnas de skils en este jugador ponemos el valor 99 y lo agregamos a la tabla general\n",
    "for skills in skills_ratings:\n",
    "    MachineGunDict[skills]=99\n",
    "    \n",
    "df_fifa22 = df_fifa22.append(MachineGunDict,ignore_index=True)"
   ]
  },
  {
   "cell_type": "code",
   "execution_count": null,
   "metadata": {
    "colab": {
     "base_uri": "https://localhost:8080/",
     "height": 487
    },
    "id": "6AgHdliEnlEo",
    "outputId": "2431d16c-f8c2-4f8c-c76d-bfb4eb806b6b"
   },
   "outputs": [],
   "source": [
    "# Genero un data frame, sólo con desempeños según habilidad (numéricas)\n",
    "df_skills = df_fifa22[skills_ratings]\n",
    "df_skills"
   ]
  },
  {
   "cell_type": "markdown",
   "metadata": {
    "id": "FgTCDk81ps_1"
   },
   "source": [
    "### Division estrategica de posiciones"
   ]
  },
  {
   "cell_type": "code",
   "execution_count": null,
   "metadata": {
    "colab": {
     "base_uri": "https://localhost:8080/"
    },
    "id": "M4u-q42-VetA",
    "outputId": "f0f06627-0e0a-4373-ae0d-fcb611513794"
   },
   "outputs": [],
   "source": [
    "# Armamos una separacion de los jugadores para analizar diferentes posiciones\n",
    "forwards=['RF', 'ST', 'LW', 'LF', 'RS', 'LS', 'RM', 'LM','RW']\n",
    "midfielders=['RCM','LCM','LDM','CAM','CDM','LAM','RDM','CM','RAM','CF']\n",
    "defenders=['RCB','CB','LCB','LB','RB','RWB','LWB']\n",
    "goalkeepers=['GK']\n",
    "\n",
    "def pos2(position):\n",
    "    if position in forwards:\n",
    "        return 'Forward'\n",
    "    \n",
    "    elif position in midfielders:\n",
    "        return 'Midfielder'\n",
    "    \n",
    "    elif position in defenders:\n",
    "        return 'Defender'\n",
    "    \n",
    "    elif position in goalkeepers:\n",
    "        return 'GK'\n",
    "    else:\n",
    "        return 'nan'\n",
    "\n",
    "# Cargo en la columna Position2 la clasificacion general de posiciones que armamos con forwards, \n",
    "# midfielders, defenders y goalkeepers, utilizando la funcion definida antes pos2\n",
    "df_fifa22['Position2'] = df_fifa22[\"player_positions_principal\"].str.split(',').str[0].apply(lambda x: pos2(x))\n",
    "\n",
    "\n",
    "df_fifa22['Position2'].value_counts()"
   ]
  },
  {
   "cell_type": "markdown",
   "metadata": {
    "id": "D24_mNo3nlEv"
   },
   "source": [
    "## 4 - Exploratorio Visual para Clustering"
   ]
  },
  {
   "cell_type": "markdown",
   "metadata": {
    "id": "idsfDRNmnlEw"
   },
   "source": [
    "Visualizamos los datos (jugadores) según sus habilidades es decir, en un espacio 34 dimensional. Cómo hacemos? empecemos de a dos variables numéricas por vez\n",
    "\n",
    "**Consigna de trabajo:** visualizar a los jugadores (datos) usando las variables numéricas en skill_ratings de a pares. Emergen grupos/clusters?"
   ]
  },
  {
   "cell_type": "code",
   "execution_count": null,
   "metadata": {
    "colab": {
     "base_uri": "https://localhost:8080/"
    },
    "id": "r8k0GAslwp6F",
    "outputId": "0588492b-9b57-4ad7-fa7e-d2683b9f9816"
   },
   "outputs": [],
   "source": [
    "skills_ratings"
   ]
  },
  {
   "cell_type": "markdown",
   "metadata": {
    "id": "0UppP6S5plxA"
   },
   "source": [
    "### Visualizacion con n variables"
   ]
  },
  {
   "cell_type": "code",
   "execution_count": null,
   "metadata": {
    "colab": {
     "base_uri": "https://localhost:8080/",
     "height": 921
    },
    "id": "wjDwshStzLtw",
    "outputId": "4e021983-deec-4831-c487-d002992192f2"
   },
   "outputs": [],
   "source": [
    "# Visualizamos la cantidad de columnas que definimos como parametro de la funcion\n",
    "sns.pairplot(df_skills[skills_ratings[0:5]]) "
   ]
  },
  {
   "cell_type": "markdown",
   "metadata": {
    "id": "u6tmlrIcpw97"
   },
   "source": [
    "### Visualizacion de dos variables"
   ]
  },
  {
   "cell_type": "code",
   "execution_count": null,
   "metadata": {
    "id": "L6QqkTmakWm9"
   },
   "outputs": [],
   "source": [
    "# Diferenciamos entre True y False a los mejores jugadores con desempeño por arriba de 85\n",
    "bool_crack = df_fifa22[\"overall\"] > 85 "
   ]
  },
  {
   "cell_type": "markdown",
   "metadata": {
    "id": "cVNCgzCK4MUa"
   },
   "source": [
    "##### Ejemplo primer par de variables"
   ]
  },
  {
   "cell_type": "code",
   "execution_count": null,
   "metadata": {
    "id": "ldewgH9a35M_"
   },
   "outputs": [],
   "source": [
    "# Elegimos dos variables, para esto elegimos dos números entre 0 y de n_skills-1\n",
    "skill_1 = skills_ratings[6]\n",
    "skill_2 = skills_ratings[10]"
   ]
  },
  {
   "cell_type": "markdown",
   "metadata": {
    "id": "3iKCMfcbvIO2"
   },
   "source": [
    "Gráfica con matplotlib.pyplot, liviana pero más sencilla"
   ]
  },
  {
   "cell_type": "code",
   "execution_count": null,
   "metadata": {
    "colab": {
     "base_uri": "https://localhost:8080/",
     "height": 549
    },
    "id": "DOYlfy6fiq-O",
    "outputId": "b743c535-c695-4bc3-99a7-97d3e8323053"
   },
   "outputs": [],
   "source": [
    "plt.figure(figsize=(8,8), dpi=80)\n",
    "plt.scatter(df_skills[skill_1], y=df_skills[skill_2],s=3,c=bool_crack)\n",
    "plt.xlabel(skill_1)\n",
    "plt.ylabel(skill_2)\n",
    "plt.show()"
   ]
  },
  {
   "cell_type": "markdown",
   "metadata": {
    "id": "HATl93hpw1wg"
   },
   "source": [
    "Gráfica con Plotly, más completa e interactiva pero un poco pesada"
   ]
  },
  {
   "cell_type": "code",
   "execution_count": null,
   "metadata": {
    "colab": {
     "base_uri": "https://localhost:8080/",
     "height": 667
    },
    "id": "XwR4DFSMnlEy",
    "outputId": "2652591f-585d-4e62-eeef-75b187ba361f",
    "scrolled": false
   },
   "outputs": [],
   "source": [
    "graf1 = go.Scatter(x=df_skills[skill_1], y=df_skills[skill_2],\n",
    "                           mode='markers',\n",
    "                           text=df_fifa22.loc[:,'club_name'], #'Height', 'Weight', 'Club', 'Age', 'Name','Position'\n",
    "                           marker=dict(\n",
    "                                size=5)\n",
    "                           )\n",
    "\n",
    "crack =go.Scatter(x=df_skills.loc[bool_crack,skill_1], y=df_skills.loc[bool_crack,skill_2],name='Top players',\n",
    "                      text=df_fifa22.loc[bool_crack,'short_name'],\n",
    "                      textfont=dict(family='sans serif',size=10,color='black'),\n",
    "                      opacity=0.9,mode='text')\n",
    "\n",
    "data=[graf1,crack]\n",
    "\n",
    "layout = go.Layout(title=\"Visualización de la base de a dos variables numéricas\",titlefont=dict(size=20),\n",
    "                xaxis=dict(title=skill_1),\n",
    "                yaxis=dict(title=skill_2),\n",
    "                autosize=False, width=1000,height=650)\n",
    "\n",
    "fig = go.Figure(data=data, layout=layout)\n",
    "\n",
    "fig.show()"
   ]
  },
  {
   "cell_type": "markdown",
   "metadata": {
    "id": "0KH98w5h4cnt"
   },
   "source": [
    "##### Ejemplo segundo par de variables"
   ]
  },
  {
   "cell_type": "code",
   "execution_count": null,
   "metadata": {
    "id": "FshxLL-T0ix7"
   },
   "outputs": [],
   "source": [
    "#Elegimos dos variables, para esto elegimos dos números entre 0 y  de n_skills-1\n",
    "skill_1 = skills_ratings[2]\n",
    "skill_2 = skills_ratings[3]"
   ]
  },
  {
   "cell_type": "markdown",
   "metadata": {
    "id": "twXPJ8ATs6an"
   },
   "source": [
    "Gráfica con matplotlib.pyplot, liviana pero más sencilla"
   ]
  },
  {
   "cell_type": "code",
   "execution_count": null,
   "metadata": {
    "colab": {
     "base_uri": "https://localhost:8080/",
     "height": 549
    },
    "id": "jC86DQ61sgOG",
    "outputId": "246fcd49-05d3-401e-cc4e-02f13fa16e10"
   },
   "outputs": [],
   "source": [
    "plt.figure(figsize=(8,8), dpi=80)\n",
    "plt.scatter(df_skills[skill_1], y=df_skills[skill_2],s=3,c=bool_crack)\n",
    "plt.xlabel(skill_1)\n",
    "plt.ylabel(skill_2)\n",
    "plt.show()"
   ]
  },
  {
   "cell_type": "markdown",
   "metadata": {
    "id": "QrvL0gKOshR2"
   },
   "source": [
    "Gráfica con Plotly, más completa e interactiva pero un poco pesada"
   ]
  },
  {
   "cell_type": "code",
   "execution_count": null,
   "metadata": {
    "colab": {
     "base_uri": "https://localhost:8080/",
     "height": 667
    },
    "id": "9o2LwsAxsgCT",
    "outputId": "4c0f15de-4a9b-41fd-d477-0eb1fc0906a4"
   },
   "outputs": [],
   "source": [
    "graf1 = go.Scatter(x=df_skills[skill_1], y=df_skills[skill_2],\n",
    "                           mode='markers',\n",
    "                           text=df_fifa22.loc[:,'club_name'], #'Height', 'Weight', 'Club', 'Age', 'Name','Position'\n",
    "                           marker=dict(\n",
    "                                size=5)\n",
    "                           )\n",
    "\n",
    "crack =go.Scatter(x=df_skills.loc[bool_crack,skill_1], y=df_skills.loc[bool_crack,skill_2],name='Top players',\n",
    "                      text=df_fifa22.loc[bool_crack,'short_name'],\n",
    "                      textfont=dict(family='sans serif',size=10,color='black'),\n",
    "                      opacity=0.9,mode='text')\n",
    "\n",
    "data=[graf1,crack]\n",
    "\n",
    "layout = go.Layout(title=\"Visualización de la base de a dos variables numéricas\",titlefont=dict(size=20),\n",
    "                xaxis=dict(title=skill_1),\n",
    "                yaxis=dict(title=skill_2),\n",
    "                autosize=False, width=1000,height=650)\n",
    "\n",
    "fig = go.Figure(data=data, layout=layout)\n",
    "\n",
    "fig.show()"
   ]
  },
  {
   "cell_type": "markdown",
   "metadata": {
    "id": "zdLqkZ2ooh6x"
   },
   "source": [
    "#### Visualizacion por crack"
   ]
  },
  {
   "cell_type": "markdown",
   "metadata": {
    "id": "Uuoq4edonlE2"
   },
   "source": [
    "En próxima gráfica, similar a la anterior, también se diferencian los mejores jugadores y alguna característica/variable de interés (que pueden cambiar)\n",
    "\n",
    "Se puede ubicar también un jugador en particular. Con la siguiente linea de comando, por ejemplo, Leo Messi: "
   ]
  },
  {
   "cell_type": "code",
   "execution_count": null,
   "metadata": {
    "id": "QnemQQz_xiiw"
   },
   "outputs": [],
   "source": [
    "#Elegimos un jugador\n",
    "recherche_joueur=df_fifa22[\"short_name\"]=='L. Messi' \n",
    "#recherche_joueur=df_n[\"Name\"]==df_n[\"Name\"][4000] # acá podemos elegir otro \n",
    "\n",
    "bool_crack=df_fifa22[\"overall\"] > 85\n",
    "bool_elecc=df_fifa22[\"club_name\"]=='FC Barcelona' \n",
    "bool_no_crack=df_fifa22[\"overall\"]<86\n",
    "bool_machinegun=df_fifa22[\"short_name\"]=='MachineGun'\n",
    "\n",
    "#Elegir dos números entre 0 y  de n_skills-1\n",
    "skill_1=skills_ratings[6]  #6\n",
    "skill_2=skills_ratings[25]  #25"
   ]
  },
  {
   "cell_type": "markdown",
   "metadata": {
    "id": "SqsKvDWXyAh8"
   },
   "source": [
    "Gráfica con plotly"
   ]
  },
  {
   "cell_type": "code",
   "execution_count": null,
   "metadata": {
    "id": "dABm0PGznlE5"
   },
   "outputs": [],
   "source": [
    "palette=['navy','red','#A2D5F2','orange','green','pink']  \n",
    "\n",
    "data=[]\n",
    "\n",
    "n_crack =go.Scatter(x=df_skills.loc[bool_crack,skill_1], y=df_skills.loc[bool_crack,skill_2],name='Crack',\n",
    "                      text=df_fifa22.loc[bool_crack,'short_name'],\n",
    "                      textfont=dict(family='sans serif',size=15,color='black'),\n",
    "                      opacity=0.9,marker=dict(color=palette[2],size=7),mode='markers+text')\n",
    "\n",
    "n_no_crack =go.Scatter(x=df_skills.loc[bool_no_crack,skill_1], y=df_skills.loc[bool_no_crack,skill_2],name='Average player',\n",
    "                         text=df_fifa22.loc[bool_no_crack,'short_name'],\n",
    "                         opacity=0.6,marker=dict(color=palette[1],size=3),mode='markers')\n",
    "n_elecc=go.Scatter(x=df_skills.loc[bool_elecc,skill_1], y=df_skills.loc[bool_elecc,skill_2],name='Elección',\n",
    "                         text=df_fifa22.loc[bool_elecc,'short_name'],\n",
    "                         opacity=0.6,marker=dict(color=palette[0],size=5),mode='markers')\n",
    "\n",
    "n_machinegun =go.Scatter(x=df_skills.loc[bool_machinegun,skill_1], y=df_skills.loc[bool_machinegun,skill_2],name='Perfect player',\n",
    "                           textfont=dict(family='sans serif',size=20,color='black'),\n",
    "                           opacity=0.6,marker=dict(color=palette[3],size=30),mode='markers+text')\n",
    "\n",
    "\n",
    "joueur_recherche =go.Scatter(x=df_skills.loc[recherche_joueur,skill_1], y=df_skills.loc[recherche_joueur,skill_2],name='Searched player',\n",
    "                           text=df_fifa22.loc[recherche_joueur,'short_name'],\n",
    "                            textfont=dict(family='sans serif',size=20,color='black'),\n",
    "                           opacity=1,marker=dict(color=palette[4],size=40),mode='markers+text')\n",
    "\n",
    "data=[n_no_crack,n_elecc\n",
    "      ,n_crack,n_machinegun,joueur_recherche]\n",
    "\n",
    "layout = go.Layout(title=\"Fifa Players\",titlefont=dict(size=20),\n",
    "                xaxis=dict(title=skill_1),\n",
    "                yaxis=dict(title=skill_2),\n",
    "                autosize=False, width=1000,height=650)\n",
    "\n",
    "fig = go.Figure(data=data, layout=layout)\n"
   ]
  },
  {
   "cell_type": "code",
   "execution_count": null,
   "metadata": {
    "colab": {
     "base_uri": "https://localhost:8080/",
     "height": 667
    },
    "id": "QHMe-5a1sF3A",
    "outputId": "5f5976fc-7b61-454c-a9a9-1a1be1be43bc"
   },
   "outputs": [],
   "source": [
    "#En Colab\n",
    "fig.show()"
   ]
  },
  {
   "cell_type": "markdown",
   "metadata": {
    "id": "QW4x3CgknlFD"
   },
   "source": [
    "**Identifiquemos algunos jugadores por nombre**"
   ]
  },
  {
   "cell_type": "code",
   "execution_count": null,
   "metadata": {
    "colab": {
     "base_uri": "https://localhost:8080/"
    },
    "id": "gih4XM4SnlFE",
    "outputId": "7866c09b-55b1-476b-bf4a-280a044d666c"
   },
   "outputs": [],
   "source": [
    "print(df_fifa22.loc[0:43,\"short_name\"])"
   ]
  },
  {
   "cell_type": "markdown",
   "metadata": {
    "id": "_W6uN6waTPTO"
   },
   "source": [
    "# EJERCICIO 3 - Uso de dos técnicas de clustering"
   ]
  },
  {
   "cell_type": "markdown",
   "metadata": {
    "id": "pASMtuUmURM3"
   },
   "source": [
    "##**Clustering con Kmeans**"
   ]
  },
  {
   "cell_type": "markdown",
   "metadata": {
    "id": "tM4ERtApKCHY"
   },
   "source": [
    "#### Analisis de Codo\n",
    "\n",
    "El objetivo es determinar la cantidad de clusters que el metodo propone como cantidad optima"
   ]
  },
  {
   "cell_type": "code",
   "execution_count": null,
   "metadata": {
    "colab": {
     "base_uri": "https://localhost:8080/",
     "height": 585
    },
    "id": "BVp4ZI5UY_4S",
    "outputId": "099862f7-393a-452b-c2ce-d15e951bb4a5"
   },
   "outputs": [],
   "source": [
    "# Analisis para determinar el hiperparámetro n_clusters, variando de 2 a 11 clusters\n",
    "scores = [KMeans(n_clusters=i).fit(df_skills).inertia_ for i in range(2,12)]\n",
    "\n",
    "plt.figure(figsize=(12,9))\n",
    "plt.plot(np.arange(2, 12), scores, marker='o', linestyle='--')\n",
    "plt.xlabel('Number of clusters')\n",
    "plt.ylabel(\"Inertia\")\n",
    "plt.title(\"Inertia of k-Means versus number of clusters\")"
   ]
  },
  {
   "cell_type": "markdown",
   "metadata": {
    "id": "5HqyBzGXqw0Y"
   },
   "source": [
    "#### Aplicamos KMeans"
   ]
  },
  {
   "cell_type": "code",
   "execution_count": null,
   "metadata": {
    "colab": {
     "base_uri": "https://localhost:8080/"
    },
    "id": "cSweCP8gUQpo",
    "outputId": "6f2f0982-8b71-4035-9ec5-2e6e3df1d6ac"
   },
   "outputs": [],
   "source": [
    "# Número de clusters definido por el metodo del codo\n",
    "clusters =4\n",
    "\n",
    "# Creo una variable con el metodo KMeans\n",
    "km = KMeans(n_clusters=clusters)\n",
    "# Enterno mi modelo utilizando 34 dimensiones que forman las variables definidas como skills\n",
    "km.fit(df_skills)"
   ]
  },
  {
   "cell_type": "code",
   "execution_count": null,
   "metadata": {
    "colab": {
     "base_uri": "https://localhost:8080/"
    },
    "id": "owYV0Mqm_XN5",
    "outputId": "49b08104-5b5b-47c8-a06f-9dc56aee3fed"
   },
   "outputs": [],
   "source": [
    "# Diferentes clusters asignadas a cada jugador del data frame df_skills por el algoritmo que entrenamos \n",
    "clusters = km.labels_\n",
    "\n",
    "print('Kmeans encontró: ', max(km.labels_)+1, 'clusters')"
   ]
  },
  {
   "cell_type": "code",
   "execution_count": null,
   "metadata": {
    "colab": {
     "base_uri": "https://localhost:8080/",
     "height": 939
    },
    "id": "AYSFl0RA_XJS",
    "outputId": "a9408aad-fa1a-4285-bc64-e915754f183b"
   },
   "outputs": [],
   "source": [
    "# Copio la base de analisis df_fifa22 a la df_KMeans y le agrego la columna con el cluster generados a partir de entrenar el modelo con \n",
    "# las 34 instancias que forman parte de df_skill \n",
    "df_KMeans=df_fifa22.copy()\n",
    "df_KMeans['KMeans'] = clusters\n",
    "df_KMeans"
   ]
  },
  {
   "cell_type": "markdown",
   "metadata": {
    "id": "LFmxD7tbIinn"
   },
   "source": [
    "#### Analisis del Data Frame"
   ]
  },
  {
   "cell_type": "markdown",
   "metadata": {
    "id": "HwYOFKqAsAPc"
   },
   "source": [
    "##### Analisis General"
   ]
  },
  {
   "cell_type": "code",
   "execution_count": null,
   "metadata": {
    "colab": {
     "base_uri": "https://localhost:8080/"
    },
    "id": "yI1qdqu6l3IG",
    "outputId": "7f40cbcf-67ab-45ae-972c-2c3ca215ed6d"
   },
   "outputs": [],
   "source": [
    "# Cantidad de registros asociados a cada clusters\n",
    "df_KMeans['KMeans'].value_counts()"
   ]
  },
  {
   "cell_type": "code",
   "execution_count": null,
   "metadata": {
    "colab": {
     "base_uri": "https://localhost:8080/"
    },
    "id": "SIJHs1Jl9iPc",
    "outputId": "a44bc744-5946-4435-c496-d4bb023e3631"
   },
   "outputs": [],
   "source": [
    "# Corremos silhouette para saber que tan emparejados estan los elementos de un mismo grupo y que tan diferentes son del os otros grupos\n",
    "silhouette_score = metrics.silhouette_score(df_skills, clusters, metric='euclidean')\n",
    "silhouette_score"
   ]
  },
  {
   "cell_type": "code",
   "execution_count": null,
   "metadata": {
    "colab": {
     "base_uri": "https://localhost:8080/",
     "height": 206
    },
    "id": "AZsOs1M1sEJp",
    "outputId": "8ad10871-b0f7-4e00-a0f2-d9a956bc10d3"
   },
   "outputs": [],
   "source": [
    "# Para que no me genere una distoncion de los grafico y tablas de analisis eliminamos de KMeans el MacineGun\n",
    "df_KMeans.drop(df_KMeans.loc[df_KMeans['short_name']=='MachineGun'].index, inplace=True)\n",
    "\n",
    "# Armo una crosstable con el porcentaje de los registros asociados a cada cluster creado por KMeans\n",
    "cross = pd.crosstab(df_KMeans.KMeans, df_KMeans.Position2, normalize=\"index\")\n",
    "cross"
   ]
  },
  {
   "cell_type": "code",
   "execution_count": null,
   "metadata": {
    "colab": {
     "base_uri": "https://localhost:8080/",
     "height": 519
    },
    "id": "195iNQltsEDx",
    "outputId": "6f1c9265-e34f-4820-9c51-12869aa2468c"
   },
   "outputs": [],
   "source": [
    "# Armo un grafico para saber porcentualmente como se distribuyen los registros de las cuatro posiciones en los distintos cluster\n",
    "plt.figure(figsize = (15,8))\n",
    "sns.heatmap(cross, annot=True, cmap = \"OrRd\")"
   ]
  },
  {
   "cell_type": "markdown",
   "metadata": {
    "id": "5_dM1b4jHJUf"
   },
   "source": [
    "##### Variables de Analisis"
   ]
  },
  {
   "cell_type": "code",
   "execution_count": null,
   "metadata": {
    "id": "WVmy85YpSLUP"
   },
   "outputs": [],
   "source": [
    "# Eligo dos dos variables de los skills definiendo numeros entre 0 y los n_skills\n",
    "skill_1=skills_ratings[9]\n",
    "skill_2=skills_ratings[10]"
   ]
  },
  {
   "cell_type": "markdown",
   "metadata": {
    "id": "OBUzAniizRKQ"
   },
   "source": [
    "##### Cracks"
   ]
  },
  {
   "cell_type": "code",
   "execution_count": null,
   "metadata": {
    "colab": {
     "base_uri": "https://localhost:8080/"
    },
    "id": "Mdq43xDFGCcE",
    "outputId": "e3b73c2b-773e-4032-ffd8-3d1fec115362"
   },
   "outputs": [],
   "source": [
    "# Defino dos grupos booleanos para agregar los nombres en la grafica separando dos grupos de jugadores\n",
    "bool_crack = df_fifa22[\"overall\"] > 85\n",
    "bool_crack.value_counts()\n"
   ]
  },
  {
   "cell_type": "code",
   "execution_count": null,
   "metadata": {
    "id": "2k-Y-shcVKZQ"
   },
   "outputs": [],
   "source": [
    "# 1° Defino un grupo del data frame df_skills con la primer variable en funcion de la segunda y \n",
    "# los coloreo en funcion del cluster asignado por KMean \n",
    "kmean_clusters = go.Scatter(x=df_skills[skill_1], y=df_skills[skill_2], mode='markers', text=df_KMeans.loc[:,'short_name'],\n",
    "                           marker=dict(size=5, color=clusters.astype(np.float), #set color equal to a variable\n",
    "                                colorscale='Portland', showscale=False))\n",
    "\n",
    "# 2° Defino el grupo de de jugadores que forman el grupo de bool_crack considerando \n",
    "# la primer variable en funcion de la segunda. Se arma este grupo selecto para que aparezcan los nombres \n",
    "# pero los valores on iguales a los presentados en el grafico anteriror\n",
    "crack =go.Scatter(x=df_skills.loc[bool_crack,skill_1], y=df_skills.loc[bool_crack,skill_2], name='Nombres de Ckacks',\n",
    "                      text=df_KMeans.loc[bool_crack,'short_name'],\n",
    "                      textfont=dict(family='sans serif',size=10,color='black'),\n",
    "                      opacity=0.9,mode='text')\n",
    "\n",
    "data=[kmean_clusters,crack]\n",
    "\n",
    "layout = go.Layout(title=\"Clustering K means para Cracks!!!\",titlefont=dict(size=20),\n",
    "                xaxis=dict(title=skill_1),\n",
    "                yaxis=dict(title=skill_2),\n",
    "                autosize=False, width=1000,height=650)\n",
    "\n",
    "fig = go.Figure(data=data, layout=layout)"
   ]
  },
  {
   "cell_type": "code",
   "execution_count": null,
   "metadata": {
    "colab": {
     "base_uri": "https://localhost:8080/",
     "height": 667
    },
    "id": "fnIIp2RYVWCn",
    "outputId": "8e1f85a7-9565-4b1a-b819-1cfb3b417796"
   },
   "outputs": [],
   "source": [
    "fig.show()"
   ]
  },
  {
   "cell_type": "markdown",
   "metadata": {
    "id": "RgOT2wSKzZbv"
   },
   "source": [
    "##### Mediocres"
   ]
  },
  {
   "cell_type": "code",
   "execution_count": null,
   "metadata": {
    "colab": {
     "base_uri": "https://localhost:8080/"
    },
    "id": "lwEVTrAJFf5Q",
    "outputId": "14046b12-ce14-40a1-f595-ecd0f71ad153"
   },
   "outputs": [],
   "source": [
    "# Defino dos grupos booleanos para agregar los nombres en la grafica separando dos grupos de jugadores\n",
    "# Vemos que tenemos muchos nombre para imprimir en la grafica con lo cual puede salir una mancha que tape los clusters\n",
    "bool_no_crack = df_fifa22[\"overall\"] <= 71\n",
    "bool_no_crack.value_counts()"
   ]
  },
  {
   "cell_type": "code",
   "execution_count": null,
   "metadata": {
    "id": "UO72SV4qok58"
   },
   "outputs": [],
   "source": [
    "# 1° Defino un grupo del data frame df_skills con la primer variable en funcion de la segunda y \n",
    "# los coloreo en funcion del cluster asignado por KMean \n",
    "kmean_clusters = go.Scatter(x=df_skills[skill_1], y=df_skills[skill_2], mode='markers', text=df_KMeans.loc[:,'short_name'],\n",
    "                           marker=dict(size=5, color=clusters.astype(np.float), #set color equal to a variable\n",
    "                                colorscale='Portland', showscale=False))\n",
    "\n",
    "# 2° Defino el grupo de de jugadores que forman el grupo de bool_crack considerando \n",
    "# la primer variable en funcion de la segunda. Se arma este grupo selecto para que aparezcan los nombres \n",
    "# pero los valores on iguales a los presentados en el grafico anteriror\n",
    "no_crack =go.Scatter(x=df_skills.loc[bool_no_crack,skill_1], y=df_skills.loc[bool_no_crack,skill_2], name='Nombres Regulares',\n",
    "                     # text=df_KMeans.loc[bool_no_crack,'short_name'],\n",
    "                      textfont=dict(family='sans serif',size=10,color='black'),\n",
    "                      opacity=0.9,mode='text')\n",
    "\n",
    "data=[kmean_clusters,no_crack]\n",
    "\n",
    "layout = go.Layout(title=\"Clustering K means para Regulares!!!\",titlefont=dict(size=20),\n",
    "                xaxis=dict(title=skill_1),\n",
    "                yaxis=dict(title=skill_2),\n",
    "                autosize=False, width=1000,height=650)\n",
    "\n",
    "fig = go.Figure(data=data, layout=layout)"
   ]
  },
  {
   "cell_type": "code",
   "execution_count": null,
   "metadata": {
    "colab": {
     "base_uri": "https://localhost:8080/",
     "height": 667
    },
    "id": "sf6uyRScx7Dx",
    "outputId": "f20c69fb-8876-47b6-fa8a-561e5b69d049"
   },
   "outputs": [],
   "source": [
    "fig.show()"
   ]
  },
  {
   "cell_type": "markdown",
   "metadata": {
    "id": "93gfi9ipf0Ik"
   },
   "source": [
    "##**Clustering con DBSCAN**"
   ]
  },
  {
   "cell_type": "markdown",
   "metadata": {
    "id": "w_lH4W6HqT7w"
   },
   "source": [
    "#### Analisis de Rodilla o Epsilon"
   ]
  },
  {
   "cell_type": "code",
   "execution_count": null,
   "metadata": {
    "id": "6OYbNsRKhZJl"
   },
   "outputs": [],
   "source": [
    "# Definimos las dos variables que vamos a analisar que las sacamos del df_fifa22 y son parte del skills_ratings\n",
    "df_knn = df_fifa22.copy()[['movement_acceleration', 'skill_ball_control']]\n",
    "#data_nn = df_fifa22.copy()[['movement_acceleration', 'skill_ball_control']]"
   ]
  },
  {
   "cell_type": "code",
   "execution_count": null,
   "metadata": {
    "colab": {
     "base_uri": "https://localhost:8080/"
    },
    "id": "56uFxnyIL8AI",
    "outputId": "ceb903be-84f8-43e1-cd0c-35758300750f"
   },
   "outputs": [],
   "source": [
    "# Utilizo el metodo de Vecinos mas cercanos KNN para 4 vecinos defino la variable \n",
    "knn = NearestNeighbors(n_neighbors=4)\n",
    "vecinos = knn.fit(df_knn)\n",
    "\n",
    "# Saco la matriz de distancias de cada punto analizado (filas) respecto cada uno \n",
    "# de los vecinos mas cercanos (columnas) \n",
    "distancia, indices = vecinos.kneighbors(df_knn)\n",
    "\n",
    "# Ordeno por filas las 4593 filas que forman la matriz del df_knn reducido del a dos variables\n",
    "distancia = np.sort(distancia, axis=0)\n",
    "print('Cantidad de puntos analisados que forman las dos varibales seleccionadas:',len(distancia))\n",
    "print('\\nMatriz de distancia de cada punto con respecto a los vecinos seleccionados\\n', distancia)\n"
   ]
  },
  {
   "cell_type": "code",
   "execution_count": null,
   "metadata": {
    "colab": {
     "base_uri": "https://localhost:8080/"
    },
    "id": "r82dAvh9ElhU",
    "outputId": "20e2e76d-6388-45f9-af3b-3354b405e6ec"
   },
   "outputs": [],
   "source": [
    "# De la matriz que calculamos anteriormente tomamos una columna para hacer el analisis del mejor EPSILON\n",
    "columna=3\n",
    "distancia_vector = distancia[:,columna]\n",
    "print('Datos de la columna de distancias seleccionada de la matriz\\n', distancia_vector)\n",
    "\n",
    "# Me armo el vector de elementos que toma todas las filas incluidas en la definicion de distancias\n",
    "i = np.arange(len(distancia_vector))\n",
    "print('\\nCantidad de puntos analisados que forman las dos varibales seleccionadas\\n', i)"
   ]
  },
  {
   "cell_type": "code",
   "execution_count": null,
   "metadata": {
    "colab": {
     "base_uri": "https://localhost:8080/",
     "height": 569
    },
    "id": "q9HmC4KNRepy",
    "outputId": "788c58dc-858f-43b0-fa5c-cf74619331d2"
   },
   "outputs": [],
   "source": [
    "# Determinamos el EPSILON correcto en funcion de los dos vectores que armamos antes\n",
    "# PARA DETERMINAR EL EPSILON CORRECTO TENEMOS QUE ANALIZAR EL MAYOR QUIEBRE QUE SE PRODUCE EN LA GRAFICA \n",
    "\n",
    "\n",
    "plt.figure(figsize=(12,9))\n",
    "sns.lineplot(x=i, y=distancia_vector)\n",
    "plt.xlabel(\"Punto\")\n",
    "plt.ylabel(\"Distancia\")"
   ]
  },
  {
   "cell_type": "markdown",
   "metadata": {
    "id": "P3-w2Of_VuwF"
   },
   "source": [
    "Podemos determinar que utilizando cualquier columna de las distancias que se generan por cada punto con respecto, en este caso a los cuatro vecinos mas cercanos, el EPSILON que se grafica con el quibre mas pronunciado seria 1 "
   ]
  },
  {
   "cell_type": "markdown",
   "metadata": {
    "id": "X1e-SMgiq7rp"
   },
   "source": [
    "#### Aplicamos DBScans"
   ]
  },
  {
   "cell_type": "code",
   "execution_count": null,
   "metadata": {
    "colab": {
     "base_uri": "https://localhost:8080/",
     "height": 939
    },
    "id": "BLG45FsSsC7w",
    "outputId": "12157c36-ac13-43c5-9edb-4251498c526c"
   },
   "outputs": [],
   "source": [
    "# Creo una variable con el metodo DBScan y utilizo el Epsilon que calculamos antes\n",
    "dbs = DBSCAN(eps=1, min_samples=30)\n",
    "\n",
    "# Realizamos una copia de la base de datos original\n",
    "df_dbscan = df_fifa22.copy()\n",
    "\n",
    "# Enterno mi modelo utilizando solo 2 dimensiones represntadas por las variables definidas como skills\n",
    "df_dbscan['dbscan'] = dbs.fit_predict(df_dbscan[['movement_acceleration', 'skill_ball_control']])\n",
    "df_dbscan"
   ]
  },
  {
   "cell_type": "markdown",
   "metadata": {
    "id": "_PP2aaSkqd-X"
   },
   "source": [
    "#### Analisis de Data Frame"
   ]
  },
  {
   "cell_type": "code",
   "execution_count": null,
   "metadata": {
    "colab": {
     "base_uri": "https://localhost:8080/"
    },
    "id": "g_NTBMWYW3b2",
    "outputId": "d9001d53-cf02-4776-f16f-d7d730ddad50"
   },
   "outputs": [],
   "source": [
    "# Cantidad de clusters creados por el metodo DBScan\n",
    "df_dbscan['dbscan'].unique()"
   ]
  },
  {
   "cell_type": "code",
   "execution_count": null,
   "metadata": {
    "colab": {
     "base_uri": "https://localhost:8080/"
    },
    "id": "4fQK7bh71XTE",
    "outputId": "14357b1f-c920-4bcd-ea73-a2539d631a11"
   },
   "outputs": [],
   "source": [
    "# Cantidad de registros asociados a cada clusters\n",
    "df_dbscan['dbscan'].value_counts()"
   ]
  },
  {
   "cell_type": "code",
   "execution_count": null,
   "metadata": {
    "colab": {
     "base_uri": "https://localhost:8080/"
    },
    "id": "wE_ajui1_P7x",
    "outputId": "6cd0813f-eb36-45ec-de7e-96b8441407e0"
   },
   "outputs": [],
   "source": [
    "# Corremos silhouette \n",
    "silhouette_score = metrics.silhouette_score(df_dbscan[['movement_acceleration', 'skill_ball_control']], clusters, metric='euclidean')\n",
    "silhouette_score"
   ]
  },
  {
   "cell_type": "markdown",
   "metadata": {
    "id": "yBXi8FUUFURJ"
   },
   "source": [
    "Comentario del resultado del la metrica"
   ]
  },
  {
   "cell_type": "code",
   "execution_count": null,
   "metadata": {
    "colab": {
     "base_uri": "https://localhost:8080/",
     "height": 394
    },
    "id": "psB5xyiKnkQS",
    "outputId": "e6d110a8-7808-45a6-9290-7c5fe071fb61"
   },
   "outputs": [],
   "source": [
    "# Para que no me genere una distoncion de los grafico y tablas de analisis eliminamos de KMeans el MacineGun\n",
    "df_dbscan.drop(df_dbscan.loc[df_dbscan['short_name']=='MachineGun'].index, inplace=True)\n",
    "\n",
    "# Armo una crosstable con los registros asociados a cada cluster creado\n",
    "cross = pd.crosstab(df_dbscan.dbscan, df_dbscan.Position2, normalize=\"index\")\n",
    "cross"
   ]
  },
  {
   "cell_type": "code",
   "execution_count": null,
   "metadata": {
    "colab": {
     "base_uri": "https://localhost:8080/",
     "height": 519
    },
    "id": "wez6o2u8nkKs",
    "outputId": "c0776bde-b5d5-4f05-e52a-38b6e1f1d3db"
   },
   "outputs": [],
   "source": [
    "# Armo un grafico para saber porcentualmente como se distribuyen los registros de las cuatro posiciones en los distintos cluster\n",
    "plt.figure(figsize = (15,8))\n",
    "sns.heatmap(cross, annot=True, cmap = \"OrRd\")"
   ]
  },
  {
   "cell_type": "code",
   "execution_count": null,
   "metadata": {
    "colab": {
     "base_uri": "https://localhost:8080/",
     "height": 557
    },
    "id": "Gfoo1zy4wSlp",
    "outputId": "5a475202-c50a-4eab-cd9f-f38f378dc798"
   },
   "outputs": [],
   "source": [
    "# Generamos el grafico pasando por parametro los datos c que genero el DBScan\n",
    "\n",
    "plt.figure(figsize=(12,9))\n",
    "plt.scatter(df_dbscan['movement_acceleration'], df_dbscan['skill_ball_control'], c=df_dbscan['dbscan'])"
   ]
  },
  {
   "cell_type": "code",
   "execution_count": null,
   "metadata": {
    "colab": {
     "base_uri": "https://localhost:8080/"
    },
    "id": "0LEvKKQI0Tl-",
    "outputId": "1c4a3137-17c6-4066-f63d-e1ff34cc2217"
   },
   "outputs": [],
   "source": [
    "# Defino una lista numerica para agregar una columna nueva con valores numericos que identifican la calsificacion anterior\n",
    "posicion_numerica = {'Defender' : 0, 'Forward' : 1, 'GK' : 2, 'Midfielder' : 3}\n",
    "\n",
    "# Copio la columna Position2 en Position3 y la trasnformo en numerico\n",
    "df_dbscan['Position3'] = df_dbscan['Position2']\n",
    "df_dbscan.replace({\"Position3\": posicion_numerica}, inplace=True)\n",
    "df_dbscan['Position3']"
   ]
  },
  {
   "cell_type": "code",
   "execution_count": null,
   "metadata": {
    "colab": {
     "base_uri": "https://localhost:8080/",
     "height": 557
    },
    "id": "_ImosPVug7XL",
    "outputId": "54cbab2a-7e5f-41a1-b456-87ccf4b1bcd3"
   },
   "outputs": [],
   "source": [
    "# Grafico por las cuatro posiciones definidas 'Defender' : 0, 'Forward' : 1, 'GK' : 2, 'Midfielder' : 3\n",
    "\n",
    "plt.figure(figsize=(12,9))\n",
    "plt.scatter(df_dbscan['movement_acceleration'], df_dbscan['skill_ball_control'], c=df_dbscan['Position3'])\n"
   ]
  },
  {
   "cell_type": "code",
   "execution_count": null,
   "metadata": {
    "colab": {
     "base_uri": "https://localhost:8080/",
     "height": 557
    },
    "id": "NOyVGKFTzNO4",
    "outputId": "f6335bd6-055c-4545-91e3-b17393299a2b"
   },
   "outputs": [],
   "source": [
    "# Grafico coloreando diferente a las posiciones 'Defender' : 0, 'Forward' : 1, 'GK' : 2, 'Midfielder' : 3\n",
    "\n",
    "plt.figure(figsize=(12,9))\n",
    "plt.scatter(df_dbscan['movement_acceleration'], df_dbscan['skill_ball_control'],\n",
    "            #c = df_dbscan['Position3']!=0,  # Marcamos en otro color los Defensores\n",
    "            #c = df_dbscan['Position3']!=1,  # Marcamos en otro color los Delanteros\n",
    "            c = df_dbscan['Position3']!=2,  # Marcamos en otro color los Arqueros\n",
    "            #c = df_dbscan['Position3']!=3,  # Marcamos en otro color los Mediocampistas\n",
    "            cmap = 'Set1' #'inferno' 'viridis'\n",
    ")"
   ]
  },
  {
   "cell_type": "markdown",
   "metadata": {
    "id": "XtHtBIMMuKmX"
   },
   "source": [
    "# EJERCICIO 4 - Evaluación y Análisis de los clusters encontrados."
   ]
  },
  {
   "cell_type": "markdown",
   "metadata": {
    "id": "iNSqFygs2v5S"
   },
   "source": [
    "Antes de evaluara y analizar el resultados de los clusters es importante aclarar que se redujo el data frame original a 4600 elementos y se consideraron 34 variables o instancias de analisis. \n",
    "En la determinacion de los Clusters se utilizaron dos metodos de analisis \n",
    "*   **KMEANS** para lo cual se realizo el Analisis de Codo y se determino que la cantidad conveniente de clusters para el analisis era 4. Con esta cantidad se entreno en modelo con el dataset con los mejores jugadores  considerando las 34 variables de skill. Para su analisis visual su utilizaron  dos variables/instancias aleatorias. En este caso analizando el mapa de calor que surge delos clusters generados se puede verificar que:\n",
    "  1.   **Cluster 0** contiene el 100% de los arqueros\n",
    "  2.   **Cluster 1** es mas variado pero contine 54% de Mediocampistas y 38% de defensores que seguramente son lo que se proyectan al mediocampo\n",
    "  3.   **Cluster 2** es mas marcada la formacion con jugadores Delanteros en un 80% y solo 20% Mediocampistas que seguramente son lo que se proyectan al ataque.\n",
    "  4.   **Cluster 3** esta conformado en un 89% de defensores y 11% de Mediocampistas que seguramente tienen skill propensos a realizar tareas de defensa.\n",
    "\n",
    "*   **DBSCAN** realiza el analizis de clusterizacion con este metodo tomamos dos variables/instancias \"movement_acceleration\" y \"skill_ball_control\". Para el entrenamiento de este modelos tenemos fijar el valor de dos parametros: \n",
    "  1.   El parametro EPSILON para su estimacion optima se utilizo el KNN con la cantidad de puntos centroides a partir de los cuales definimos las distancias desde cada punto de la base a dichos centrides. Determinadas estas distancias se calculo el optimo EPSILON utilizando el metodo de Rodilla cuyo analisis de distancias dio como resultado el valor 1.  \n",
    "  2.   El min_samples que determina la cantidad de puntos que DBSCAN va a utilizar para armar un cluster.\n",
    "\n",
    "El metodo genera 10 cluster en su proceso, con el grafico de calor podemos visualizar que los Defensores en porcentaje superior al 50% se encuentar en los cluster 1, 3, 5 y 8, para los Arqueros se encuentran totalmente contenidos en el cluster -1, los Medicampistas considerando en porcentaje mayor al 50% se encuentras en los clusters 4, 6 y 7. Para el caso de los Delanteros estan distribuidos proporcionalmente en todos los clusters pero se presentan casi 40%, en los clusters 0 y 2. Por lo tanto se puede estimar que los clusters estan representando los 4 diferentes agrupamientos de posiciones "
   ]
  },
  {
   "cell_type": "markdown",
   "metadata": {
    "id": "yd_xgjGRuRIM"
   },
   "source": [
    "#Ejercicio 5 - Pregunta: ¿Se realizó alguna normalización o escalado de la base? ¿Por qué ?"
   ]
  },
  {
   "cell_type": "markdown",
   "metadata": {
    "id": "CdKcarhgapor"
   },
   "source": [
    "No fue necesaria realizar ninguna normalizacion porque todas, las 34 variables/intancias que se tomaron en cuenta para el analisis y que forman parte del skill de jugador varian entre 0 y 100"
   ]
  },
  {
   "cell_type": "markdown",
   "metadata": {
    "id": "UNXHgd0k98vA"
   },
   "source": [
    "#Ejercicio 6 - Uso de alguna transformación (proyección, Embedding) para visualizar los resultados y/o usarla como preprocesado para aplicar alguna técnica de clustering."
   ]
  },
  {
   "cell_type": "markdown",
   "metadata": {
    "id": "766_bMM3b7e3"
   },
   "source": [
    "## Aplico Embedding con PCA"
   ]
  },
  {
   "cell_type": "markdown",
   "metadata": {
    "id": "f4bNogW92bid"
   },
   "source": [
    "### Defino Ambiente\n",
    "\n",
    "Como empezamos a realizar un analisis detallado de la base tomamos el total de los registrospara realizar la transformacion"
   ]
  },
  {
   "cell_type": "code",
   "execution_count": null,
   "metadata": {
    "id": "y7IOKULgc1z9"
   },
   "outputs": [],
   "source": [
    "# Realizo una copia del data frame para empezar el analisis\n",
    "train = df.copy()"
   ]
  },
  {
   "cell_type": "code",
   "execution_count": null,
   "metadata": {
    "colab": {
     "base_uri": "https://localhost:8080/"
    },
    "id": "PE3ygrjndQJW",
    "outputId": "75b52ff5-7d49-47e4-9072-255d83679e30"
   },
   "outputs": [],
   "source": [
    "# Tomo el data frame original completo y me quedo con las columnas solo numericas\n",
    "train = train.select_dtypes(['number'])\n",
    "train.isnull().sum()"
   ]
  },
  {
   "cell_type": "code",
   "execution_count": null,
   "metadata": {
    "colab": {
     "base_uri": "https://localhost:8080/"
    },
    "id": "Vd48nRq8dP9D",
    "outputId": "bf1e4c74-8616-4c16-ba76-4e29c3ede394"
   },
   "outputs": [],
   "source": [
    "# El metodo PCA no trabaja con valores nulos porque da error por lo tanto antes de aplicarlo tenemos que eliminarlos\n",
    "\n",
    "# Elimino aquellas columnas que tienen muchos valores nulos en este caso por arriba de los 4000 registros y que no impactan al analisis que vamos a realizar\n",
    "train = train.drop(['goalkeeping_speed', 'nation_team_id', 'nation_jersey_number'], axis=1)\n",
    "\n",
    "# Elimino todos los registros que tienen algun valor nulo\n",
    "train = train.dropna()\n",
    "train.info()"
   ]
  },
  {
   "cell_type": "markdown",
   "metadata": {
    "id": "zLWefarb2nVP"
   },
   "source": [
    "### Estandarizo el Data Frame"
   ]
  },
  {
   "cell_type": "code",
   "execution_count": null,
   "metadata": {
    "colab": {
     "base_uri": "https://localhost:8080/",
     "height": 487
    },
    "id": "jWpz1183WLki",
    "outputId": "721dba40-6064-4128-ecff-02de6481fc00"
   },
   "outputs": [],
   "source": [
    "# Como este metodo genera un arreglo de valores, me salvo las columnas para \n",
    "# cargarlas de nuevo en el data frame resultado\n",
    "x_names = train.columns\n",
    "array_standard = StandardScaler().fit_transform(train)\n",
    "# Paso el resultado de la estandarizacion al data frame que voy a usar\n",
    "df_train = pd.DataFrame(array_standard, columns=x_names)\n",
    "df_train"
   ]
  },
  {
   "cell_type": "markdown",
   "metadata": {
    "id": "tLCfXa6r2txs"
   },
   "source": [
    "### Proceso PCA"
   ]
  },
  {
   "cell_type": "code",
   "execution_count": null,
   "metadata": {
    "colab": {
     "base_uri": "https://localhost:8080/"
    },
    "id": "d_Ho-o2c-Fcf",
    "outputId": "7bcbf7c9-c079-41de-e1b5-18c24f30b7a6"
   },
   "outputs": [],
   "source": [
    "# Creo ls variable PCA, entreno y transformo el modelo genero el resultado \n",
    "pca = PCA(n_components=3)\n",
    "scores_pca = pca.fit_transform(df_train)\n",
    "scores_pca"
   ]
  },
  {
   "cell_type": "code",
   "execution_count": null,
   "metadata": {
    "colab": {
     "base_uri": "https://localhost:8080/",
     "height": 537
    },
    "id": "YRcF1bGYFPO4",
    "outputId": "e9a1643f-b0f4-4581-f136-61c2bde86b2d"
   },
   "outputs": [],
   "source": [
    "# Grafico la distribucion del calculo generada por el PCA\n",
    "plt.figure(figsize=(12,9))\n",
    "sns.scatterplot(x = scores_pca[:,0], y = scores_pca[:,1], palette = sns.hls_palette(10), legend = 'full');"
   ]
  },
  {
   "cell_type": "code",
   "execution_count": null,
   "metadata": {
    "colab": {
     "base_uri": "https://localhost:8080/",
     "height": 505
    },
    "id": "spN2ISxe9zhu",
    "outputId": "f0ae409a-be57-4767-f0d1-321d94c85b00"
   },
   "outputs": [],
   "source": [
    "# Preparo mi data frame para la visualizacion entonces realizo la la union del data frame sin estandarizar\n",
    "# train con los valores que se obtubieron de PCA\n",
    "df_segm_pca= pd.concat([train.reset_index(drop=True), pd.DataFrame(scores_pca)], axis=1)\n",
    "\n",
    "# A esas nuevas columnas agregadas le asigno un nombre\n",
    "df_segm_pca.columns.values[-3: ]= ['Component 1','Component 2','Component 3']\n",
    "\n",
    "df_segm_pca"
   ]
  },
  {
   "cell_type": "markdown",
   "metadata": {
    "id": "UKxnZFtxNxkK"
   },
   "source": [
    "UTILIZAR EL DATA FRAME DF_SEGM_PCA \n",
    "TIENA ASIGNADAS LAS COLUMNAS RESULTADO DEL PCA"
   ]
  },
  {
   "cell_type": "markdown",
   "metadata": {
    "id": "h0A4_fGsIraa"
   },
   "source": [
    "### Procesos de Clustering"
   ]
  },
  {
   "cell_type": "markdown",
   "metadata": {
    "id": "QLXEM1guJFii"
   },
   "source": [
    "#### KMEANS"
   ]
  },
  {
   "cell_type": "markdown",
   "metadata": {
    "id": "edyn6xS0I0wZ"
   },
   "source": [
    "##### Analisis de Codo"
   ]
  },
  {
   "cell_type": "code",
   "execution_count": null,
   "metadata": {
    "colab": {
     "base_uri": "https://localhost:8080/",
     "height": 585
    },
    "id": "DOXBQRs0Wn9b",
    "outputId": "f6cb5ee3-229e-43e8-dcdc-d667eeffb1d3"
   },
   "outputs": [],
   "source": [
    "# Analisis para determinar el hiperparámetro n_clusters, variando de 2 a 11 clusters\n",
    "scores = [KMeans(n_clusters=i, init='k-means++', random_state=42).fit(scores_pca).inertia_ for i in range(2,12)]\n",
    "\n",
    "plt.figure(figsize=(12,9))\n",
    "plt.plot(np.arange(2, 12), scores, marker='o', linestyle='--')\n",
    "plt.xlabel('Number of clusters')\n",
    "plt.ylabel(\"Inertia\")\n",
    "plt.title(\"K-Means  with PCA\")"
   ]
  },
  {
   "cell_type": "markdown",
   "metadata": {
    "id": "XqWdBM3PI5WE"
   },
   "source": [
    "##### Clustering KMeans Optimo\n",
    "\n",
    "COMO KMEAN UTILIZA LA TOTALIDAD DE INSTANCIAS QUE FORMAN EL DATA SET DE ANALISIS, CONSIDERAMOS PARA LA DEFINICION DE CLUSTERS SOLAMENTE EL ARRAY RESULTADO DEL DATA FRAME AL CUAL SE APLICO **PCA**"
   ]
  },
  {
   "cell_type": "code",
   "execution_count": null,
   "metadata": {
    "colab": {
     "base_uri": "https://localhost:8080/"
    },
    "id": "obuVhw4X9zoX",
    "outputId": "129658dc-ff8c-4bb4-ddbe-e0abc678e543"
   },
   "outputs": [],
   "source": [
    "# Clustering K-Means sobre el array score_pca que obtubimos resultado de \n",
    "# aplicar PCA en data frame estandarizado sin nulos df_train\n",
    "kmeans_pca = KMeans(n_clusters= 4, init='k-means++', random_state=42)\n",
    "kmeans_pca.fit(scores_pca)"
   ]
  },
  {
   "cell_type": "code",
   "execution_count": null,
   "metadata": {
    "colab": {
     "base_uri": "https://localhost:8080/",
     "height": 522
    },
    "id": "XldNu-m2rB-H",
    "outputId": "61215b7a-edae-4171-9d04-111e2b45ac11"
   },
   "outputs": [],
   "source": [
    "# Del tata frame que armamos con los resultados del PCS vamos a realizar una copia para trabajar los clusters de KMean  \n",
    "df_segm_pca_kmeans = df_segm_pca.copy()\n",
    "\n",
    "# Al data frame que aramamos con los resultados de PCA le agrego la columna de los clusters que sale del analisis de KMeans\n",
    "df_segm_pca_kmeans['Segment k-means PCA']= kmeans_pca.labels_\n",
    "\n",
    "df_segm_pca_kmeans"
   ]
  },
  {
   "cell_type": "code",
   "execution_count": null,
   "metadata": {
    "colab": {
     "base_uri": "https://localhost:8080/",
     "height": 322
    },
    "id": "W7VyWV89rBws",
    "outputId": "40836e86-7004-4597-8eea-9897f9b5a392"
   },
   "outputs": [],
   "source": [
    "# Media de todas la svariables numericas considerando la segmentacion que genero\n",
    "df_segm_pca_kmeans_freq= df_segm_pca_kmeans.groupby(['Segment k-means PCA']).mean()\n",
    "df_segm_pca_kmeans_freq"
   ]
  },
  {
   "cell_type": "code",
   "execution_count": null,
   "metadata": {
    "colab": {
     "base_uri": "https://localhost:8080/",
     "height": 567
    },
    "id": "7uIGrsPpsUC0",
    "outputId": "6e5cabe9-417e-4fb3-8bb4-c0919e7ac5af"
   },
   "outputs": [],
   "source": [
    "plt.figure(figsize=(12,9))\n",
    "x_axis=df_segm_pca_kmeans['Component 1']\n",
    "y_axis=df_segm_pca_kmeans['Component 2']\n",
    "sns.scatterplot(x_axis, y_axis, hue= df_segm_pca_kmeans['Segment k-means PCA'], palette=['g','r','c','m'])\n",
    "plt.title('Clusters por componentes PCA')\n",
    "plt.show()"
   ]
  },
  {
   "cell_type": "markdown",
   "metadata": {
    "id": "ErabH6FYQQ2Q"
   },
   "source": [
    "##### Clustering KMeans con n Clusters\n",
    "\n",
    "COMO KMEAN UTILIZA LA TOTALIDAD DE INSTANCIAS QUE FORMAN EL DATA SET DE ANALISIS, CONSIDERAMOS PARA LA DEFINICION DE CLUSTERS SOLAMENTE EL ARRAY RESULTADO DEL DATA FRAME AL CUAL SE APLICO **PCA**"
   ]
  },
  {
   "cell_type": "code",
   "execution_count": null,
   "metadata": {
    "colab": {
     "base_uri": "https://localhost:8080/"
    },
    "id": "PSN0urFKMr7q",
    "outputId": "3521823b-2f48-4e92-d267-85a7d4ed9a3d"
   },
   "outputs": [],
   "source": [
    "# Clustering K-Means sobre el array score_pca que obtubimos resultado de \n",
    "# aplicar PCA en data frame estandarizado sin nulos df_train\n",
    "kmeans_pca = KMeans(n_clusters= 20, init='k-means++', random_state=42)\n",
    "kmeans_pca.fit(scores_pca)"
   ]
  },
  {
   "cell_type": "code",
   "execution_count": null,
   "metadata": {
    "colab": {
     "base_uri": "https://localhost:8080/",
     "height": 522
    },
    "id": "ndwwzfi-MryG",
    "outputId": "40c8725c-4076-4000-9d44-464967d2d142"
   },
   "outputs": [],
   "source": [
    "# Del tata frame que armamos con los resultados del PCS vamos a realizar una copia para trabajar los clusters de KMean  \n",
    "df_segm_pca_kmeans = df_segm_pca.copy()\n",
    "\n",
    "# Al data frame que aramamos con los resultados de PCA le agrego la columna de los clusters que sale del analisis de KMeans\n",
    "df_segm_pca_kmeans['Segment k-means PCA']= kmeans_pca.labels_\n",
    "\n",
    "df_segm_pca_kmeans"
   ]
  },
  {
   "cell_type": "markdown",
   "metadata": {
    "id": "MBp4MLa-QSFn"
   },
   "source": [
    "###### Visualizacion KMeans n Clusters"
   ]
  },
  {
   "cell_type": "code",
   "execution_count": null,
   "metadata": {
    "colab": {
     "base_uri": "https://localhost:8080/",
     "height": 823
    },
    "id": "tBLZf7GmMrit",
    "outputId": "66183fd5-ee86-4ce3-db37-b8335b3b26b4"
   },
   "outputs": [],
   "source": [
    "# Media de todas la svariables numericas considerando la segmentacion que genero el PCA\n",
    "df_segm_pca_kmeans_freq= df_segm_pca_kmeans.groupby(['Segment k-means PCA']).mean()\n",
    "df_segm_pca_kmeans_freq"
   ]
  },
  {
   "cell_type": "code",
   "execution_count": null,
   "metadata": {
    "colab": {
     "base_uri": "https://localhost:8080/",
     "height": 567
    },
    "id": "tzQ294meMrbZ",
    "outputId": "23a13476-4d9f-451d-c7bc-5f71c0336d62"
   },
   "outputs": [],
   "source": [
    "plt.figure(figsize=(12,9))\n",
    "x_axis=df_segm_pca_kmeans['Component 2']\n",
    "y_axis=df_segm_pca_kmeans['Component 3']\n",
    "sns.scatterplot(x_axis, y_axis, hue= df_segm_pca_kmeans['Segment k-means PCA'])\n",
    "plt.title('Clusters por componentes PCA')\n",
    "plt.show()"
   ]
  },
  {
   "cell_type": "markdown",
   "metadata": {
    "id": "jTKM64Lt67Ig"
   },
   "source": [
    "###### Visualizacion KMeans solo 4 de los 20 Clusters"
   ]
  },
  {
   "cell_type": "code",
   "execution_count": null,
   "metadata": {
    "colab": {
     "base_uri": "https://localhost:8080/",
     "height": 569
    },
    "id": "jX4FPuvX68OW",
    "outputId": "a439b2c4-b66d-4960-c839-17a0a710551c"
   },
   "outputs": [],
   "source": [
    "df_segm_pca_kmeans['Legend']= df_segm_pca_kmeans['Segment k-means PCA'].map({0:'Primer Cluster',1:'Segundo Cluster',2: 'Tercer Cluster',3:'Cuarto Cluster'})\n",
    "\n",
    "plt.figure(figsize=(12,9))\n",
    "x_axis=df_segm_pca_kmeans['Component 1']\n",
    "y_axis=df_segm_pca_kmeans['Component 2']\n",
    "sns.scatterplot(x_axis, y_axis, hue= df_segm_pca_kmeans['Legend'])"
   ]
  },
  {
   "cell_type": "markdown",
   "metadata": {
    "id": "ZjA0R3jmLOky"
   },
   "source": [
    "#### MEZCLA GAUSSIANA"
   ]
  },
  {
   "cell_type": "markdown",
   "metadata": {
    "id": "w0UBUy5rNHHc"
   },
   "source": [
    "##### Analisis Parametros"
   ]
  },
  {
   "cell_type": "code",
   "execution_count": null,
   "metadata": {
    "colab": {
     "base_uri": "https://localhost:8080/",
     "height": 276
    },
    "id": "vNVU5757E154",
    "outputId": "97d22e53-eb2f-4883-b4f0-8f548778fee1"
   },
   "outputs": [],
   "source": [
    "#prueba con mezcla de gaussianas con PCA. Su procesamiento lleva tiempo\n",
    "\n",
    "bic = []\n",
    "aic = []\n",
    "for i in range(8):\n",
    "    gm = GaussianMixture(n_components = i+1, n_init = 10, max_iter = 100)\n",
    "    gm.fit(df_segm_pca)\n",
    "    bic.append(gm.bic(df_segm_pca))\n",
    "    aic.append(gm.aic(df_segm_pca))\n",
    "\n",
    "fig = plt.figure()\n",
    "plt.plot([1,2,3,4,5,6,7,8], aic)\n",
    "plt.plot([1,2,3,4,5,6,7,8], bic)\n",
    "plt.show()"
   ]
  },
  {
   "cell_type": "markdown",
   "metadata": {
    "id": "BSZgDGRdGxF4"
   },
   "source": [
    "##### Clustering con MG"
   ]
  },
  {
   "cell_type": "code",
   "execution_count": null,
   "metadata": {
    "id": "YW5FmIJQHLhs"
   },
   "outputs": [],
   "source": [
    "gm_pca = GaussianMixture(n_components = 5, random_state =42) \n",
    "gm_pca.fit(df_segm_pca)\n",
    "predicted_values = gm_pca.predict(df_segm_pca)"
   ]
  },
  {
   "cell_type": "code",
   "execution_count": null,
   "metadata": {
    "colab": {
     "base_uri": "https://localhost:8080/",
     "height": 505
    },
    "id": "QkaIU36tHLK3",
    "outputId": "1d469bdc-66e9-4a57-8765-fe1a442915d5"
   },
   "outputs": [],
   "source": [
    "# Del tata frame que armamos con los resultados del PCA vamos a realizar una copia para trabajar los clusters de MG  \n",
    "df_segm_pca_gm = df_segm_pca.copy()\n",
    "\n",
    "# Al data frame que aramamos con los resultados de PCA le agrego la columna de los clusters que sale del analisis de MG\n",
    "df_segm_pca_gm['Segment GM PCA']= predicted_values\n",
    "\n",
    "df_segm_pca_gm"
   ]
  },
  {
   "cell_type": "code",
   "execution_count": null,
   "metadata": {
    "colab": {
     "base_uri": "https://localhost:8080/"
    },
    "id": "0fKwoS-pJodG",
    "outputId": "026ed213-8061-4cff-eddf-8e8900af3cf3"
   },
   "outputs": [],
   "source": [
    "# Cantidad de registros asociados a cada clusters\n",
    "df_segm_pca_gm['Segment GM PCA'].value_counts()"
   ]
  },
  {
   "cell_type": "code",
   "execution_count": null,
   "metadata": {
    "colab": {
     "base_uri": "https://localhost:8080/",
     "height": 567
    },
    "id": "dbIhTPlnNEIx",
    "outputId": "676f6c88-687b-4b6d-badb-7f8ecdb38c8f"
   },
   "outputs": [],
   "source": [
    "plt.figure(figsize=(12,9))\n",
    "x_axis=df_segm_pca_gm['Component 1']\n",
    "y_axis=df_segm_pca_gm['Component 2']\n",
    "sns.scatterplot(x_axis, y_axis, hue= df_segm_pca_gm['Segment GM PCA'])\n",
    "plt.title('Clusters por componentes PCA')\n",
    "plt.show()"
   ]
  }
 ],
 "metadata": {
  "colab": {
   "collapsed_sections": [],
   "provenance": [],
   "toc_visible": true
  },
  "kernelspec": {
   "display_name": "Python 3 (ipykernel)",
   "language": "python",
   "name": "python3"
  },
  "language_info": {
   "codemirror_mode": {
    "name": "ipython",
    "version": 3
   },
   "file_extension": ".py",
   "mimetype": "text/x-python",
   "name": "python",
   "nbconvert_exporter": "python",
   "pygments_lexer": "ipython3",
   "version": "3.9.13"
  }
 },
 "nbformat": 4,
 "nbformat_minor": 1
}
