{
 "cells": [
  {
   "cell_type": "markdown",
   "id": "fc0e564b-edd0-4a7f-8cff-15028a1ce716",
   "metadata": {},
   "source": [
    "<div align=\"center\">\n",
    "    <img src='https://media-exp1.licdn.com/dms/image/C561BAQFV4oU27rzxaQ/company-background_10000/0/1562869489836?e=2147483647&v=beta&t=OMHL6Izxqw7r8S5fn9gDQM1hNMKgo3yqMlH1F3Iwm9o' style='height:300px;'>\n",
    "</div>\n",
    "\n",
    "\n",
    "<center><h1 style='font-size:35px'>Notebook title</h1></center>\n",
    "\n",
    "---\n",
    "\n",
    "**Fecha de creación: dd/mm/aaaa**\n",
    "\n",
    "**Autores**:\n",
    "* Marilina Trevisan (marilinatrevisan@gmail.com).\n",
    "* Gustavo Ariel Venchiarutti (gustavo.venchiarutti@gmail.com).\n",
    "* Ani Salama (anisalama@gmail.com).\n",
    "* Anahí Sulca (nanisulca@gmail.com).\n",
    "* Agustín Trulli (agustintrulli@gmail.com).\n",
    "\n",
    "**Grupo: 6**\n",
    "\n",
    "El objetivo del presente notebook es..."
   ]
  },
  {
   "cell_type": "code",
   "execution_count": 1,
   "id": "4ebbe0d0-7428-41ac-9dc8-16e07925fc96",
   "metadata": {},
   "outputs": [],
   "source": [
    "# Initial setup\n",
    "from warnings import simplefilter\n",
    "\n",
    "import pandas as pd\n",
    "import plotly.express as px\n",
    "from ipywidgets import interact_manual\n",
    "\n",
    "pd.set_option('display.max_columns', 50)\n",
    "simplefilter(action='ignore', category=FutureWarning)"
   ]
  },
  {
   "cell_type": "code",
   "execution_count": 2,
   "id": "403e45ec-46d7-46d0-9f4c-9a44e9dbec07",
   "metadata": {
    "execution": {
     "iopub.execute_input": "2022-01-17T20:44:17.218014Z",
     "iopub.status.busy": "2022-01-17T20:44:17.217502Z",
     "iopub.status.idle": "2022-01-17T20:44:17.224145Z",
     "shell.execute_reply": "2022-01-17T20:44:17.222908Z",
     "shell.execute_reply.started": "2022-01-17T20:44:17.217830Z"
    }
   },
   "outputs": [],
   "source": [
    "# Contenido del notebook..."
   ]
  },
  {
   "cell_type": "markdown",
   "id": "46d6bef8-aedb-4224-8d0c-a882de3c1b54",
   "metadata": {},
   "source": [
    "<center><h1 style='font-size:35px'>Preguntas</h1></center>\n",
    "\n",
    "* ¿?\n",
    "* ¿?\n",
    "* ¿?"
   ]
  },
  {
   "cell_type": "markdown",
   "id": "a70a3475-ddbe-4b45-94ad-b3056002222e",
   "metadata": {},
   "source": [
    "<center><h1 style='font-size:35px'>Conclusiones</h1></center>\n",
    "\n",
    "* -\n",
    "* -\n",
    "* -"
   ]
  },
  {
   "cell_type": "markdown",
   "id": "9eec7069-9c40-4945-bde9-d19ef35581e2",
   "metadata": {},
   "source": [
    "<center><h1 style='font-size:35px'>Trabajo futuro</h1></center>\n",
    "\n",
    "* -\n",
    "* -\n",
    "* -"
   ]
  }
 ],
 "metadata": {
  "kernelspec": {
   "display_name": "Python 3",
   "language": "python",
   "name": "python3"
  },
  "language_info": {
   "codemirror_mode": {
    "name": "ipython",
    "version": 3
   },
   "file_extension": ".py",
   "mimetype": "text/x-python",
   "name": "python",
   "nbconvert_exporter": "python",
   "pygments_lexer": "ipython3",
   "version": "3.6.13"
  }
 },
 "nbformat": 4,
 "nbformat_minor": 5
}
