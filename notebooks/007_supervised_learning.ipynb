{
 "cells": [
  {
   "cell_type": "markdown",
   "metadata": {
    "id": "STnCmAvFozOX"
   },
   "source": [
    "# Laboratorio 2: Armado de un esquema de aprendizaje automático\n",
    "\n",
    "En el laboratorio final se espera que puedan poner en práctica los conocimientos adquiridos en el curso, trabajando con un conjunto de datos de clasificación.\n",
    "\n",
    "El objetivo es que se introduzcan en el desarrollo de un esquema para hacer tareas de aprendizaje automático: selección de un modelo, ajuste de hiperparámetros y evaluación.\n",
    "\n",
    "El conjunto de datos a utilizar está en `./data/loan_data.csv`. Si abren el archivo verán que al principio (las líneas que empiezan con `#`) describen el conjunto de datos y sus atributos (incluyendo el atributo de etiqueta o clase).\n",
    "\n",
    "Se espera que hagan uso de las herramientas vistas en el curso. Se espera que hagan uso especialmente de las herramientas brindadas por `scikit-learn`."
   ]
  },
  {
   "cell_type": "code",
   "execution_count": null,
   "metadata": {
    "id": "6OC7pnPZozOb"
   },
   "outputs": [],
   "source": [
    "import os\n",
    "\n",
    "import numpy as np\n",
    "import pandas as pd\n",
    "import matplotlib.pyplot as plt\n",
    "import seaborn as sns\n",
    "import plotly.express as px\n",
    "from sklearn.tree import plot_tree\n",
    "\n",
    "# AGREGAR TODAS LAS LIBRERIAS QUE FALTAN\n",
    "\n",
    "# Para dividir el datase en prueba y test\n",
    "from sklearn.model_selection import train_test_split\n",
    "\n",
    "# Liberias para calcular las metricas\n",
    "from sklearn.metrics import classification_report\n",
    "from sklearn.metrics import accuracy_score, confusion_matrix, precision_score, recall_score, f1_score\n",
    "from sklearn.metrics import confusion_matrix, ConfusionMatrixDisplay\n",
    "\n",
    "# Librerias para ejecutar los metos de prediccion\n",
    "from sklearn.linear_model import SGDClassifier\n",
    "from sklearn.tree import DecisionTreeClassifier\n",
    "from sklearn import tree\n",
    "\n",
    "# Librerias para Analisis y optimizacion de los metors\n",
    "from sklearn.model_selection import GridSearchCV\n",
    "from sklearn.preprocessing import StandardScaler\n",
    "from sklearn.pipeline import Pipeline"
   ]
  },
  {
   "cell_type": "markdown",
   "metadata": {
    "id": "GkYylGA9ozOd"
   },
   "source": [
    "## Carga de datos y división en entrenamiento y evaluación\n",
    "\n",
    "La celda siguiente se encarga de la carga de datos (haciendo uso de pandas). Estos serán los que se trabajarán en el resto del laboratorio."
   ]
  },
  {
   "cell_type": "code",
   "execution_count": null,
   "metadata": {
    "colab": {
     "base_uri": "https://localhost:8080/"
    },
    "id": "PIAmaeLBozOe",
    "outputId": "d734c3c3-ff17-43eb-e496-8fe803ed6138"
   },
   "outputs": [],
   "source": [
    "ROOT_PATH = os.path.dirname(os.getcwd())\n",
    "DATA_PATH = os.path.join(ROOT_PATH, 'data', 'raw')\n",
    "\n",
    "dataset = pd.read_csv(os.path.join(DATA_PATH, 'loan_data.csv'), comment=\"#\")\n",
    "\n",
    "dataset.info()"
   ]
  },
  {
   "cell_type": "code",
   "execution_count": null,
   "metadata": {
    "colab": {
     "base_uri": "https://localhost:8080/",
     "height": 424
    },
    "id": "z5kJ0dlTcpoy",
    "outputId": "46ca9b3d-7dad-4b0f-9221-c19dae4be502"
   },
   "outputs": [],
   "source": [
    "# Dividimos la informacion del dataset en instancias de X para predecir y armar el modelo\n",
    "# para eso: analizamos todas las columnas y vemos que el objetivo esta en la primer columna la 0\n",
    "# por lo tanto tomamos desde la columna 1 todas las restantes :\n",
    "X = dataset.iloc[:, 1:]\n",
    "X"
   ]
  },
  {
   "cell_type": "code",
   "execution_count": null,
   "metadata": {
    "colab": {
     "base_uri": "https://localhost:8080/"
    },
    "id": "zquveIej7rsX",
    "outputId": "ca39a255-011d-4476-aace-cff52c860660"
   },
   "outputs": [],
   "source": [
    "# Una vez armado el dataset de trabajo el nombre de las columnas\n",
    "columnas = X.columns.values\n",
    "columnas"
   ]
  },
  {
   "cell_type": "code",
   "execution_count": null,
   "metadata": {
    "colab": {
     "base_uri": "https://localhost:8080/"
    },
    "id": "h4VI_LyvtEdL",
    "outputId": "43c401e7-632f-4cc8-c14d-ad7db3516a72"
   },
   "outputs": [],
   "source": [
    "# Dividimos la informacion del dataset en etiquetas resultados\n",
    "y = dataset.TARGET\n",
    "y.value_counts()"
   ]
  },
  {
   "cell_type": "code",
   "execution_count": null,
   "metadata": {
    "colab": {
     "base_uri": "https://localhost:8080/"
    },
    "id": "VCwrs4-2tc0g",
    "outputId": "cc101622-b902-48ec-af1a-2925a0a57388"
   },
   "outputs": [],
   "source": [
    "# Cantidad de elementos que forman el data frame de datos y el de resultados \n",
    "X.shape, y.shape"
   ]
  },
  {
   "cell_type": "code",
   "execution_count": null,
   "metadata": {
    "colab": {
     "base_uri": "https://localhost:8080/"
    },
    "id": "9CG8zNCocphe",
    "outputId": "9b28ae03-fa66-4481-e67d-a0e68b43aada"
   },
   "outputs": [],
   "source": [
    "# División entre entrenamiento y test usando la funcion de sklearn\n",
    "X_train, X_test, y_train, y_test = train_test_split(X, y, test_size=0.2, random_state=0)\n",
    "X_train.shape, X_test.shape, y_train.shape, y_test.shape "
   ]
  },
  {
   "cell_type": "markdown",
   "metadata": {
    "id": "out_vPN0ozOe"
   },
   "source": [
    "\n",
    "Documentación:\n",
    "\n",
    "- https://scikit-learn.org/stable/modules/generated/sklearn.model_selection.train_test_split.html"
   ]
  },
  {
   "cell_type": "markdown",
   "metadata": {
    "id": "zKUcmUV5ozOf"
   },
   "source": [
    "## Ejercicio 1: Descripción de los Datos y la Tarea\n",
    "\n",
    "Responder las siguientes preguntas:\n",
    "\n"
   ]
  },
  {
   "cell_type": "markdown",
   "metadata": {
    "id": "duaBCjNROg45"
   },
   "source": [
    "###1.1 ¿De qué se trata el conjunto de datos?\n",
    "\n",
    "El conjunto de datos contiene información de los prestamos con garantia hipotecaria otorgados recientemente. Cuenta con información para 5960 préstamos. La variable objetivo (BAD) es una variable binaria que indica si un solicitante finalmente incumplió el crédito o fue gravemente moroso (valor 1). De acuerdo con la información del dataset, solo un 20% pertenece a esta categoría."
   ]
  },
  {
   "cell_type": "markdown",
   "metadata": {
    "id": "TfAYvPaAkjh1"
   },
   "source": [
    "###1.2. ¿Cuál es la variable objetivo que hay que predecir? ¿Qué significado tiene?\n",
    "\n",
    "La variable objetivo es **TARGET** llamada BAD forma parte del dataset por lo tanto debemos extraerla. \n",
    "BAD es una variable binaria que indica: \n",
    "\n",
    "*   Valor: 1 = El cliente incumple el préstamo.\n",
    "*   Valor: 0 = El cliente pagó el préstamo.\n",
    "\n"
   ]
  },
  {
   "cell_type": "markdown",
   "metadata": {
    "id": "6su-x2T7ksCG"
   },
   "source": [
    "###1.3. ¿Qué información (atributos) hay disponible para hacer la predicción?\n",
    "\n",
    "Los atributos que forman parte del dataset y permiten obtener la columna objetivo son:\n",
    "\n",
    "\n",
    "* **LOAN**    Importe prestamo solicitado\n",
    "* **MORTDUE** Monto adeudado de hipoteca existente\n",
    "* **VALUE**   Valor de la propiedad actual\t\n",
    "* **YOJ**     Años en el trabajo actual\t\n",
    "* **DEROG**   Número de informes despectivos importantes\t\n",
    "* **DELINQ**  Número de líneas de crédito morosas\n",
    "* **CLAGE**   Antigüedad de la línea comercial más antigua en meses\n",
    "* **NINQ**    Número de líneas de crédito recientes\n",
    "* **CLNO**    Número de líneas de crédito\t\n",
    "* **DEBTINC** Relación deuda-ingresos\t"
   ]
  },
  {
   "cell_type": "markdown",
   "metadata": {
    "id": "PxnvlDFeNjge"
   },
   "source": [
    "###1.4. Visualizacion de los atributos que conforman el data set de analisis"
   ]
  },
  {
   "cell_type": "code",
   "execution_count": null,
   "metadata": {
    "colab": {
     "base_uri": "https://localhost:8080/",
     "height": 542
    },
    "id": "euT76LzruoSu",
    "outputId": "7ed5443a-9243-48e8-a202-7acc32543cd4"
   },
   "outputs": [],
   "source": [
    "fig = px.violin(dataset, x='TARGET', y='LOAN', color='TARGET', box=True)\n",
    "fig.update_layout(\n",
    "    title='Distribución de Deudores con respecto al Importe Prestamo Solicitado',\n",
    "    xaxis_title='Tipos de Morosos',\n",
    "    yaxis_title='Importe Prestamo Solicitado')\n",
    "fig.show()"
   ]
  },
  {
   "cell_type": "code",
   "execution_count": null,
   "metadata": {
    "colab": {
     "base_uri": "https://localhost:8080/",
     "height": 1000
    },
    "id": "r1V5D0IAfUPJ",
    "outputId": "d5fcd30a-fe8a-4ef6-c332-015f57b91fff"
   },
   "outputs": [],
   "source": [
    "\n",
    "fig = px.violin(dataset, x='TARGET', y='MORTDUE', color='TARGET', box=True)\n",
    "fig.show()\n",
    "fig = px.violin(dataset, x='TARGET', y='VALUE', color='TARGET', box=True)\n",
    "fig.show()\n",
    "fig = px.violin(dataset, x='TARGET', y='YOJ', color='TARGET', box=True)\n",
    "fig.show()\n",
    "fig = px.violin(dataset, x='TARGET', y='DEROG', color='TARGET', box=True)\n",
    "fig.show()\n",
    "fig = px.violin(dataset, x='TARGET', y='DELINQ', color='TARGET', box=True)\n",
    "fig.show()\n",
    "fig = px.violin(dataset, x='TARGET', y='CLAGE', color='TARGET', box=True)\n",
    "fig.show()\n",
    "fig = px.violin(dataset, x='TARGET', y='NINQ', color='TARGET', box=True)\n",
    "fig.show()\n",
    "fig = px.violin(dataset, x='TARGET', y='CLNO', color='TARGET', box=True)\n",
    "fig.show()\n",
    "fig = px.violin(dataset, x='TARGET', y='DEBTINC', color='TARGET', box=True)\n",
    "fig.show()"
   ]
  },
  {
   "cell_type": "code",
   "execution_count": null,
   "metadata": {
    "colab": {
     "base_uri": "https://localhost:8080/",
     "height": 1000
    },
    "id": "Mwb1KkJ0sJsP",
    "outputId": "93e800e4-d2ec-48a4-b41e-45d557c48aea"
   },
   "outputs": [],
   "source": [
    "feature = np.array(['LOAN','MORTDUE', 'VALUE', 'YOJ', 'DEROG', 'DELINQ', 'CLAGE', 'NINQ', 'CLNO', 'DEBTINC'])\n",
    "#colores = ['blue', 'green', 'red', 'cyan', 'magenta', 'yellow', 'black', 'olive', 'orange', 'steelblue']\n",
    "\n",
    "fig, axs = plt.subplots(5, 2, figsize=(20, 20))\n",
    "axs = axs.ravel()\n",
    "for i in range(len(feature)):\n",
    "    selector = feature[i]\n",
    "    sns.distplot(dataset[selector] , color=\"darkblue\", ax=axs[i])\n",
    "    #sns.distplot(dataset[selector] , color=colores[i], ax=axs[i])\n",
    "    axs[i].set_xlabel(f'Columna {selector}')\n",
    "fig.tight_layout()\n",
    "plt.show()"
   ]
  },
  {
   "cell_type": "code",
   "execution_count": null,
   "metadata": {
    "colab": {
     "base_uri": "https://localhost:8080/",
     "height": 1000
    },
    "id": "kSn2ZPBF8QJQ",
    "outputId": "42ae9bd3-dc1e-4470-ea08-e76dddd36586"
   },
   "outputs": [],
   "source": [
    "feature = np.array(['LOAN','MORTDUE', 'VALUE', 'YOJ', 'DEROG', 'DELINQ', 'CLAGE', 'NINQ', 'CLNO', 'DEBTINC'])\n",
    "#colores = ['blue', 'green', 'red', 'cyan', 'magenta', 'yellow', 'black', 'olive', 'orange', 'steelblue']\n",
    "\n",
    "fig, axs = plt.subplots(5, 2, figsize=(20, 20))\n",
    "axs = axs.ravel()\n",
    "for i in range(len(feature)):\n",
    "    selector = feature[i]\n",
    "    sns.boxplot(x = dataset['TARGET'], y =dataset[selector], data=dataset, color=\"darkblue\", ax=axs[i])\n",
    "    #sns.boxplot(x = dataset['TARGET'], y =dataset[selector], data=dataset, color=colores[i], ax=axs[i])\n",
    "    axs[i].set_xlabel('Tipos de Morosos')\n",
    "    axs[i].set_ylabel(f'Columna {selector}')\n",
    "fig.tight_layout()\n",
    "plt.show()"
   ]
  },
  {
   "cell_type": "code",
   "execution_count": null,
   "metadata": {
    "colab": {
     "base_uri": "https://localhost:8080/",
     "height": 626
    },
    "id": "df7OnT0H1KKV",
    "outputId": "5b2c6541-3a2b-4b11-96a7-b72b5b2a1f03"
   },
   "outputs": [],
   "source": [
    "# Realizamos un HEATMAP para verificar la correlacion entre las variable, por eso \n",
    "# uso la funcion .corr()\n",
    "plt.figure (figsize=(16,10))\n",
    "sns.heatmap( dataset[dataset.columns].corr(), annot=True, fmt='.2g')\n",
    "plt.title('Correlation entre Variables', fontsize=14)"
   ]
  },
  {
   "cell_type": "markdown",
   "metadata": {
    "id": "M5kqm--Zkskh"
   },
   "source": [
    "###1.5. ¿Qué atributos imagina ud. que son los más determinantes para la predicción?\n",
    "\n",
    "Analizando el mapa de calor de las variables se puede ver que los niveles de correlación entre las variables son bajos, salvo los casos de las variables VALUE con MORTDUE y LOAN. Por lo tanto los atributos disponibles que se estima que pueden ser mas determinantes para la predicción, son:\n",
    "\n",
    "DEROG - número de informes despectivos importantes\n",
    "\n",
    "DELINQ - número de líneas de crédito morosas\n",
    "\n",
    "CLAGE - Antigüedad de la línea comercial más antigua en meses\n",
    "\n",
    "NINQ - Número de líneas de crédito recientes\n",
    "\n",
    "DEBTINC - Relación deuda-ingresos"
   ]
  },
  {
   "cell_type": "markdown",
   "metadata": {
    "id": "-OzwRDsrozOf"
   },
   "source": [
    "## Ejercicio 2: Predicción con Modelos Lineales\n",
    "\n",
    "En este ejercicio se entrenarán modelos lineales de clasificación para predecir la variable objetivo.\n",
    "\n",
    "Para ello, deberán utilizar la clase SGDClassifier de scikit-learn.\n",
    "\n",
    "Documentación:\n",
    "- https://scikit-learn.org/stable/modules/sgd.html\n",
    "- https://scikit-learn.org/stable/modules/generated/sklearn.linear_model.SGDClassifier.html\n"
   ]
  },
  {
   "cell_type": "markdown",
   "metadata": {
    "id": "4mSk6MvWozOg"
   },
   "source": [
    "### Ejercicio 2.1: SGDClassifier con hiperparámetros por defecto\n",
    "\n",
    "Entrenar y evaluar el clasificador SGDClassifier usando los valores por omisión de scikit-learn para todos los parámetros. Únicamente **fijar la semilla aleatoria** para hacer repetible el experimento.\n",
    "\n",
    "Evaluar sobre el conjunto de **entrenamiento** y sobre el conjunto de **evaluación**, reportando:\n",
    "- Accuracy\n",
    "- Precision\n",
    "- Recall\n",
    "- F1\n",
    "- matriz de confusión"
   ]
  },
  {
   "cell_type": "markdown",
   "metadata": {
    "id": "K-CybLDAT9Ji"
   },
   "source": [
    "#### 2.1.1 Definicion y Entrenamiento del modelo *ESTANDAR* u *OPTIMIZADO*"
   ]
  },
  {
   "cell_type": "code",
   "execution_count": null,
   "metadata": {
    "colab": {
     "base_uri": "https://localhost:8080/"
    },
    "id": "3wfOP4SE2hPT",
    "outputId": "407e89a5-47f6-48d5-82ab-ff241241df9a"
   },
   "outputs": [],
   "source": [
    "# Utilizamos la función de sklearn para generar el modelo de SGDClasifier en la \n",
    "# variable model_class_std con una semilla de 99. \n",
    "\n",
    "\n",
    "# SELECCIONAR SI DESEAMOS GENERAR UN MODELO ESTANDAR U OPTIMIZADO\n",
    "\n",
    "model_class_std = Pipeline([('standardscaler', StandardScaler()), ('model',SGDClassifier(random_state=42))])\n",
    "\n",
    "#model_class_std = SGDClassifier(random_state=99)\n",
    "\n",
    "# Realizo el entrenamiento de la variable con la funcion fit y le pasamos los datos de entrenamiento\n",
    "model_class_std.fit(X_train, y_train)"
   ]
  },
  {
   "cell_type": "markdown",
   "metadata": {
    "id": "fAke-JgNRH_P"
   },
   "source": [
    "####2.1.2 Evaluacion sobre conjunto de TRAINING"
   ]
  },
  {
   "cell_type": "code",
   "execution_count": null,
   "metadata": {
    "id": "REjwEtOeR9Z-"
   },
   "outputs": [],
   "source": [
    "# Usamos la funcion predict y le pasamos los dato de train a nuestro modelo para que genere una salida\n",
    "y_pred_train = model_class_std.predict(X_train)"
   ]
  },
  {
   "cell_type": "markdown",
   "metadata": {
    "id": "gaUXSEs72xp-"
   },
   "source": [
    "Calculamos las metricas solicitadas donde comparamos las y_train con las y_pred que son las salidas de nuestro modelo\n"
   ]
  },
  {
   "cell_type": "code",
   "execution_count": null,
   "metadata": {
    "colab": {
     "base_uri": "https://localhost:8080/"
    },
    "id": "vS9utRm-2o4E",
    "outputId": "24dea6e3-f4f3-4600-980a-adfad576d420"
   },
   "outputs": [],
   "source": [
    "# Devuelve con que % de precisión nuestro modelo se acerca al y_test que se tomó del dataset original \n",
    "# En este caso el % es alto pero caso contrario tenemos que modificar los parametros de entrenamiento\n",
    "# de la funcion fit. Si así mismo no llegamos a un buen valor de accurancy tenemos que revisar los \n",
    "# datos del modelo que tenemos, verificar los posibles errores, agregar más registros del dataset etc\n",
    "accuracy_s = accuracy_score(y_train, y_pred_train)\n",
    "print(\"El valor de Accuracy Score : \", accuracy_s)\n",
    "\n",
    "# La lectura de esta matriz debe particularmente ser interprestada como las predicciones en la diagonal izquierda\n",
    "confusion_m = confusion_matrix(y_train, y_pred_train)\n",
    "print(\"La Matriz de Confusión : \\n\", confusion_m)"
   ]
  },
  {
   "cell_type": "code",
   "execution_count": null,
   "metadata": {
    "colab": {
     "base_uri": "https://localhost:8080/",
     "height": 296
    },
    "id": "Y1VUXtWBMIKs",
    "outputId": "6f87fde5-d42b-4f95-b22a-6278e9f3e2a4"
   },
   "outputs": [],
   "source": [
    "display = ConfusionMatrixDisplay(confusion_matrix=confusion_m)\n",
    "display.plot() "
   ]
  },
  {
   "cell_type": "code",
   "execution_count": null,
   "metadata": {
    "colab": {
     "base_uri": "https://localhost:8080/"
    },
    "id": "pIdTA4lx29rQ",
    "outputId": "d10e876c-189e-4150-ba64-ce68e7924ce7"
   },
   "outputs": [],
   "source": [
    "# Esta métrica hace un análisis de la precisión del método propiamente dicho considerando las predicciones\n",
    "# sobre el total de los datos evaluados en TRAIN. Para esta métrica, considerando los datos de la matriz\n",
    "# de confusión que se interpreta por sus diagonales. La diagonal son los valores clasificados correctamente, y la antidiagonal son los valores clasificados incorrectamente. \n",
    "# todo el dataset analizado, vemos que el modelo para un total 1483 registros:\n",
    "\n",
    "\n",
    "precision_s = precision_score(y_train, y_pred_train, average= None)\n",
    "print(\"El valor de Precision Score : \", precision_s)"
   ]
  },
  {
   "cell_type": "markdown",
   "metadata": {
    "id": "innkhV4nXIU2"
   },
   "source": [
    "Con la métrica de precisión se hace un análisis por columna. Lo que nos dicen los datos es:\n",
    "\n",
    "*El 86% de los datos etiquetados como cero son ceros correctamente clasificados, mientras que el 14% de los datos etiquetados como cero son unos incorrectamente clasificados como cero.\n",
    "\n",
    "*El 47% de los datos etiquetados como uno son unos correctamente clasificados, mientras que el 53% de los datos etiquetados como uno son ceros incorrectamente clasificados como unos.  "
   ]
  },
  {
   "cell_type": "code",
   "execution_count": null,
   "metadata": {
    "colab": {
     "base_uri": "https://localhost:8080/"
    },
    "id": "uMVYZJVv299z",
    "outputId": "bfc10267-d406-40ba-e89d-1d8270125ab9"
   },
   "outputs": [],
   "source": [
    "# Esta métrica hace un análisis del metodo con respoecto a la categoría y el total\n",
    "# de datos evaluados en esa categoría. Para esta métrica, en este caso de TRAIN y considerando los \n",
    "# datos de la matriz de confusión que se interpreta por sus diagonales, realizamos un analisis horizontal, \n",
    "# es decir por CATEGORIA.\n",
    " \n",
    "recall_s = recall_score(y_train, y_pred_train, average= None) \n",
    "print(\"El valor de Recall Score : \", recall_s)"
   ]
  },
  {
   "cell_type": "markdown",
   "metadata": {
    "id": "ILVCe6gDYnkK"
   },
   "source": [
    "Con la métrica de recall se hace un análisis por fila. Lo que nos dicen los datos es:\n",
    "\n",
    "*El 93% de los datos con valor cero, han sido correctamente clasificados como cero, mientras que el 7% de los datos con valor cero han sido incorrectamente clasificados como uno.\n",
    "\n",
    "**El 28% de los datos con valor uno, han sido correctamente clasificados como unos, mientras que el 72% de los datos con valor uno han sido incorrectamente clasificados como ceros."
   ]
  },
  {
   "cell_type": "code",
   "execution_count": null,
   "metadata": {
    "colab": {
     "base_uri": "https://localhost:8080/"
    },
    "id": "X8K-Hmei29fL",
    "outputId": "c40852d1-c49a-4742-cd69-be975561287d"
   },
   "outputs": [],
   "source": [
    "# Es un promedio quee se calcula con respecto a las metricas de recall_score y presicion_score\n",
    "# (recall_s+precision_s)/2\n",
    "f1_s = f1_score(y_train, y_pred_train, average= None)\n",
    "print(\"El valor de F1 Score : \", f1_s)"
   ]
  },
  {
   "cell_type": "code",
   "execution_count": null,
   "metadata": {
    "colab": {
     "base_uri": "https://localhost:8080/"
    },
    "id": "8325LLx3R9fC",
    "outputId": "d18139d0-d51f-4f08-9d4c-1b732131c028"
   },
   "outputs": [],
   "source": [
    "# Con este reporte podemos ver todos los parametros que analizamos antes y se arma la matriz de clasificación\n",
    "print(classification_report(y_train, y_pred_train))"
   ]
  },
  {
   "cell_type": "markdown",
   "metadata": {
    "id": "t7H-zphxRVkt"
   },
   "source": [
    "####2.1.3 Evaluacion sobre el conjunto de TEST"
   ]
  },
  {
   "cell_type": "code",
   "execution_count": null,
   "metadata": {
    "id": "9Ts0zFhVOnQo"
   },
   "outputs": [],
   "source": [
    "# Usamos la funcion predict y le pasamos los dato de test a nuestro modelo para que genere una salida\n",
    "y_pred_test = model_class_std.predict(X_test)"
   ]
  },
  {
   "cell_type": "markdown",
   "metadata": {
    "id": "T6NalQvLJFn8"
   },
   "source": [
    "Calculamos las métricas solicitadas donde comparamos las y_test con las y_pred que son las salidas de nuestro modelo\n"
   ]
  },
  {
   "cell_type": "code",
   "execution_count": null,
   "metadata": {
    "colab": {
     "base_uri": "https://localhost:8080/"
    },
    "id": "_JLOzePrHkVi",
    "outputId": "4a3dd307-5446-41d3-e6aa-de4c1e475a8e"
   },
   "outputs": [],
   "source": [
    "# Devuelve con que % de precisión nuestro modelo se acerca al y_test que se tomó del dataset original \n",
    "# En este caso el % es alto pero caso contrario tenemos que modificar los parametros de entrenamiento\n",
    "# de la funcion fit. Si asi mismo no llegamos a un buen valor de accurancy tenemos que revisar los \n",
    "# datos del modelo que tenemos, verificar los posibles errores, agregar mas registros del data set, etc\n",
    "accuracy_s = accuracy_score(y_test, y_pred_test)\n",
    "print(\"El valor de Accuracy Score : \", accuracy_s)"
   ]
  },
  {
   "cell_type": "code",
   "execution_count": null,
   "metadata": {
    "colab": {
     "base_uri": "https://localhost:8080/"
    },
    "id": "Z8rr4nW5HkFQ",
    "outputId": "976c12c2-58b1-424f-b12d-79310ef1290a"
   },
   "outputs": [],
   "source": [
    "# La lectura de esta matriz debe particularmente ser interprestada como las predicciones en la diagonal izquierda\n",
    "# osea el modelo:\n",
    "\n",
    "confusion_m = confusion_matrix(y_test, y_pred_test)\n",
    "print(\"La Matriz de Confusión : \\n\", confusion_m)"
   ]
  },
  {
   "cell_type": "code",
   "execution_count": null,
   "metadata": {
    "colab": {
     "base_uri": "https://localhost:8080/",
     "height": 296
    },
    "id": "PVhTIH3GMftl",
    "outputId": "a65ceacb-e056-40a1-a897-9fcea56d018b"
   },
   "outputs": [],
   "source": [
    "display = ConfusionMatrixDisplay(confusion_matrix=confusion_m)\n",
    "display.plot() "
   ]
  },
  {
   "cell_type": "code",
   "execution_count": null,
   "metadata": {
    "colab": {
     "base_uri": "https://localhost:8080/"
    },
    "id": "TF-oNKkxHjy5",
    "outputId": "ccdd2ad3-6025-4550-fd60-09e071cac39e"
   },
   "outputs": [],
   "source": [
    "#Estos datos se interpretan igual que para los datos de train\n",
    "precision_s = precision_score(y_test, y_pred_test, average= None)\n",
    "print(\"El valor de Precision Score : \", precision_s)"
   ]
  },
  {
   "cell_type": "code",
   "execution_count": null,
   "metadata": {
    "colab": {
     "base_uri": "https://localhost:8080/"
    },
    "id": "qxBRZk-THj8P",
    "outputId": "25b59e0f-8103-44dc-8a0d-57d9799c6cc3"
   },
   "outputs": [],
   "source": [
    "#Estos datos se interpretan igual que para los datos de train\n",
    "recall_s = recall_score(y_test, y_pred_test, average= None) \n",
    "print(\"El valor de Recall Score : \", recall_s)"
   ]
  },
  {
   "cell_type": "code",
   "execution_count": null,
   "metadata": {
    "colab": {
     "base_uri": "https://localhost:8080/"
    },
    "id": "OQ5vkuybLfrP",
    "outputId": "84d90ae8-a7dc-4ff3-b3be-0e8835fc55f1"
   },
   "outputs": [],
   "source": [
    "# Es un promedio quee se calcula con respecto a las metricas de recall_score y presicion_score\n",
    "# (recall_s+precision_s)/2\n",
    "f1_s = f1_score(y_test, y_pred_test, average= None)\n",
    "print(\"El valor de F1 Score : \", f1_s)\n"
   ]
  },
  {
   "cell_type": "code",
   "execution_count": null,
   "metadata": {
    "colab": {
     "base_uri": "https://localhost:8080/"
    },
    "id": "ScwuJiAeQiPj",
    "outputId": "1cc21b53-1b47-4c7a-83ee-a90e49a8e1ed"
   },
   "outputs": [],
   "source": [
    "# Con este reporte podemos ver todos los parametros que analizamos antes y se arma la matriz de clasificación\n",
    "print(classification_report(y_test, y_pred_test))"
   ]
  },
  {
   "cell_type": "markdown",
   "metadata": {
    "id": "bhEo7_2HagYu"
   },
   "source": [
    "Vemos que al calcular las métricas para los datos de test, los valores son similares a las métricas obtenidas con los datos de train, por lo cual podemos descartar un problema grave de overfitting en el modelo. "
   ]
  },
  {
   "cell_type": "markdown",
   "metadata": {
    "id": "jc8WZAFFozOh"
   },
   "source": [
    "### Ejercicio 2.2: Ajuste de Hiperparámetros\n",
    "\n",
    "Seleccionar valores para los hiperparámetros principales del SGDClassifier. Como mínimo, probar diferentes funciones de loss, tasas de entrenamiento y tasas de regularización.\n",
    "\n",
    "Para ello, usar grid-search y 5-fold cross-validation sobre el conjunto de entrenamiento para explorar muchas combinaciones posibles de valores.\n",
    "\n",
    "Reportar accuracy promedio y varianza para todas las configuraciones.\n",
    "\n",
    "Para la mejor configuración encontrada, evaluar sobre el conjunto de **entrenamiento** y sobre el conjunto de **evaluación**, reportando:\n",
    "- Accuracy\n",
    "- Precision\n",
    "- Recall\n",
    "- F1\n",
    "- matriz de confusión\n",
    "\n",
    "Documentación:\n",
    "- https://scikit-learn.org/stable/modules/grid_search.html\n",
    "- https://scikit-learn.org/stable/modules/generated/sklearn.model_selection.GridSearchCV.html"
   ]
  },
  {
   "cell_type": "markdown",
   "metadata": {
    "id": "IU-qwSrwTwph"
   },
   "source": [
    "#### 2.2.1 Determinar los Hiperparametros del Mejor Modelo +ESTANDAR*"
   ]
  },
  {
   "cell_type": "code",
   "execution_count": null,
   "metadata": {
    "colab": {
     "base_uri": "https://localhost:8080/"
    },
    "id": "duAB68dfTu8C",
    "outputId": "599defb1-e5f8-4da8-a30e-92e25b2dbaa8"
   },
   "outputs": [],
   "source": [
    "# Utilizamos la función de sklearn para generar el modelo de análisis con SGDClasifier en la \n",
    "# variable model_class simplemente para definir los mejores parametros ya tomo una semilla de 99\n",
    "model_class = SGDClassifier(random_state=99, eta0=0.0001)\n",
    "\n",
    "#Observamos los hiperparametros que podemos modificar del modelos para ajustarlo mejor\n",
    "model_class.get_params()"
   ]
  },
  {
   "cell_type": "code",
   "execution_count": null,
   "metadata": {
    "colab": {
     "base_uri": "https://localhost:8080/"
    },
    "id": "qUzWUUiDWMMu",
    "outputId": "98503d8a-15b7-42a6-909b-d92ab4b05925"
   },
   "outputs": [],
   "source": [
    "# Obtenemos las opciones del hiperparametro de  'loss funtions' posibles para considerar\n",
    "model_class.loss_functions"
   ]
  },
  {
   "cell_type": "code",
   "execution_count": null,
   "metadata": {
    "colab": {
     "base_uri": "https://localhost:8080/"
    },
    "id": "OpYm_DBfWMF_",
    "outputId": "ec2b14ff-eb5a-44ee-97bd-d7094e1de060"
   },
   "outputs": [],
   "source": [
    "# Armamos una matriz de vectores donde colocamos las alternativas para cada parámetro\n",
    "# que vamos a considerar. Estos son 'loss', 'learning_rate', 'alpha', 'penalty'\n",
    "parametros = {\n",
    "    'random_state':[99, 44, 25],\n",
    "    'max_iter':[3000, 1200, 2500, 1000 ],\n",
    "    'loss': ['hinge', 'log', 'squared_loss', 'squared_hinge'],\n",
    "    'learning_rate':['constant', 'optimal','adaptive'],\n",
    "    'alpha':[0.01, 0.05, 0.5, 0.001, 0.6, 0.1, 1.0],\n",
    "    'penalty':['l2', 'l1', 'elasticnet']\n",
    "    }\n",
    "parametros"
   ]
  },
  {
   "cell_type": "code",
   "execution_count": null,
   "metadata": {
    "colab": {
     "base_uri": "https://localhost:8080/"
    },
    "id": "wfySw8EMfd-E",
    "outputId": "3638c2d2-ca1b-4005-ac39-22d13cc19745",
    "scrolled": true
   },
   "outputs": [],
   "source": [
    "# Realizamos el análisis del modelo considerando las opciones definidas como posibles \n",
    "# configuraciones en el diccionario 'parametros'\n",
    "cv_class = GridSearchCV(model_class, parametros, scoring ='accuracy', refit=True, cv=5)\n",
    "\n",
    "# Entrenamos el modelo que calcula los mejores parámetros. Podemos usar la version standard de la \n",
    "# definicion de parámetros o los parametros para la versión optimizada\n",
    "cv_class.fit(X_train, y_train);"
   ]
  },
  {
   "cell_type": "code",
   "execution_count": null,
   "metadata": {
    "colab": {
     "base_uri": "https://localhost:8080/",
     "height": 562
    },
    "id": "IGbymK8CWL2B",
    "outputId": "741045a2-cdcb-4be6-d545-85032d1cfe1c"
   },
   "outputs": [],
   "source": [
    "# Realizado el análisis de todas las posibles alternativas de prarámetros con la Clase GridSearchCV\n",
    "# obtenemos los resultados y los insertamos en un dataframe para su visualización, tomo por orden de mejor a\n",
    "# peor. Listamos los 6 primeros resultados:\n",
    "resultados = cv_class.cv_results_\n",
    "df_resultados = pd.DataFrame(resultados)\n",
    "df_resultados.sort_values('rank_test_score')[:6]"
   ]
  },
  {
   "cell_type": "code",
   "execution_count": null,
   "metadata": {
    "colab": {
     "base_uri": "https://localhost:8080/"
    },
    "id": "Ea8IQ0aRWJ4x",
    "outputId": "d28b5328-1b35-4e61-af0a-88d26cb55987"
   },
   "outputs": [],
   "source": [
    "# Con estos métodos de la Clase GridSearchCV se obtienen los parámetros para \n",
    "# determinar la función que mejor realiza la predicción\n",
    "cv_class.best_estimator_"
   ]
  },
  {
   "cell_type": "code",
   "execution_count": null,
   "metadata": {},
   "outputs": [],
   "source": [
    "cv_class.best_params_"
   ]
  },
  {
   "cell_type": "markdown",
   "metadata": {
    "id": "HT4XUb7QY0r0"
   },
   "source": [
    "##### 2.2.1.1 Definicion y Entrenemiento del Mejor Modelo "
   ]
  },
  {
   "cell_type": "code",
   "execution_count": null,
   "metadata": {
    "id": "YMvF4hnHY_pZ"
   },
   "outputs": [],
   "source": [
    "# Mejor modelo SIN la optimizacion\n",
    "best_model_class = SGDClassifier(alpha=0.1, learning_rate='adaptive', loss='hinge', \n",
    "                                 eta0=0.0001, max_iter=3000,  penalty='l1', random_state=99)\n"
   ]
  },
  {
   "cell_type": "code",
   "execution_count": null,
   "metadata": {
    "colab": {
     "base_uri": "https://localhost:8080/"
    },
    "id": "kjEZ-sUKTuvP",
    "outputId": "0c64ba19-e784-4fad-8fd5-621fe10c17dd"
   },
   "outputs": [],
   "source": [
    "# Realizamos el entrenamiento del modelo con la funcion fit y le pasamos los datos de entrenamiento\n",
    "best_model_class.fit(X_train, y_train)"
   ]
  },
  {
   "cell_type": "markdown",
   "metadata": {
    "id": "OGTxx7kDYW-p"
   },
   "source": [
    "##### 2.2.1.2 Evaluacion sobre conjunto de TRAINING"
   ]
  },
  {
   "cell_type": "code",
   "execution_count": null,
   "metadata": {
    "id": "kobSENb2Xz5y"
   },
   "outputs": [],
   "source": [
    "# Usamos la función predict y le pasamos los dato de test a nuestro modelo para que genere una salida\n",
    "y_pred_train = best_model_class.predict(X_train)"
   ]
  },
  {
   "cell_type": "markdown",
   "metadata": {
    "id": "iY8Y-NgUR2BK"
   },
   "source": [
    "Calculamos las métricas solicitadas donde comparamos las y_train con las y_pred que son las salidas de nuestro modelo"
   ]
  },
  {
   "cell_type": "code",
   "execution_count": null,
   "metadata": {
    "colab": {
     "base_uri": "https://localhost:8080/"
    },
    "id": "plVGk52_Rv-X",
    "outputId": "be96f68b-6d7d-46d2-9198-dd19788085b0"
   },
   "outputs": [],
   "source": [
    "\n",
    "accuracy_s = accuracy_score(y_train, y_pred_train)\n",
    "print(\"El valor de Accuracy Score : \", accuracy_s)"
   ]
  },
  {
   "cell_type": "code",
   "execution_count": null,
   "metadata": {
    "colab": {
     "base_uri": "https://localhost:8080/"
    },
    "id": "j0jvfQbFRRJB",
    "outputId": "6427d4ec-95f0-491e-ab37-04451d633f86"
   },
   "outputs": [],
   "source": [
    "\n",
    "confusion_m = confusion_matrix(y_train, y_pred_train)\n",
    "print(\"La Matriz de Confusión : \\n\", confusion_m)"
   ]
  },
  {
   "cell_type": "code",
   "execution_count": null,
   "metadata": {
    "colab": {
     "base_uri": "https://localhost:8080/",
     "height": 296
    },
    "id": "EsrcsUgwRQ_X",
    "outputId": "e6552103-167c-43c8-ec6f-80664b725b92"
   },
   "outputs": [],
   "source": [
    "display = ConfusionMatrixDisplay(confusion_matrix=confusion_m)\n",
    "display.plot() "
   ]
  },
  {
   "cell_type": "code",
   "execution_count": null,
   "metadata": {
    "colab": {
     "base_uri": "https://localhost:8080/"
    },
    "id": "F83lS8svRQwA",
    "outputId": "9603f3f5-7b6b-4572-d8ea-a88b2d8058c1"
   },
   "outputs": [],
   "source": [
    "\n",
    "precision_s = precision_score(y_train, y_pred_train, average= None)\n",
    "print(\"El valor de Precision Score : \", precision_s)"
   ]
  },
  {
   "cell_type": "code",
   "execution_count": null,
   "metadata": {
    "colab": {
     "base_uri": "https://localhost:8080/"
    },
    "id": "nyGL739ERQ3E",
    "outputId": "ea2acbf5-1468-4ad6-ef9c-84607a70d275"
   },
   "outputs": [],
   "source": [
    "\n",
    "recall_s = recall_score(y_train, y_pred_train, average= None) \n",
    "print(\"El valor de Recall Score : \", recall_s)"
   ]
  },
  {
   "cell_type": "code",
   "execution_count": null,
   "metadata": {
    "colab": {
     "base_uri": "https://localhost:8080/"
    },
    "id": "HlP0GaKsXz0J",
    "outputId": "56e31c50-41a2-476a-88bd-df156900ed05"
   },
   "outputs": [],
   "source": [
    "# Es un promedio quee se calcula con respecto a las metricas de recall_score y presicion_score\n",
    "# (recall_s+precision_s)/2\n",
    "f1_s = f1_score(y_train, y_pred_train, average= None)\n",
    "print(\"El valor de F1 Score : \", f1_s)"
   ]
  },
  {
   "cell_type": "code",
   "execution_count": null,
   "metadata": {
    "colab": {
     "base_uri": "https://localhost:8080/"
    },
    "id": "oY6RxOn-Xzup",
    "outputId": "31746bdd-a715-486a-f818-317b5e87d32d"
   },
   "outputs": [],
   "source": [
    "# Con este reporte podemos ver todos los parametros que analiaamos antes y se arma la matriz de clasificación\n",
    "print(classification_report(y_train, y_pred_train))"
   ]
  },
  {
   "cell_type": "markdown",
   "metadata": {
    "id": "KroV2MjvYhT1"
   },
   "source": [
    "##### 2.2.1.3 Evaluacion sobre conjunto de TEST"
   ]
  },
  {
   "cell_type": "code",
   "execution_count": null,
   "metadata": {
    "id": "kt8oVQBVXzpK"
   },
   "outputs": [],
   "source": [
    "# Usamos la funcion predict y le pasamos los datos de test a nuestro modelo para que genere una salida\n",
    "y_pred_test = best_model_class.predict(X_test)"
   ]
  },
  {
   "cell_type": "markdown",
   "metadata": {
    "id": "n2prq8vxVfgR"
   },
   "source": [
    "Calculamos las métricas solicitadas donde comparamos las y_test con las y_pred que son las salidas de nuestro modelo"
   ]
  },
  {
   "cell_type": "code",
   "execution_count": null,
   "metadata": {
    "colab": {
     "base_uri": "https://localhost:8080/"
    },
    "id": "DE2X1Z1DVjuM",
    "outputId": "295cd61f-7de0-4cfb-fd67-81b9258b2537"
   },
   "outputs": [],
   "source": [
    "\n",
    "accuracy_s = accuracy_score(y_test, y_pred_test)\n",
    "print(\"El valor de Accuracy Score : \", accuracy_s)"
   ]
  },
  {
   "cell_type": "code",
   "execution_count": null,
   "metadata": {
    "colab": {
     "base_uri": "https://localhost:8080/"
    },
    "id": "oWKgwFUkVjc-",
    "outputId": "434ff9e5-cbfd-47aa-c8ec-65d06fd8617f"
   },
   "outputs": [],
   "source": [
    "\n",
    "confusion_m = confusion_matrix(y_test, y_pred_test)\n",
    "print(\"La Matriz de Confusión : \\n\", confusion_m)"
   ]
  },
  {
   "cell_type": "code",
   "execution_count": null,
   "metadata": {
    "colab": {
     "base_uri": "https://localhost:8080/",
     "height": 296
    },
    "id": "Ez6PUVoWVjW-",
    "outputId": "d227ff03-baff-4a34-8d29-92fec4fbff3d"
   },
   "outputs": [],
   "source": [
    "display = ConfusionMatrixDisplay(confusion_matrix=confusion_m)\n",
    "display.plot() "
   ]
  },
  {
   "cell_type": "code",
   "execution_count": null,
   "metadata": {
    "colab": {
     "base_uri": "https://localhost:8080/"
    },
    "id": "zpH0FqPVVjK0",
    "outputId": "58669b69-ccb2-4092-8a48-c0f8acc3b948"
   },
   "outputs": [],
   "source": [
    "\n",
    "precision_s = precision_score(y_test, y_pred_test, average= None)\n",
    "print(\"El valor de Precision Score : \", precision_s)"
   ]
  },
  {
   "cell_type": "code",
   "execution_count": null,
   "metadata": {
    "colab": {
     "base_uri": "https://localhost:8080/"
    },
    "id": "91QT4R2VVjRe",
    "outputId": "33ec6967-9d03-42eb-a02f-b05ff59544a6"
   },
   "outputs": [],
   "source": [
    "\n",
    "recall_s = recall_score(y_test, y_pred_test, average= None) \n",
    "print(\"El valor de Recall Score : \", recall_s)"
   ]
  },
  {
   "cell_type": "code",
   "execution_count": null,
   "metadata": {
    "colab": {
     "base_uri": "https://localhost:8080/"
    },
    "id": "un9guV64Tupo",
    "outputId": "be07ace6-5873-40c6-9dff-ae969da39d26"
   },
   "outputs": [],
   "source": [
    "# Es un promedio quee se calcula con respecto a las metricas de recall_score y presicion_score\n",
    "# (recall_s+precision_s)/2\n",
    "f1_s = f1_score(y_test, y_pred_test, average= None)\n",
    "print(\"El valor de F1 Score : \", f1_s)"
   ]
  },
  {
   "cell_type": "code",
   "execution_count": null,
   "metadata": {
    "colab": {
     "base_uri": "https://localhost:8080/"
    },
    "id": "Ide3MycVTujS",
    "outputId": "486ebc12-9dac-4ea4-b675-8420524523a7"
   },
   "outputs": [],
   "source": [
    "# Con este reporte podemos ver todos los parametros que analizamos antes y se arma la matriz de clasificación\n",
    "print(classification_report(y_test, y_pred_test))"
   ]
  },
  {
   "cell_type": "markdown",
   "metadata": {
    "id": "4wfwCayfcnwv"
   },
   "source": [
    "Como conclusión podemos ver que no hay problemas de overfitting, pero el modelo no es bueno clasificando los valores uno de la variable target (tiene baja precision y bajo recall)."
   ]
  },
  {
   "cell_type": "markdown",
   "metadata": {
    "id": "JA4yKWQevx6X"
   },
   "source": [
    "#### 2.2.2 Determinar los Hiperparametros del Mejor Modelo *OPTIMIZADO*\n",
    "\n",
    "Se tiene que realizar por separado porque el modelo PIPELINE tiene para el modelo 9 de clasificacion SGDClassifier otro formato de prametros"
   ]
  },
  {
   "cell_type": "code",
   "execution_count": null,
   "metadata": {
    "colab": {
     "base_uri": "https://localhost:8080/"
    },
    "id": "whywrKq4Y42e",
    "outputId": "b93232a2-5f56-451c-e0e0-ae433d69c12d"
   },
   "outputs": [],
   "source": [
    "from scipy import stats\n",
    "\n",
    "parametros_ppl = {\n",
    "    'model__loss': ['hinge', 'log', 'squared_loss', 'squared_hinge'],\n",
    "    'model__learning_rate':['constant', 'optimal','adaptive'],\n",
    "    'model__alpha': [0.001, 0.0001, 0.00001, 1.0, 10.0],\n",
    "     }\n",
    "\n",
    "# Determinados los parámetros realizamos una TRANSFORMACIóN del modelo para optimizar el clasificador\n",
    "model_class_opt = Pipeline([('standardscaler', StandardScaler()), ('model',SGDClassifier(random_state=42, eta0=0.1))])\n",
    "\n",
    "# Realizamos el análisis del modelo considerando las opciones definidas como posibles \n",
    "# configuración en el diccionario 'parametros'\n",
    "cv_class_opt = GridSearchCV(model_class_opt, parametros_ppl, scoring ='accuracy', refit=True, cv=5)\n",
    "\n",
    "# Entrenamos el modelo que  calcula los mejores parámetros. Podemos usar la version standard de la \n",
    "# definición de parametros o los parámetros para la versión optimizada\n",
    "cv_class_opt.fit(X_train, y_train);"
   ]
  },
  {
   "cell_type": "code",
   "execution_count": null,
   "metadata": {
    "colab": {
     "base_uri": "https://localhost:8080/",
     "height": 475
    },
    "id": "3RZgK9omwkJP",
    "outputId": "3da69e51-bbfe-44bc-f746-0a479b323ebd"
   },
   "outputs": [],
   "source": [
    "# Realizado el análisis de todas las posibles alternativas de parámetros con la Clase GridSearchCV\n",
    "# obtenemos los resultados y los insertamos en un data frame para su visualización, tomando por orden de mejor a\n",
    "# peor los 6 primeros resultados\n",
    "resultados = cv_class_opt.cv_results_\n",
    "df_resultados = pd.DataFrame(resultados)\n",
    "df_resultados.sort_values('rank_test_score')[:6]"
   ]
  },
  {
   "cell_type": "code",
   "execution_count": null,
   "metadata": {
    "colab": {
     "base_uri": "https://localhost:8080/"
    },
    "id": "l1TN2ESywkEo",
    "outputId": "dfed38b0-1f98-4043-9370-5e14c9f25d40"
   },
   "outputs": [],
   "source": [
    "\n",
    "cv_class_opt.best_estimator_"
   ]
  },
  {
   "cell_type": "code",
   "execution_count": null,
   "metadata": {
    "colab": {
     "base_uri": "https://localhost:8080/"
    },
    "id": "yaWfmxIgwj7v",
    "outputId": "de6444f4-20f6-4773-a964-3007611a20b9"
   },
   "outputs": [],
   "source": [
    "cv_class_opt.best_params_"
   ]
  },
  {
   "cell_type": "markdown",
   "metadata": {
    "id": "QttDfUrAx2Ty"
   },
   "source": [
    "##### 2.2.2.1 Definicion y Entrenemiento del Mejor Modelo\n"
   ]
  },
  {
   "cell_type": "code",
   "execution_count": null,
   "metadata": {
    "id": "EVeSjy4lgXmR"
   },
   "outputs": [],
   "source": [
    "# Mejor modelo CON la optimización \n",
    "best_model_class_opt = Pipeline([\n",
    "    ('standardscaler', StandardScaler()), \n",
    "    ('model',SGDClassifier(\n",
    "            alpha=0.001, loss='hinge', max_iter=3000, \n",
    "            random_state=42, eta0=0.1, learning_rate='adaptive', penalty='l2'\n",
    "        )\n",
    "    )\n",
    "])"
   ]
  },
  {
   "cell_type": "code",
   "execution_count": null,
   "metadata": {
    "colab": {
     "base_uri": "https://localhost:8080/"
    },
    "id": "i1RRYkmr4Fpi",
    "outputId": "eeb1e909-1642-4ce6-fd97-a63075d2eb7d"
   },
   "outputs": [],
   "source": [
    "# Realizamos el entrenamiento del modelo con la funcion fit y le pasamos los datos de entrenamiento\n",
    "best_model_class_opt.fit(X_train, y_train)"
   ]
  },
  {
   "cell_type": "markdown",
   "metadata": {
    "id": "4MZzOg6s0F9F"
   },
   "source": [
    "##### 2.2.2.2 Evaluacion sobre conjunto de TRAINING"
   ]
  },
  {
   "cell_type": "code",
   "execution_count": null,
   "metadata": {
    "id": "c8mXl4Y64Z0_"
   },
   "outputs": [],
   "source": [
    "# Usamos la funcion predict y le pasamos los dato de test a nuestro modelo para que genere una salida\n",
    "y_pred_train = best_model_class_opt.predict(X_train)"
   ]
  },
  {
   "cell_type": "markdown",
   "metadata": {
    "id": "--XX44ax4bKJ"
   },
   "source": [
    "\n",
    "\n",
    "```\n",
    "# This is formatted as code\n",
    "```\n",
    "\n",
    "Calculamos las métricas solicitadas donde comparamos las y_train con las y_pred que son las salidas de nuestro modelo"
   ]
  },
  {
   "cell_type": "code",
   "execution_count": null,
   "metadata": {
    "colab": {
     "base_uri": "https://localhost:8080/"
    },
    "id": "ltRFZK0Lwj24",
    "outputId": "a4dfaef2-826f-46f2-c1ac-02ad2823b022"
   },
   "outputs": [],
   "source": [
    "\n",
    "accuracy_s = accuracy_score(y_train, y_pred_train)\n",
    "print(\"El valor de Accuracy Score : \", accuracy_s)"
   ]
  },
  {
   "cell_type": "code",
   "execution_count": null,
   "metadata": {
    "colab": {
     "base_uri": "https://localhost:8080/"
    },
    "id": "l8dlWAfAwjw6",
    "outputId": "51119dec-8f10-4aed-f9f3-5d7b6dd33369"
   },
   "outputs": [],
   "source": [
    "\n",
    "confusion_m = confusion_matrix(y_train, y_pred_train)\n",
    "print(\"La Matriz de Confusión : \\n\", confusion_m)"
   ]
  },
  {
   "cell_type": "code",
   "execution_count": null,
   "metadata": {
    "colab": {
     "base_uri": "https://localhost:8080/",
     "height": 296
    },
    "id": "XH-7axwhwjqG",
    "outputId": "09dc02e5-8e57-457b-87d5-c75ec686c18e"
   },
   "outputs": [],
   "source": [
    "display = ConfusionMatrixDisplay(confusion_matrix=confusion_m)\n",
    "display.plot() "
   ]
  },
  {
   "cell_type": "code",
   "execution_count": null,
   "metadata": {
    "colab": {
     "base_uri": "https://localhost:8080/"
    },
    "id": "AsqxR6EBwji2",
    "outputId": "3953418d-02b5-442e-a511-db2785f2b9f2"
   },
   "outputs": [],
   "source": [
    "\n",
    "precision_s = precision_score(y_train, y_pred_train, average= None)\n",
    "print(\"El valor de Precision Score : \", precision_s)"
   ]
  },
  {
   "cell_type": "code",
   "execution_count": null,
   "metadata": {
    "colab": {
     "base_uri": "https://localhost:8080/"
    },
    "id": "dgXzydOUwjdk",
    "outputId": "bdb31cd3-76e6-45ec-dd23-764ced2c9e8f"
   },
   "outputs": [],
   "source": [
    "\n",
    "recall_s = recall_score(y_train, y_pred_train, average= None) \n",
    "print(\"El valor de Recall Score : \", recall_s)"
   ]
  },
  {
   "cell_type": "code",
   "execution_count": null,
   "metadata": {
    "colab": {
     "base_uri": "https://localhost:8080/"
    },
    "id": "ZEFKyLNzwjYE",
    "outputId": "6b603baf-af7c-41ab-f5b0-5759ea486143"
   },
   "outputs": [],
   "source": [
    "# Es un promedio quee se calcula con respecto a las metricas de recall_score y presicion_score\n",
    "# (recall_s+precision_s)/2\n",
    "f1_s = f1_score(y_train, y_pred_train, average= None)\n",
    "print(\"El valor de F1 Score : \", f1_s)"
   ]
  },
  {
   "cell_type": "code",
   "execution_count": null,
   "metadata": {
    "colab": {
     "base_uri": "https://localhost:8080/"
    },
    "id": "F3Lc5JgcwjS2",
    "outputId": "8c1adfc2-ddde-48f8-d861-20a63a1a3731"
   },
   "outputs": [],
   "source": [
    "#Matriz de clasificación\n",
    "print(classification_report(y_train, y_pred_train))"
   ]
  },
  {
   "cell_type": "markdown",
   "metadata": {
    "id": "UgwvfP5zdsjU"
   },
   "source": [
    "Con estos parámetros y modelo optimizado, vemos que mejora considerablemente la métrica de precision para la categoría de unos, no así el recall.\n",
    "\n"
   ]
  },
  {
   "cell_type": "markdown",
   "metadata": {
    "id": "z-sIuPLc0qWa"
   },
   "source": [
    "##### 2.2.2.3 Evaluacion sobre conjunto de TEST"
   ]
  },
  {
   "cell_type": "code",
   "execution_count": null,
   "metadata": {
    "id": "l12H4JX_0sBd"
   },
   "outputs": [],
   "source": [
    "# Usamos la funcion predict y le pasamos los dato de test a nuestro modelo para que genere una salida\n",
    "y_pred_test = best_model_class_opt.predict(X_test)"
   ]
  },
  {
   "cell_type": "markdown",
   "metadata": {
    "id": "Ejol7WNr00w2"
   },
   "source": [
    "Calculamos las métricas solicitadas donde comparamos las y_test con las y_pred que son las salidas de nuestro modelo"
   ]
  },
  {
   "cell_type": "code",
   "execution_count": null,
   "metadata": {
    "colab": {
     "base_uri": "https://localhost:8080/"
    },
    "id": "qKsIzTub0r6b",
    "outputId": "8ea517a1-0958-4b1a-d8ec-7013e5c36ad1"
   },
   "outputs": [],
   "source": [
    "\n",
    "accuracy_s = accuracy_score(y_test, y_pred_test)\n",
    "print(\"El valor de Accuracy Score : \", accuracy_s)"
   ]
  },
  {
   "cell_type": "code",
   "execution_count": null,
   "metadata": {
    "colab": {
     "base_uri": "https://localhost:8080/"
    },
    "id": "2tlwbqlK0rzr",
    "outputId": "06885b69-304d-41de-dbf7-cb7dc9230c9d"
   },
   "outputs": [],
   "source": [
    "\n",
    "confusion_m = confusion_matrix(y_test, y_pred_test)\n",
    "print(\"La Matriz de Confusión : \\n\", confusion_m)"
   ]
  },
  {
   "cell_type": "code",
   "execution_count": null,
   "metadata": {
    "colab": {
     "base_uri": "https://localhost:8080/",
     "height": 296
    },
    "id": "0jtoVnUS0rsw",
    "outputId": "705e68e4-b049-486c-9867-fd04af6c9a11"
   },
   "outputs": [],
   "source": [
    "display = ConfusionMatrixDisplay(confusion_matrix=confusion_m)\n",
    "display.plot() "
   ]
  },
  {
   "cell_type": "code",
   "execution_count": null,
   "metadata": {
    "colab": {
     "base_uri": "https://localhost:8080/"
    },
    "id": "wFIX9eB50rkR",
    "outputId": "f6349dd2-ed53-4d9b-cc82-e680378eabf1"
   },
   "outputs": [],
   "source": [
    "\n",
    "precision_s = precision_score(y_test, y_pred_test, average= None)\n",
    "print(\"El valor de Precision Score : \", precision_s)"
   ]
  },
  {
   "cell_type": "code",
   "execution_count": null,
   "metadata": {
    "colab": {
     "base_uri": "https://localhost:8080/"
    },
    "id": "-qzU-qPN1HXR",
    "outputId": "a15b7d42-b20b-4e2a-8911-0e52a3c17c74"
   },
   "outputs": [],
   "source": [
    "\n",
    "recall_s = recall_score(y_test, y_pred_test, average= None) \n",
    "print(\"El valor de Recall Score : \", recall_s)"
   ]
  },
  {
   "cell_type": "code",
   "execution_count": null,
   "metadata": {
    "colab": {
     "base_uri": "https://localhost:8080/"
    },
    "id": "P5ytD4YK0rcN",
    "outputId": "9b492146-5083-4f33-ab3c-c41c12bef434"
   },
   "outputs": [],
   "source": [
    "# Es un promedio quee se calcula con respecto a las metricas de recall_score y presicion_score\n",
    "# (recall_s+precision_s)/2\n",
    "f1_s = f1_score(y_test, y_pred_test, average= None)\n",
    "print(\"El valor de F1 Score : \", f1_s)"
   ]
  },
  {
   "cell_type": "code",
   "execution_count": null,
   "metadata": {
    "colab": {
     "base_uri": "https://localhost:8080/"
    },
    "id": "ma5HFa130q5a",
    "outputId": "00344717-b796-4043-bd6d-7801851817c6"
   },
   "outputs": [],
   "source": [
    "# Matriz de clasificación\n",
    "print(classification_report(y_test, y_pred_test))"
   ]
  },
  {
   "cell_type": "markdown",
   "metadata": {
    "id": "LwryjsaHeF4_"
   },
   "source": [
    "También con los datos de test se observa la mejora en el precision de la categoría uno, aunque no así en recall. También vemos que la métrica precision empeora en la categoría cero."
   ]
  },
  {
   "cell_type": "markdown",
   "metadata": {
    "id": "-i-gMSPPozOi"
   },
   "source": [
    "## Ejercicio 3: Árboles de Decisión\n",
    "\n",
    "En este ejercicio se entrenarán árboles de decisión para predecir la variable objetivo.\n",
    "\n",
    "Para ello, deberán utilizar la clase DecisionTreeClassifier de scikit-learn.\n",
    "\n",
    "Documentación:\n",
    "- https://scikit-learn.org/stable/modules/tree.html\n",
    "  - https://scikit-learn.org/stable/modules/tree.html#tips-on-practical-use\n",
    "- https://scikit-learn.org/stable/modules/generated/sklearn.tree.DecisionTreeClassifier.html\n",
    "- https://scikit-learn.org/stable/auto_examples/tree/plot_unveil_tree_structure.html"
   ]
  },
  {
   "cell_type": "markdown",
   "metadata": {
    "id": "e-3NbkhkozOi"
   },
   "source": [
    "### Ejercicio 3.1: DecisionTreeClassifier con hiperparámetros por defecto\n",
    "\n",
    "Entrenar y evaluar el clasificador DecisionTreeClassifier usando los valores por omisión de scikit-learn para todos los parámetros. Únicamente **fijar la semilla aleatoria** para hacer repetible el experimento.\n",
    "\n",
    "Evaluar sobre el conjunto de **entrenamiento** y sobre el conjunto de **evaluación**, reportando:\n",
    "- Accuracy\n",
    "- Precision\n",
    "- Recall\n",
    "- F1\n",
    "- matriz de confusión\n"
   ]
  },
  {
   "cell_type": "markdown",
   "metadata": {
    "id": "3EXo_AKcXL8t"
   },
   "source": [
    "#### 3.1.1 Definicion y Entrenamiento del modelo"
   ]
  },
  {
   "cell_type": "code",
   "execution_count": null,
   "metadata": {
    "id": "A8OzD5Ne2SfT"
   },
   "outputs": [],
   "source": [
    "# Utilizamos la función de sklearn para generar el modelo de DecisionTreeClassifier en la \n",
    "#variable model con una semilla de 99\n",
    "\n",
    "model_tree_std = DecisionTreeClassifier(random_state=99)\n",
    "\n",
    "# Realizamos el entrenamiento de la variable con la funcion fit y le pasamos los datos de entrenamiento\n",
    "model = model_tree_std.fit(X_train,y_train)"
   ]
  },
  {
   "cell_type": "markdown",
   "metadata": {
    "id": "euM6T6U8X8W1"
   },
   "source": [
    "####3.1.2 Evaluacion sobre conjunto de TRAINING"
   ]
  },
  {
   "cell_type": "code",
   "execution_count": null,
   "metadata": {
    "id": "Jbqt-HtD2SYq"
   },
   "outputs": [],
   "source": [
    "# Usamos la funcion predict y le pasamos los datos de test a nuestro modelo para que genere una salida\n",
    "y_pred_train = model_tree_std.predict(X_train)"
   ]
  },
  {
   "cell_type": "markdown",
   "metadata": {
    "id": "cgQw2eWGZRtQ"
   },
   "source": [
    "Calculamos las metricas solicitadas donde comparamos las y_train con las y_pred que son las salidas de nuestro modelo\n"
   ]
  },
  {
   "cell_type": "code",
   "execution_count": null,
   "metadata": {
    "colab": {
     "base_uri": "https://localhost:8080/"
    },
    "id": "LIsW331x2SRA",
    "outputId": "2ab28009-974e-4717-ec54-044e2daec004"
   },
   "outputs": [],
   "source": [
    "#Calculamos las métricas del modelo\n",
    "accuracy_s = accuracy_score(y_train, y_pred_train)\n",
    "print(\"El valor de Accuracy Score : \", accuracy_s)"
   ]
  },
  {
   "cell_type": "code",
   "execution_count": null,
   "metadata": {
    "colab": {
     "base_uri": "https://localhost:8080/"
    },
    "id": "qX9_FTMI2SLw",
    "outputId": "6dd263b3-2c4c-45ad-e645-5ebf94e6ca8f"
   },
   "outputs": [],
   "source": [
    "# La lectura de esta matriz debe particularmente ser interprestada como las predicciones en la diagonal (correctas)y en la antidiagonal (incorrectas)\n",
    "confusion_m = confusion_matrix(y_train, y_pred_train)\n",
    "print(\"La Matriz de Confusión : \\n\", confusion_m)"
   ]
  },
  {
   "cell_type": "code",
   "execution_count": null,
   "metadata": {
    "colab": {
     "base_uri": "https://localhost:8080/",
     "height": 296
    },
    "id": "W41WgT3i2SFB",
    "outputId": "0b0c9681-98c8-4cfb-90e2-30375f163fd4"
   },
   "outputs": [],
   "source": [
    "display = ConfusionMatrixDisplay(confusion_matrix=confusion_m)\n",
    "display.plot() "
   ]
  },
  {
   "cell_type": "code",
   "execution_count": null,
   "metadata": {
    "colab": {
     "base_uri": "https://localhost:8080/"
    },
    "id": "NRw32TCr2R55",
    "outputId": "40d36f3c-c760-4cce-c495-c45abaa2ff3f"
   },
   "outputs": [],
   "source": [
    "precision_s = precision_score(y_train, y_pred_train, average= None)\n",
    "print(\"El valor de Precision Score : \", precision_s)"
   ]
  },
  {
   "cell_type": "code",
   "execution_count": null,
   "metadata": {
    "colab": {
     "base_uri": "https://localhost:8080/"
    },
    "id": "9LsSvgmB2R-r",
    "outputId": "aeebb9cc-8a48-4d0a-8675-3a78bd1b8b9a"
   },
   "outputs": [],
   "source": [
    "\n",
    "recall_s = recall_score(y_train, y_pred_train, average= None) \n",
    "print(\"El valor de Recall Score : \", recall_s)"
   ]
  },
  {
   "cell_type": "code",
   "execution_count": null,
   "metadata": {
    "colab": {
     "base_uri": "https://localhost:8080/"
    },
    "id": "_Gnm19-X2Ry6",
    "outputId": "3ba867e5-b592-480e-a781-242deb53cb65"
   },
   "outputs": [],
   "source": [
    "# Es un promedio quee se calcula con respecto a las metricas de recall_score y presicion_score\n",
    "# (recall_s+precision_s)/2\n",
    "f1_s = f1_score(y_train, y_pred_train, average= None)\n",
    "print(\"El valor de F1 Score : \", f1_s)"
   ]
  },
  {
   "cell_type": "code",
   "execution_count": null,
   "metadata": {
    "colab": {
     "base_uri": "https://localhost:8080/"
    },
    "id": "LAVR4CvL2Rt9",
    "outputId": "9155b434-d22d-40ba-d74c-0ad718b27761"
   },
   "outputs": [],
   "source": [
    "# Con este reporte podemos ver todos los parametros que analisamos antes y se arma la matriz de clasificacion\n",
    "print(classification_report(y_train, y_pred_train))"
   ]
  },
  {
   "cell_type": "markdown",
   "metadata": {
    "id": "g4Smlx5oU9Bo"
   },
   "source": [
    "Lo llamativo es que las métrcas dan un 100% de accuracy, precision y recall (para ambos valores). Podría ser un problema de overfitting. A continuación analizamos las métricas con los datos de test. "
   ]
  },
  {
   "cell_type": "markdown",
   "metadata": {
    "id": "MCX3oDyJa1i3"
   },
   "source": [
    "\n",
    "\n",
    "####3.1.3 Evaluación sobre el conjunto de TEST"
   ]
  },
  {
   "cell_type": "code",
   "execution_count": null,
   "metadata": {
    "id": "kCh5S4lG2RoR"
   },
   "outputs": [],
   "source": [
    "# Usamos la función predict y le pasamos los dato de test a nuestro modelo para que genere una salida\n",
    "y_pred_test = model_tree_std.predict(X_test)"
   ]
  },
  {
   "cell_type": "markdown",
   "metadata": {
    "id": "7w43bTM6bMP8"
   },
   "source": [
    "Calculamos las metricas solicitadas donde comparamos las y_test con las y_pred que son las salidas de nuestro modelo"
   ]
  },
  {
   "cell_type": "code",
   "execution_count": null,
   "metadata": {
    "colab": {
     "base_uri": "https://localhost:8080/"
    },
    "id": "di0sPuo8bMwy",
    "outputId": "b922d1d6-5c5f-4da2-de35-da412f444082"
   },
   "outputs": [],
   "source": [
    "\n",
    "accuracy_s = accuracy_score(y_test, y_pred_test)\n",
    "print(\"El valor de Accuracy Score : \", accuracy_s)"
   ]
  },
  {
   "cell_type": "code",
   "execution_count": null,
   "metadata": {
    "colab": {
     "base_uri": "https://localhost:8080/"
    },
    "id": "xnTesEvibON8",
    "outputId": "a95abc3a-8bdf-43f5-b86e-367eff5d68a3"
   },
   "outputs": [],
   "source": [
    "\n",
    "confusion_m = confusion_matrix(y_test, y_pred_test)\n",
    "print(\"La Matriz de Confusión : \\n\", confusion_m)"
   ]
  },
  {
   "cell_type": "code",
   "execution_count": null,
   "metadata": {
    "colab": {
     "base_uri": "https://localhost:8080/",
     "height": 296
    },
    "id": "QBN8qmd7bOEi",
    "outputId": "7aa2187e-2e10-4a24-97cc-49c0f1764e61"
   },
   "outputs": [],
   "source": [
    "display = ConfusionMatrixDisplay(confusion_matrix=confusion_m)\n",
    "display.plot() "
   ]
  },
  {
   "cell_type": "code",
   "execution_count": null,
   "metadata": {
    "colab": {
     "base_uri": "https://localhost:8080/"
    },
    "id": "P6h5L_9tbNuo",
    "outputId": "2c35ce52-8515-4c56-d2f3-6ac4832406df"
   },
   "outputs": [],
   "source": [
    "\n",
    "precision_s = precision_score(y_test, y_pred_test, average= None)\n",
    "print(\"El valor de Precision Score : \", precision_s)"
   ]
  },
  {
   "cell_type": "code",
   "execution_count": null,
   "metadata": {
    "colab": {
     "base_uri": "https://localhost:8080/"
    },
    "id": "3_jeM_PLbN6g",
    "outputId": "6d53e6d0-d9cc-4e4f-8baa-78b4a8deb889"
   },
   "outputs": [],
   "source": [
    "\n",
    "recall_s = recall_score(y_test, y_pred_test, average= None) \n",
    "print(\"El valor de Recall Score : \", recall_s)"
   ]
  },
  {
   "cell_type": "code",
   "execution_count": null,
   "metadata": {
    "colab": {
     "base_uri": "https://localhost:8080/"
    },
    "id": "0ln5Vfy1bNgx",
    "outputId": "645f9634-942b-4bd5-cc4c-9b04512d7d17"
   },
   "outputs": [],
   "source": [
    "# Es un promedio quee se calcula con respecto a las metricas de recall_score y presicion_score\n",
    "# (recall_s+precision_s)/2\n",
    "f1_s = f1_score(y_test, y_pred_test, average= None)\n",
    "print(\"El valor de F1 Score : \", f1_s)"
   ]
  },
  {
   "cell_type": "code",
   "execution_count": null,
   "metadata": {
    "colab": {
     "base_uri": "https://localhost:8080/"
    },
    "id": "EYQWWjJFbNUg",
    "outputId": "af098697-0a77-41d5-b663-f052aafd3fd5"
   },
   "outputs": [],
   "source": [
    "# Con este reporte podemos ver todos los parametros que analizamos antes y se arma la matriz de clasificación\n",
    "print(classification_report(y_test, y_pred_test))"
   ]
  },
  {
   "cell_type": "markdown",
   "metadata": {
    "id": "cyXdmayiVnMj"
   },
   "source": [
    "Para el caso de los datos de test el modelo no es tan bueno, sobretodo para clasificar los valores unos, por lo cual podemos pensar que con los hiperparámetros por default del DecisionTreeClassifier estamos generando un problema de overfitting. "
   ]
  },
  {
   "cell_type": "markdown",
   "metadata": {
    "id": "X07wznj3fTqp"
   },
   "source": [
    "####3.1.4 Diseño del Arbol de Desicion del modelo"
   ]
  },
  {
   "cell_type": "code",
   "execution_count": null,
   "metadata": {
    "colab": {
     "base_uri": "https://localhost:8080/",
     "height": 1000
    },
    "id": "8Cv4Q6FIcuAQ",
    "outputId": "bcc181ff-b439-406b-e59d-28f40590817f"
   },
   "outputs": [],
   "source": [
    "plt.figure(figsize=[35, 35])\n",
    "plot_tree(model_tree_std, filled=True, fontsize=10);"
   ]
  },
  {
   "cell_type": "markdown",
   "metadata": {
    "id": "cr8yedjbozOj"
   },
   "source": [
    "### Ejercicio 3.2: Ajuste de Hiperparámetros\n",
    "\n",
    "Seleccionar valores para los hiperparámetros principales del DecisionTreeClassifier. Como mínimo, probar diferentes criterios de partición (criterion), profundidad máxima del árbol (max_depth), y cantidad mínima de samples por hoja (min_samples_leaf).\n",
    "\n",
    "Para ello, usar grid-search y 5-fold cross-validation sobre el conjunto de entrenamiento para explorar muchas combinaciones posibles de valores.\n",
    "\n",
    "Reportar accuracy promedio y varianza para todas las configuraciones.\n",
    "\n",
    "Para la mejor configuración encontrada, evaluar sobre el conjunto de **entrenamiento** y sobre el conjunto de **evaluación**, reportando:\n",
    "- Accuracy\n",
    "- Precision\n",
    "- Recall\n",
    "- F1\n",
    "- matriz de confusión\n",
    "\n",
    "\n",
    "Documentación:\n",
    "- https://scikit-learn.org/stable/modules/grid_search.html\n",
    "- https://scikit-learn.org/stable/modules/generated/sklearn.model_selection.GridSearchCV.html"
   ]
  },
  {
   "cell_type": "markdown",
   "metadata": {
    "id": "67vf1ydy53iI"
   },
   "source": [
    "#### 3.2.1 Determinar los Hiperparametros del Mejor Modelo"
   ]
  },
  {
   "cell_type": "code",
   "execution_count": null,
   "metadata": {
    "colab": {
     "base_uri": "https://localhost:8080/"
    },
    "id": "CcNbdkdt5yFG",
    "outputId": "40a4f0d8-a0e4-491b-fdb4-a24ec8a82432"
   },
   "outputs": [],
   "source": [
    "# Utilizamos la función de sklearn para generar el modelo de DecisionTreeClassifier en la \n",
    "#variable model_tree para definir los mejores parametros ya tomo una semilla de 99\n",
    "model_tree = DecisionTreeClassifier(random_state=99)\n",
    "\n",
    "#Observamos los hiperparametros que podemos modificar del modelo para ajustarlo mejor\n",
    "model_tree.get_params()"
   ]
  },
  {
   "cell_type": "code",
   "execution_count": null,
   "metadata": {
    "colab": {
     "base_uri": "https://localhost:8080/"
    },
    "id": "qId0pinD5yAt",
    "outputId": "584088de-a265-43e8-ffd1-6101e8e29001"
   },
   "outputs": [],
   "source": [
    "# Armamos una matriz de vectores donde colocamos las alternativas para cada parámetro\n",
    "# que vamos a considerar. Son 'criterion', 'max_depth', 'min_samples_leaf', 'random_state'\n",
    "parametros = {\n",
    "    'random_state':[99, 56, 23, 45],\n",
    "    'criterion': ['entropy', 'gini'], \n",
    "    'max_depth':[5, 6, 7, 8, 9, 10, 20, 50, 100, 200],\n",
    "    'min_samples_leaf': [1, 5, 10, 50]}\n",
    "parametros    "
   ]
  },
  {
   "cell_type": "code",
   "execution_count": null,
   "metadata": {
    "colab": {
     "base_uri": "https://localhost:8080/"
    },
    "id": "INgLv_8o5x6F",
    "outputId": "95b6e5e2-791b-4a75-9971-6f0bb98f49c3"
   },
   "outputs": [],
   "source": [
    "cv_tree = GridSearchCV(model_tree, parametros, scoring ='accuracy', refit=True, cv=5)\n",
    "cv_tree.fit(X_train, y_train)"
   ]
  },
  {
   "cell_type": "code",
   "execution_count": null,
   "metadata": {
    "colab": {
     "base_uri": "https://localhost:8080/",
     "height": 683
    },
    "id": "qrRcf58L5x0c",
    "outputId": "779b5a33-47d7-4253-ff60-a70f33e57939"
   },
   "outputs": [],
   "source": [
    "# Realizado el analisis de todas las posibles alternativas de prarametros en la Clase GridSearchCV\n",
    "# tomamos los resultados y los insertamos en un dataframe para su visualización\n",
    "resultados = cv_tree.cv_results_\n",
    "df_resultados = pd.DataFrame(resultados)\n",
    "df_resultados.sort_values('rank_test_score')[:6]"
   ]
  },
  {
   "cell_type": "code",
   "execution_count": null,
   "metadata": {
    "colab": {
     "base_uri": "https://localhost:8080/"
    },
    "id": "2DA1KlBg5xqt",
    "outputId": "907dc6ba-ea58-473e-e8d7-87a54aefd5ea"
   },
   "outputs": [],
   "source": [
    "# Con este parametro de la Clase GridSearchCV podemos tomar los parametros que calculo para \n",
    "# determinar los hiperparámetros que mejor predicen los datos\n",
    "cv_tree.best_estimator_"
   ]
  },
  {
   "cell_type": "code",
   "execution_count": null,
   "metadata": {
    "colab": {
     "base_uri": "https://localhost:8080/"
    },
    "id": "RlLXTEdP5xi9",
    "outputId": "4b117729-1c4c-4d96-debf-27c3f431e505"
   },
   "outputs": [],
   "source": [
    "cv_tree.best_params_"
   ]
  },
  {
   "cell_type": "markdown",
   "metadata": {
    "id": "8W76n0oxD90r"
   },
   "source": [
    "#### 3.2.2 Definicion y Entrenemiento del Mejor Modelo"
   ]
  },
  {
   "cell_type": "code",
   "execution_count": null,
   "metadata": {
    "id": "hfeHwnCz5xej"
   },
   "outputs": [],
   "source": [
    "best_model_tree = DecisionTreeClassifier(criterion='gini', max_depth=7, min_samples_leaf=10, random_state=56)"
   ]
  },
  {
   "cell_type": "code",
   "execution_count": null,
   "metadata": {
    "colab": {
     "base_uri": "https://localhost:8080/"
    },
    "id": "_bWHay7zFZIf",
    "outputId": "5fb05eb2-da8d-4918-aaf1-2e530167f6b8"
   },
   "outputs": [],
   "source": [
    "# Realizamos el entrenamiento de la variable con la funcion fit y le pasamos los datos de entrenamiento\n",
    "best_model_tree.fit(X_train, y_train)"
   ]
  },
  {
   "cell_type": "markdown",
   "metadata": {
    "id": "Mj4CwPXBFilM"
   },
   "source": [
    "#### 3.2.2 Evaluacion sobre conjunto de TRAINING"
   ]
  },
  {
   "cell_type": "code",
   "execution_count": null,
   "metadata": {
    "id": "4PjtXd1YFZA8"
   },
   "outputs": [],
   "source": [
    "# Usamos la funcion predict y le pasamos los datos de entrenamiento a nuestro modelo para que genere una salida\n",
    "y_pred_train = best_model_tree.predict(X_train)"
   ]
  },
  {
   "cell_type": "markdown",
   "metadata": {
    "id": "1zFD8SudFqpv"
   },
   "source": [
    "Calculamos las metricas solicitadas donde comparamos las y_train con las y_pred que son las salidas de nuestro modelo"
   ]
  },
  {
   "cell_type": "code",
   "execution_count": null,
   "metadata": {
    "colab": {
     "base_uri": "https://localhost:8080/"
    },
    "id": "CeMnBOKjFY8R",
    "outputId": "6608b445-74a5-4a39-cdcc-3df02a401e9f"
   },
   "outputs": [],
   "source": [
    "#Calculamos las métricas\n",
    "accuracy_s = accuracy_score(y_train, y_pred_train)\n",
    "print(\"El valor de Accuracy Score : \", accuracy_s)"
   ]
  },
  {
   "cell_type": "code",
   "execution_count": null,
   "metadata": {
    "colab": {
     "base_uri": "https://localhost:8080/"
    },
    "id": "JYa8ZMfMFY26",
    "outputId": "84138cf4-4677-486a-f12d-f004030f8715"
   },
   "outputs": [],
   "source": [
    "\n",
    "confusion_m = confusion_matrix(y_train, y_pred_train)\n",
    "print(\"La Matriz de Confusión : \\n\", confusion_m)"
   ]
  },
  {
   "cell_type": "code",
   "execution_count": null,
   "metadata": {
    "colab": {
     "base_uri": "https://localhost:8080/",
     "height": 297
    },
    "id": "r7bn4XPMFYwZ",
    "outputId": "23e6d0fa-95ff-4865-9ae0-46c2dd5881e4"
   },
   "outputs": [],
   "source": [
    "display = ConfusionMatrixDisplay(confusion_matrix=confusion_m)\n",
    "display.plot() "
   ]
  },
  {
   "cell_type": "code",
   "execution_count": null,
   "metadata": {
    "colab": {
     "base_uri": "https://localhost:8080/"
    },
    "id": "KUeG0wOQFYlz",
    "outputId": "2db2f2e0-4f59-4759-ceee-bef01bc3a4c9"
   },
   "outputs": [],
   "source": [
    "\n",
    "precision_s = precision_score(y_train, y_pred_train, average= None)\n",
    "print(\"El valor de Precision Score : \", precision_s)"
   ]
  },
  {
   "cell_type": "code",
   "execution_count": null,
   "metadata": {
    "colab": {
     "base_uri": "https://localhost:8080/"
    },
    "id": "UtFlvDEhFYro",
    "outputId": "77568133-3823-4481-d1d5-3cc3f8476f51"
   },
   "outputs": [],
   "source": [
    "\n",
    "recall_s = recall_score(y_train, y_pred_train, average= None) \n",
    "print(\"El valor de Recall Score : \", recall_s)"
   ]
  },
  {
   "cell_type": "code",
   "execution_count": null,
   "metadata": {
    "colab": {
     "base_uri": "https://localhost:8080/"
    },
    "id": "gMixuHr5FYhf",
    "outputId": "11eb5416-5376-4e33-be9b-70ce87de1ac4"
   },
   "outputs": [],
   "source": [
    "# Es un promedio quee se calcula con respecto a las metricas de recall_score y presicion_score\n",
    "# (recall_s+precision_s)/2\n",
    "f1_s = f1_score(y_train, y_pred_train, average= None)\n",
    "print(\"El valor de F1 Score : \", f1_s)"
   ]
  },
  {
   "cell_type": "code",
   "execution_count": null,
   "metadata": {
    "colab": {
     "base_uri": "https://localhost:8080/"
    },
    "id": "kIRfiTEdFYcI",
    "outputId": "65c8f337-fc55-4624-92a9-5b1c64ada627"
   },
   "outputs": [],
   "source": [
    "# Con este reporte podemos ver todos los parámetros que analizamos antes y se arma la matriz de clasificación\n",
    "print(classification_report(y_train, y_pred_train))"
   ]
  },
  {
   "cell_type": "markdown",
   "metadata": {
    "id": "9h55FTnXXHdL"
   },
   "source": [
    "Vemos que el modelo clasifica mejor los ceros que los unos. No parece haber problemas de overfitting en este caso. A continuación vamos a analizar los resultados sobre el conjunto de test para confirmarlo."
   ]
  },
  {
   "cell_type": "markdown",
   "metadata": {
    "id": "fSzgA0n3HTzC"
   },
   "source": [
    "#### 3.2.3 Evaluacion sobre conjunto de TEST"
   ]
  },
  {
   "cell_type": "code",
   "execution_count": null,
   "metadata": {
    "id": "tzHekPdSHYm9"
   },
   "outputs": [],
   "source": [
    "# Usamos la función predict y le pasamos los dato de test a nuestro modelo para que genere una salida\n",
    "y_pred_test = best_model_tree.predict(X_test)"
   ]
  },
  {
   "cell_type": "markdown",
   "metadata": {
    "id": "FhOXNqvoHpjL"
   },
   "source": [
    "Calculamos las metricas solicitadas donde comparamos las y_test con las y_pred que son las salidas de nuestro modelo"
   ]
  },
  {
   "cell_type": "code",
   "execution_count": null,
   "metadata": {
    "colab": {
     "base_uri": "https://localhost:8080/"
    },
    "id": "-mvMAm7FHYiw",
    "outputId": "09edf282-e9f7-4caa-bcae-93a01c1a9cfe"
   },
   "outputs": [],
   "source": [
    "\n",
    "accuracy_s = accuracy_score(y_test, y_pred_test)\n",
    "print(\"El valor de Accuracy Score : \", accuracy_s)"
   ]
  },
  {
   "cell_type": "code",
   "execution_count": null,
   "metadata": {
    "colab": {
     "base_uri": "https://localhost:8080/"
    },
    "id": "djR4zwPAHYev",
    "outputId": "1fdf4c20-a238-4cf0-f719-4e9a8bf25399"
   },
   "outputs": [],
   "source": [
    "\n",
    "confusion_m = confusion_matrix(y_test, y_pred_test)\n",
    "print(\"La Matriz de Confusión : \\n\", confusion_m)"
   ]
  },
  {
   "cell_type": "code",
   "execution_count": null,
   "metadata": {
    "colab": {
     "base_uri": "https://localhost:8080/",
     "height": 296
    },
    "id": "IJy1Kqn_HYYR",
    "outputId": "552f3f8b-7555-4b79-c7f7-3cfddc3b840a"
   },
   "outputs": [],
   "source": [
    "display = ConfusionMatrixDisplay(confusion_matrix=confusion_m)\n",
    "display.plot() "
   ]
  },
  {
   "cell_type": "code",
   "execution_count": null,
   "metadata": {
    "colab": {
     "base_uri": "https://localhost:8080/"
    },
    "id": "QVykTq1AHYLq",
    "outputId": "1c33f574-6188-435d-83ac-fa3216c75af9"
   },
   "outputs": [],
   "source": [
    "\n",
    "precision_s = precision_score(y_test, y_pred_test, average= None)\n",
    "print(\"El valor de Precision Score : \", precision_s)"
   ]
  },
  {
   "cell_type": "code",
   "execution_count": null,
   "metadata": {
    "colab": {
     "base_uri": "https://localhost:8080/"
    },
    "id": "TpU95urKHYQ-",
    "outputId": "4e58e9e4-27db-40cb-b4d5-a564c7b8b01f"
   },
   "outputs": [],
   "source": [
    "\n",
    "recall_s = recall_score(y_test, y_pred_test, average= None) \n",
    "print(\"El valor de Recall Score : \", recall_s)"
   ]
  },
  {
   "cell_type": "code",
   "execution_count": null,
   "metadata": {
    "colab": {
     "base_uri": "https://localhost:8080/"
    },
    "id": "o_lvBdkBHX7w",
    "outputId": "f1d74ebe-e60b-46ac-dfaf-fbe730bb9ccd"
   },
   "outputs": [],
   "source": [
    "# Es un promedio quee se calcula con respecto a las metricas de recall_score y presicion_score\n",
    "# (recall_s+precision_s)/2\n",
    "f1_s = f1_score(y_test, y_pred_test, average= None)\n",
    "print(\"El valor de F1 Score : \", f1_s)"
   ]
  },
  {
   "cell_type": "code",
   "execution_count": null,
   "metadata": {
    "colab": {
     "base_uri": "https://localhost:8080/"
    },
    "id": "cnGJPToTHX2h",
    "outputId": "a5269656-c259-4428-b18b-fdde4946bd5f"
   },
   "outputs": [],
   "source": [
    "# Con este reporte podemos ver todos los parametros que analizamos antes y se arma la matriz de clasificación\n",
    "print(classification_report(y_test, y_pred_test))"
   ]
  },
  {
   "cell_type": "markdown",
   "metadata": {
    "id": "LrTYdZvMXjQh"
   },
   "source": [
    "Vemos que los valores de las métricas son similares (aunque ligeramente inferiores) a los obtenidos con los datos de train."
   ]
  },
  {
   "cell_type": "markdown",
   "metadata": {
    "id": "uA1qEsDiJFUr"
   },
   "source": [
    "####3.2.4 Diseño del Arbol de Desicion del modelo"
   ]
  },
  {
   "cell_type": "code",
   "execution_count": null,
   "metadata": {
    "colab": {
     "base_uri": "https://localhost:8080/",
     "height": 1000
    },
    "id": "Ih0TjZBSHXx2",
    "outputId": "9232180d-7c24-4b8a-cc2a-bccd990f55dc"
   },
   "outputs": [],
   "source": [
    "plt.figure(figsize=[35, 35])\n",
    "plot_tree(best_model_tree, filled=True, fontsize=10);"
   ]
  }
 ],
 "metadata": {
  "colab": {
   "collapsed_sections": [
    "67vf1ydy53iI"
   ],
   "name": "Grupo6_IML_Lab 2.ipynb",
   "provenance": []
  },
  "kernelspec": {
   "display_name": "Python 3",
   "language": "python",
   "name": "python3"
  },
  "language_info": {
   "codemirror_mode": {
    "name": "ipython",
    "version": 3
   },
   "file_extension": ".py",
   "mimetype": "text/x-python",
   "name": "python",
   "nbconvert_exporter": "python",
   "pygments_lexer": "ipython3",
   "version": "3.6.13"
  }
 },
 "nbformat": 4,
 "nbformat_minor": 1
}
